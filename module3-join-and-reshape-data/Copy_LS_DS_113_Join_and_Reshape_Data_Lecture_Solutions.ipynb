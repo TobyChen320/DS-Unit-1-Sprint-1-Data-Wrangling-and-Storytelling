{
 "cells": [
  {
   "cell_type": "markdown",
   "metadata": {
    "colab_type": "text",
    "id": "pmU5YUal1eTZ"
   },
   "source": [
    "Lambda School Data Science\n",
    "\n",
    "*Unit 1, Sprint 1, Module 3*\n",
    "\n",
    "---\n",
    "\n",
    "# Join and Reshape datasets\n",
    "\n",
    "Objectives\n",
    "- concatenate data with pandas\n",
    "- merge data with pandas\n",
    "-  understand tidy data formatting\n",
    "-  melt and pivot data with pandas\n",
    "\n",
    "Links\n",
    "- [Pandas Cheat Sheet](https://github.com/pandas-dev/pandas/blob/master/doc/cheatsheet/Pandas_Cheat_Sheet.pdf)\n",
    "- [Tidy Data](https://en.wikipedia.org/wiki/Tidy_data)\n",
    "  - Combine Data Sets: Standard Joins\n",
    "  - Tidy Data\n",
    "  - Reshaping Data\n",
    "- Python Data Science Handbook\n",
    "  - [Chapter 3.6](https://jakevdp.github.io/PythonDataScienceHandbook/03.06-concat-and-append.html), Combining Datasets: Concat and Append\n",
    "  - [Chapter 3.7](https://jakevdp.github.io/PythonDataScienceHandbook/03.07-merge-and-join.html), Combining Datasets: Merge and Join\n",
    "  - [Chapter 3.8](https://jakevdp.github.io/PythonDataScienceHandbook/03.08-aggregation-and-grouping.html), Aggregation and Grouping\n",
    "  - [Chapter 3.9](https://jakevdp.github.io/PythonDataScienceHandbook/03.09-pivot-tables.html), Pivot Tables\n",
    "  \n",
    "Reference\n",
    "- Pandas Documentation: [Reshaping and Pivot Tables](https://pandas.pydata.org/pandas-docs/stable/reshaping.html)\n",
    "- Modern Pandas, Part 5: [Tidy Data](https://tomaugspurger.github.io/modern-5-tidy.html)\n",
    "- [Hadley Wickham's famous paper](http://vita.had.co.nz/papers/tidy-data.html) on Tidy Data"
   ]
  },
  {
   "cell_type": "markdown",
   "metadata": {
    "colab_type": "text",
    "id": "Zq33sTp2PAer"
   },
   "source": [
    "**Always start with imports**"
   ]
  },
  {
   "cell_type": "code",
   "execution_count": 54,
   "metadata": {
    "colab": {},
    "colab_type": "code",
    "id": "Y5GgUq56PAes"
   },
   "outputs": [],
   "source": [
    "import matplotlib.pyplot as plt\n",
    "%matplotlib inline\n",
    "import pandas as pd\n",
    "import numpy as np\n",
    "import seaborn as sns"
   ]
  },
  {
   "cell_type": "markdown",
   "metadata": {
    "colab_type": "text",
    "id": "6fKF-9GKPAeu"
   },
   "source": [
    "## Part 1: Simple Examples "
   ]
  },
  {
   "cell_type": "markdown",
   "metadata": {
    "colab_type": "text",
    "id": "cGyD6i_wPAev"
   },
   "source": [
    "### 1.1 Concatenate\n",
    "Concatenate sticks dataframes together, either on top of each other, or next to each other."
   ]
  },
  {
   "cell_type": "markdown",
   "metadata": {
    "colab_type": "text",
    "id": "AnfYd8fNPAew"
   },
   "source": [
    "First, let's create two dataframes, `df1` and `df2`."
   ]
  },
  {
   "cell_type": "code",
   "execution_count": 55,
   "metadata": {
    "colab": {
     "base_uri": "https://localhost:8080/",
     "height": 106
    },
    "colab_type": "code",
    "id": "XrodzwvfPAex",
    "outputId": "02c14412-da08-4dfe-da7e-9bc659c747f2"
   },
   "outputs": [
    {
     "data": {
      "text/html": [
       "<div>\n",
       "<style scoped>\n",
       "    .dataframe tbody tr th:only-of-type {\n",
       "        vertical-align: middle;\n",
       "    }\n",
       "\n",
       "    .dataframe tbody tr th {\n",
       "        vertical-align: top;\n",
       "    }\n",
       "\n",
       "    .dataframe thead th {\n",
       "        text-align: right;\n",
       "    }\n",
       "</style>\n",
       "<table border=\"1\" class=\"dataframe\">\n",
       "  <thead>\n",
       "    <tr style=\"text-align: right;\">\n",
       "      <th></th>\n",
       "      <th>letter</th>\n",
       "      <th>number</th>\n",
       "    </tr>\n",
       "  </thead>\n",
       "  <tbody>\n",
       "    <tr>\n",
       "      <th>0</th>\n",
       "      <td>a</td>\n",
       "      <td>1</td>\n",
       "    </tr>\n",
       "    <tr>\n",
       "      <th>1</th>\n",
       "      <td>b</td>\n",
       "      <td>2</td>\n",
       "    </tr>\n",
       "  </tbody>\n",
       "</table>\n",
       "</div>"
      ],
      "text/plain": [
       "  letter  number\n",
       "0      a       1\n",
       "1      b       2"
      ]
     },
     "execution_count": 55,
     "metadata": {},
     "output_type": "execute_result"
    }
   ],
   "source": [
    "# Create df1\n",
    "df1 = pd.DataFrame([['a', 1], ['b', 2]], columns=['letter', 'number'])\n",
    "df1.head()"
   ]
  },
  {
   "cell_type": "code",
   "execution_count": 56,
   "metadata": {
    "colab": {
     "base_uri": "https://localhost:8080/",
     "height": 106
    },
    "colab_type": "code",
    "id": "w6xuqE3gPAe0",
    "outputId": "49c0e76e-6d07-47be-deb6-9692f0b6b4bb"
   },
   "outputs": [
    {
     "data": {
      "text/html": [
       "<div>\n",
       "<style scoped>\n",
       "    .dataframe tbody tr th:only-of-type {\n",
       "        vertical-align: middle;\n",
       "    }\n",
       "\n",
       "    .dataframe tbody tr th {\n",
       "        vertical-align: top;\n",
       "    }\n",
       "\n",
       "    .dataframe thead th {\n",
       "        text-align: right;\n",
       "    }\n",
       "</style>\n",
       "<table border=\"1\" class=\"dataframe\">\n",
       "  <thead>\n",
       "    <tr style=\"text-align: right;\">\n",
       "      <th></th>\n",
       "      <th>letter</th>\n",
       "      <th>number</th>\n",
       "    </tr>\n",
       "  </thead>\n",
       "  <tbody>\n",
       "    <tr>\n",
       "      <th>0</th>\n",
       "      <td>c</td>\n",
       "      <td>3</td>\n",
       "    </tr>\n",
       "    <tr>\n",
       "      <th>1</th>\n",
       "      <td>d</td>\n",
       "      <td>4</td>\n",
       "    </tr>\n",
       "  </tbody>\n",
       "</table>\n",
       "</div>"
      ],
      "text/plain": [
       "  letter  number\n",
       "0      c       3\n",
       "1      d       4"
      ]
     },
     "execution_count": 56,
     "metadata": {},
     "output_type": "execute_result"
    }
   ],
   "source": [
    "# Create df2\n",
    "df2 = pd.DataFrame([['c', 3], ['d', 4]], columns=['letter', 'number'])\n",
    "df2.head()"
   ]
  },
  {
   "cell_type": "code",
   "execution_count": 57,
   "metadata": {
    "colab": {
     "base_uri": "https://localhost:8080/",
     "height": 166
    },
    "colab_type": "code",
    "id": "ES9HHqwvPAe2",
    "outputId": "32b03a5b-87d9-4b79-97d9-ef61b7016fa7"
   },
   "outputs": [
    {
     "data": {
      "text/html": [
       "<div>\n",
       "<style scoped>\n",
       "    .dataframe tbody tr th:only-of-type {\n",
       "        vertical-align: middle;\n",
       "    }\n",
       "\n",
       "    .dataframe tbody tr th {\n",
       "        vertical-align: top;\n",
       "    }\n",
       "\n",
       "    .dataframe thead th {\n",
       "        text-align: right;\n",
       "    }\n",
       "</style>\n",
       "<table border=\"1\" class=\"dataframe\">\n",
       "  <thead>\n",
       "    <tr style=\"text-align: right;\">\n",
       "      <th></th>\n",
       "      <th>letter</th>\n",
       "      <th>number</th>\n",
       "    </tr>\n",
       "  </thead>\n",
       "  <tbody>\n",
       "    <tr>\n",
       "      <th>0</th>\n",
       "      <td>a</td>\n",
       "      <td>1</td>\n",
       "    </tr>\n",
       "    <tr>\n",
       "      <th>1</th>\n",
       "      <td>b</td>\n",
       "      <td>2</td>\n",
       "    </tr>\n",
       "    <tr>\n",
       "      <th>0</th>\n",
       "      <td>c</td>\n",
       "      <td>3</td>\n",
       "    </tr>\n",
       "    <tr>\n",
       "      <th>1</th>\n",
       "      <td>d</td>\n",
       "      <td>4</td>\n",
       "    </tr>\n",
       "  </tbody>\n",
       "</table>\n",
       "</div>"
      ],
      "text/plain": [
       "  letter  number\n",
       "0      a       1\n",
       "1      b       2\n",
       "0      c       3\n",
       "1      d       4"
      ]
     },
     "execution_count": 57,
     "metadata": {},
     "output_type": "execute_result"
    }
   ],
   "source": [
    "# Next, let's stick the dataframes on top of each other using `concat`.\n",
    "# `axis=0` indicates a row operation. Note that 'axis=0' is the default and doesn't have to be specified.\n",
    "df3=pd.concat([df1, df2], axis=0) \n",
    "df3"
   ]
  },
  {
   "cell_type": "code",
   "execution_count": 58,
   "metadata": {
    "colab": {
     "base_uri": "https://localhost:8080/",
     "height": 106
    },
    "colab_type": "code",
    "id": "6lNU3JPMPAe4",
    "outputId": "af09d101-8806-4e62-e104-14ae02a432c2"
   },
   "outputs": [
    {
     "data": {
      "text/html": [
       "<div>\n",
       "<style scoped>\n",
       "    .dataframe tbody tr th:only-of-type {\n",
       "        vertical-align: middle;\n",
       "    }\n",
       "\n",
       "    .dataframe tbody tr th {\n",
       "        vertical-align: top;\n",
       "    }\n",
       "\n",
       "    .dataframe thead th {\n",
       "        text-align: right;\n",
       "    }\n",
       "</style>\n",
       "<table border=\"1\" class=\"dataframe\">\n",
       "  <thead>\n",
       "    <tr style=\"text-align: right;\">\n",
       "      <th></th>\n",
       "      <th>letter</th>\n",
       "      <th>number</th>\n",
       "      <th>letter</th>\n",
       "      <th>number</th>\n",
       "    </tr>\n",
       "  </thead>\n",
       "  <tbody>\n",
       "    <tr>\n",
       "      <th>0</th>\n",
       "      <td>a</td>\n",
       "      <td>1</td>\n",
       "      <td>c</td>\n",
       "      <td>3</td>\n",
       "    </tr>\n",
       "    <tr>\n",
       "      <th>1</th>\n",
       "      <td>b</td>\n",
       "      <td>2</td>\n",
       "      <td>d</td>\n",
       "      <td>4</td>\n",
       "    </tr>\n",
       "  </tbody>\n",
       "</table>\n",
       "</div>"
      ],
      "text/plain": [
       "  letter  number letter  number\n",
       "0      a       1      c       3\n",
       "1      b       2      d       4"
      ]
     },
     "execution_count": 58,
     "metadata": {},
     "output_type": "execute_result"
    }
   ],
   "source": [
    "# Finally, let's stick the dataframes next to each other using `concat`. \n",
    "# Here, `axis=1` indicates a column operation.\n",
    "df4=pd.concat([df1, df2], axis=1)\n",
    "df4"
   ]
  },
  {
   "cell_type": "markdown",
   "metadata": {
    "colab_type": "text",
    "id": "pXU-4ocHPAe6"
   },
   "source": [
    "### 1.2 Merge"
   ]
  },
  {
   "cell_type": "markdown",
   "metadata": {
    "colab_type": "text",
    "id": "2WbRIzZLPAe7"
   },
   "source": [
    "Merging joins two datasets together based on a common key."
   ]
  },
  {
   "cell_type": "code",
   "execution_count": 59,
   "metadata": {
    "colab": {
     "base_uri": "https://localhost:8080/",
     "height": 195
    },
    "colab_type": "code",
    "id": "2XWEA777QLJG",
    "outputId": "f5fc369f-61cc-44ac-f509-27039fd2f93e"
   },
   "outputs": [
    {
     "data": {
      "text/html": [
       "<div>\n",
       "<style scoped>\n",
       "    .dataframe tbody tr th:only-of-type {\n",
       "        vertical-align: middle;\n",
       "    }\n",
       "\n",
       "    .dataframe tbody tr th {\n",
       "        vertical-align: top;\n",
       "    }\n",
       "\n",
       "    .dataframe thead th {\n",
       "        text-align: right;\n",
       "    }\n",
       "</style>\n",
       "<table border=\"1\" class=\"dataframe\">\n",
       "  <thead>\n",
       "    <tr style=\"text-align: right;\">\n",
       "      <th></th>\n",
       "      <th>Symbol</th>\n",
       "      <th>Name</th>\n",
       "    </tr>\n",
       "  </thead>\n",
       "  <tbody>\n",
       "    <tr>\n",
       "      <th>0</th>\n",
       "      <td>AMZN</td>\n",
       "      <td>Amazon</td>\n",
       "    </tr>\n",
       "    <tr>\n",
       "      <th>1</th>\n",
       "      <td>MSFT</td>\n",
       "      <td>Microsoft</td>\n",
       "    </tr>\n",
       "    <tr>\n",
       "      <th>2</th>\n",
       "      <td>FB</td>\n",
       "      <td>Facebook</td>\n",
       "    </tr>\n",
       "    <tr>\n",
       "      <th>3</th>\n",
       "      <td>AAPL</td>\n",
       "      <td>Apple</td>\n",
       "    </tr>\n",
       "    <tr>\n",
       "      <th>4</th>\n",
       "      <td>GOOGL</td>\n",
       "      <td>Google</td>\n",
       "    </tr>\n",
       "  </tbody>\n",
       "</table>\n",
       "</div>"
      ],
      "text/plain": [
       "  Symbol       Name\n",
       "0   AMZN     Amazon\n",
       "1   MSFT  Microsoft\n",
       "2     FB   Facebook\n",
       "3   AAPL      Apple\n",
       "4  GOOGL     Google"
      ]
     },
     "execution_count": 59,
     "metadata": {},
     "output_type": "execute_result"
    }
   ],
   "source": [
    "# stock names\n",
    "stockname = pd.DataFrame({'Symbol': ['AMZN', 'MSFT', 'FB', 'AAPL', 'GOOGL'], 'Name': ['Amazon', 'Microsoft', 'Facebook', 'Apple', 'Google']})\n",
    "stockname"
   ]
  },
  {
   "cell_type": "code",
   "execution_count": 60,
   "metadata": {
    "colab": {
     "base_uri": "https://localhost:8080/",
     "height": 195
    },
    "colab_type": "code",
    "id": "_-2QemENPAe8",
    "outputId": "9d9efd98-9f7d-43b8-ae4f-ae2c19c8fe55"
   },
   "outputs": [
    {
     "data": {
      "text/html": [
       "<div>\n",
       "<style scoped>\n",
       "    .dataframe tbody tr th:only-of-type {\n",
       "        vertical-align: middle;\n",
       "    }\n",
       "\n",
       "    .dataframe tbody tr th {\n",
       "        vertical-align: top;\n",
       "    }\n",
       "\n",
       "    .dataframe thead th {\n",
       "        text-align: right;\n",
       "    }\n",
       "</style>\n",
       "<table border=\"1\" class=\"dataframe\">\n",
       "  <thead>\n",
       "    <tr style=\"text-align: right;\">\n",
       "      <th></th>\n",
       "      <th>Symbol</th>\n",
       "      <th>OpenPrice</th>\n",
       "    </tr>\n",
       "  </thead>\n",
       "  <tbody>\n",
       "    <tr>\n",
       "      <th>0</th>\n",
       "      <td>AAPL</td>\n",
       "      <td>217.51</td>\n",
       "    </tr>\n",
       "    <tr>\n",
       "      <th>1</th>\n",
       "      <td>MSFT</td>\n",
       "      <td>96.54</td>\n",
       "    </tr>\n",
       "    <tr>\n",
       "      <th>2</th>\n",
       "      <td>GOOGL</td>\n",
       "      <td>501.30</td>\n",
       "    </tr>\n",
       "    <tr>\n",
       "      <th>3</th>\n",
       "      <td>FB</td>\n",
       "      <td>51.45</td>\n",
       "    </tr>\n",
       "    <tr>\n",
       "      <th>4</th>\n",
       "      <td>AMZN</td>\n",
       "      <td>1703.34</td>\n",
       "    </tr>\n",
       "  </tbody>\n",
       "</table>\n",
       "</div>"
      ],
      "text/plain": [
       "  Symbol  OpenPrice\n",
       "0   AAPL     217.51\n",
       "1   MSFT      96.54\n",
       "2  GOOGL     501.30\n",
       "3     FB      51.45\n",
       "4   AMZN    1703.34"
      ]
     },
     "execution_count": 60,
     "metadata": {},
     "output_type": "execute_result"
    }
   ],
   "source": [
    "# stock prices.\n",
    "openprice = pd.DataFrame({'Symbol': ['AAPL', 'MSFT', 'GOOGL', 'FB', 'AMZN'], 'OpenPrice': [217.51, 96.54, 501.3, 51.45, 1703.34]})\n",
    "openprice"
   ]
  },
  {
   "cell_type": "code",
   "execution_count": 61,
   "metadata": {
    "colab": {
     "base_uri": "https://localhost:8080/",
     "height": 195
    },
    "colab_type": "code",
    "id": "S1c_LpJrPAfA",
    "outputId": "fbe6a1ae-02fd-4432-a4ab-e8ba41ea6b01"
   },
   "outputs": [
    {
     "data": {
      "text/html": [
       "<div>\n",
       "<style scoped>\n",
       "    .dataframe tbody tr th:only-of-type {\n",
       "        vertical-align: middle;\n",
       "    }\n",
       "\n",
       "    .dataframe tbody tr th {\n",
       "        vertical-align: top;\n",
       "    }\n",
       "\n",
       "    .dataframe thead th {\n",
       "        text-align: right;\n",
       "    }\n",
       "</style>\n",
       "<table border=\"1\" class=\"dataframe\">\n",
       "  <thead>\n",
       "    <tr style=\"text-align: right;\">\n",
       "      <th></th>\n",
       "      <th>Symbol</th>\n",
       "      <th>OpenPrice</th>\n",
       "      <th>Name</th>\n",
       "    </tr>\n",
       "  </thead>\n",
       "  <tbody>\n",
       "    <tr>\n",
       "      <th>0</th>\n",
       "      <td>AAPL</td>\n",
       "      <td>217.51</td>\n",
       "      <td>Apple</td>\n",
       "    </tr>\n",
       "    <tr>\n",
       "      <th>1</th>\n",
       "      <td>MSFT</td>\n",
       "      <td>96.54</td>\n",
       "      <td>Microsoft</td>\n",
       "    </tr>\n",
       "    <tr>\n",
       "      <th>2</th>\n",
       "      <td>GOOGL</td>\n",
       "      <td>501.30</td>\n",
       "      <td>Google</td>\n",
       "    </tr>\n",
       "    <tr>\n",
       "      <th>3</th>\n",
       "      <td>FB</td>\n",
       "      <td>51.45</td>\n",
       "      <td>Facebook</td>\n",
       "    </tr>\n",
       "    <tr>\n",
       "      <th>4</th>\n",
       "      <td>AMZN</td>\n",
       "      <td>1703.34</td>\n",
       "      <td>Amazon</td>\n",
       "    </tr>\n",
       "  </tbody>\n",
       "</table>\n",
       "</div>"
      ],
      "text/plain": [
       "  Symbol  OpenPrice       Name\n",
       "0   AAPL     217.51      Apple\n",
       "1   MSFT      96.54  Microsoft\n",
       "2  GOOGL     501.30     Google\n",
       "3     FB      51.45   Facebook\n",
       "4   AMZN    1703.34     Amazon"
      ]
     },
     "execution_count": 61,
     "metadata": {},
     "output_type": "execute_result"
    }
   ],
   "source": [
    "# Merge these dataframes.\n",
    "named_stocks=pd.merge(openprice,  stockname)\n",
    "named_stocks"
   ]
  },
  {
   "cell_type": "code",
   "execution_count": 62,
   "metadata": {
    "colab": {
     "base_uri": "https://localhost:8080/",
     "height": 195
    },
    "colab_type": "code",
    "id": "wVqifocPPAfC",
    "outputId": "7dafa980-231b-4a95-c7ab-cda7eda1ca98"
   },
   "outputs": [
    {
     "data": {
      "text/html": [
       "<div>\n",
       "<style scoped>\n",
       "    .dataframe tbody tr th:only-of-type {\n",
       "        vertical-align: middle;\n",
       "    }\n",
       "\n",
       "    .dataframe tbody tr th {\n",
       "        vertical-align: top;\n",
       "    }\n",
       "\n",
       "    .dataframe thead th {\n",
       "        text-align: right;\n",
       "    }\n",
       "</style>\n",
       "<table border=\"1\" class=\"dataframe\">\n",
       "  <thead>\n",
       "    <tr style=\"text-align: right;\">\n",
       "      <th></th>\n",
       "      <th>Symbol</th>\n",
       "      <th>52wkHigh</th>\n",
       "    </tr>\n",
       "  </thead>\n",
       "  <tbody>\n",
       "    <tr>\n",
       "      <th>0</th>\n",
       "      <td>FB</td>\n",
       "      <td>60.79</td>\n",
       "    </tr>\n",
       "    <tr>\n",
       "      <th>1</th>\n",
       "      <td>AMZN</td>\n",
       "      <td>2050.49</td>\n",
       "    </tr>\n",
       "    <tr>\n",
       "      <th>2</th>\n",
       "      <td>AAPL</td>\n",
       "      <td>233.47</td>\n",
       "    </tr>\n",
       "    <tr>\n",
       "      <th>3</th>\n",
       "      <td>MSFT</td>\n",
       "      <td>110.11</td>\n",
       "    </tr>\n",
       "    <tr>\n",
       "      <th>4</th>\n",
       "      <td>NFLX</td>\n",
       "      <td>303.22</td>\n",
       "    </tr>\n",
       "  </tbody>\n",
       "</table>\n",
       "</div>"
      ],
      "text/plain": [
       "  Symbol  52wkHigh\n",
       "0     FB     60.79\n",
       "1   AMZN   2050.49\n",
       "2   AAPL    233.47\n",
       "3   MSFT    110.11\n",
       "4   NFLX    303.22"
      ]
     },
     "execution_count": 62,
     "metadata": {},
     "output_type": "execute_result"
    }
   ],
   "source": [
    "# Create a 3rd dataset of weekly highs\n",
    "wkhigh = pd.DataFrame({'Symbol': ['FB', 'AMZN', 'AAPL', 'MSFT', 'NFLX'], '52wkHigh': [60.79, 2050.49, 233.47, 110.11, 303.22]})\n",
    "wkhigh"
   ]
  },
  {
   "cell_type": "markdown",
   "metadata": {
    "colab_type": "text",
    "id": "tbjIOcdds-IL"
   },
   "source": [
    "The 'on' parameter indicates a specific column that is contained in both dataframes. We use it to look up and copy information from the two df's into a combined df."
   ]
  },
  {
   "cell_type": "code",
   "execution_count": 63,
   "metadata": {
    "colab": {
     "base_uri": "https://localhost:8080/",
     "height": 225
    },
    "colab_type": "code",
    "id": "JQBwUUAoPAfE",
    "outputId": "53ea5d45-1d73-4af2-f9b4-a5ac02bc8dbc"
   },
   "outputs": [
    {
     "data": {
      "text/html": [
       "<div>\n",
       "<style scoped>\n",
       "    .dataframe tbody tr th:only-of-type {\n",
       "        vertical-align: middle;\n",
       "    }\n",
       "\n",
       "    .dataframe tbody tr th {\n",
       "        vertical-align: top;\n",
       "    }\n",
       "\n",
       "    .dataframe thead th {\n",
       "        text-align: right;\n",
       "    }\n",
       "</style>\n",
       "<table border=\"1\" class=\"dataframe\">\n",
       "  <thead>\n",
       "    <tr style=\"text-align: right;\">\n",
       "      <th></th>\n",
       "      <th>Symbol</th>\n",
       "      <th>OpenPrice</th>\n",
       "      <th>Name</th>\n",
       "      <th>52wkHigh</th>\n",
       "    </tr>\n",
       "  </thead>\n",
       "  <tbody>\n",
       "    <tr>\n",
       "      <th>0</th>\n",
       "      <td>AAPL</td>\n",
       "      <td>217.51</td>\n",
       "      <td>Apple</td>\n",
       "      <td>233.47</td>\n",
       "    </tr>\n",
       "    <tr>\n",
       "      <th>1</th>\n",
       "      <td>MSFT</td>\n",
       "      <td>96.54</td>\n",
       "      <td>Microsoft</td>\n",
       "      <td>110.11</td>\n",
       "    </tr>\n",
       "    <tr>\n",
       "      <th>2</th>\n",
       "      <td>GOOGL</td>\n",
       "      <td>501.30</td>\n",
       "      <td>Google</td>\n",
       "      <td>NaN</td>\n",
       "    </tr>\n",
       "    <tr>\n",
       "      <th>3</th>\n",
       "      <td>FB</td>\n",
       "      <td>51.45</td>\n",
       "      <td>Facebook</td>\n",
       "      <td>60.79</td>\n",
       "    </tr>\n",
       "    <tr>\n",
       "      <th>4</th>\n",
       "      <td>AMZN</td>\n",
       "      <td>1703.34</td>\n",
       "      <td>Amazon</td>\n",
       "      <td>2050.49</td>\n",
       "    </tr>\n",
       "    <tr>\n",
       "      <th>5</th>\n",
       "      <td>NFLX</td>\n",
       "      <td>NaN</td>\n",
       "      <td>NaN</td>\n",
       "      <td>303.22</td>\n",
       "    </tr>\n",
       "  </tbody>\n",
       "</table>\n",
       "</div>"
      ],
      "text/plain": [
       "  Symbol  OpenPrice       Name  52wkHigh\n",
       "0   AAPL     217.51      Apple    233.47\n",
       "1   MSFT      96.54  Microsoft    110.11\n",
       "2  GOOGL     501.30     Google       NaN\n",
       "3     FB      51.45   Facebook     60.79\n",
       "4   AMZN    1703.34     Amazon   2050.49\n",
       "5   NFLX        NaN        NaN    303.22"
      ]
     },
     "execution_count": 63,
     "metadata": {},
     "output_type": "execute_result"
    }
   ],
   "source": [
    "# Now merge that with the named stocks.\n",
    "full_stocks=pd.merge(named_stocks, wkhigh, on='Symbol', how='outer')\n",
    "# full_stocks=pd.merge(named_stocks, wkhigh, on='Symbol', how='left')\n",
    "# full_stocks=pd.merge(named_stocks, wkhigh, on='Symbol', how='inner')\n",
    "# full_stocks=pd.merge(named_stocks, wkhigh, on='Symbol', how='right')\n",
    "full_stocks"
   ]
  },
  {
   "cell_type": "markdown",
   "metadata": {
    "colab_type": "text",
    "id": "fIF82OwztnQt"
   },
   "source": [
    "The 'how' parameter indicates what the portion of the selected dataframes to keep after the merge takes place.  \n",
    "https://www.shanelynn.ie/merge-join-dataframes-python-pandas-index-1/"
   ]
  },
  {
   "cell_type": "code",
   "execution_count": 64,
   "metadata": {
    "colab": {
     "base_uri": "https://localhost:8080/",
     "height": 321
    },
    "colab_type": "code",
    "id": "V2phRPbbth7z",
    "outputId": "42f44af4-1c50-42df-e983-69eb7158e712"
   },
   "outputs": [
    {
     "data": {
      "text/html": [
       "<img src=\"https://shanelynnwebsite-mid9n9g1q9y8tt.netdna-ssl.com/wp-content/uploads/2017/03/join-types-merge-names.jpg\" width=\"600\"/>"
      ],
      "text/plain": [
       "<IPython.core.display.Image object>"
      ]
     },
     "metadata": {},
     "output_type": "display_data"
    }
   ],
   "source": [
    "# This is code to display a `.png` inside of a jupyter notebook.\n",
    "from IPython.display import display, Image\n",
    "url = 'https://shanelynnwebsite-mid9n9g1q9y8tt.netdna-ssl.com/wp-content/uploads/2017/03/join-types-merge-names.jpg'\n",
    "venn_diagram = Image(url=url, width=600)\n",
    "display(venn_diagram)"
   ]
  },
  {
   "cell_type": "markdown",
   "metadata": {
    "colab_type": "text",
    "id": "dDfzKXJdwApV"
   },
   "source": [
    "### 1.3 Reshape: `melt` and `pivot_table`\n",
    "\n"
   ]
  },
  {
   "cell_type": "markdown",
   "metadata": {
    "colab_type": "text",
    "id": "4stCppWhwIx0"
   },
   "source": [
    "Why reshape data?\n",
    "\n",
    "**Some libraries prefer data in different formats**\n",
    "\n",
    "\n",
    "\n",
    "> For example, the Seaborn data visualization library prefers data in \"Tidy\" format often (but not always).  \n",
    "[Seaborn will be most powerful when your datasets have a particular organization.](https://seaborn.pydata.org/introduction.html#organizing-datasets)    \n",
    "This format ia alternately called “long-form” or “tidy” data and is described in detail by Hadley Wickham. The rules can be simply stated:\n",
    "\n",
    "> - Each variable is a column\n",
    "- Each observation is a row\n",
    "\n",
    "> A helpful mindset for determining whether your data are tidy is to think backwards from the plot you want to draw. From this perspective, a “variable” is something that will be assigned a role in the plot.\"\n",
    "\n",
    "Data science is often about putting square pegs in round holes. Here's an inspiring [video clip from _Apollo 13_](https://www.youtube.com/watch?v=ry55--J4_VQ): “Invent a way to put a square peg in a round hole.” It's a good metaphor for data wrangling!"
   ]
  },
  {
   "cell_type": "markdown",
   "metadata": {
    "colab_type": "text",
    "id": "79KITszBwXp7"
   },
   "source": [
    "**Hadley Wickham: 'wide' format vs. 'tidy' format**  \n",
    "From his paper, [Tidy Data](http://vita.had.co.nz/papers/tidy-data.html)"
   ]
  },
  {
   "cell_type": "code",
   "execution_count": 65,
   "metadata": {
    "colab": {},
    "colab_type": "code",
    "id": "Jna5sk5FwYHr"
   },
   "outputs": [],
   "source": [
    "# Let's create a simple table.\n",
    "\n",
    "table1 = pd.DataFrame(\n",
    "    [[np.nan, 2],\n",
    "     [16,    11], \n",
    "     [3,      1]],\n",
    "    index=['John Smith', 'Jane Doe', 'Mary Johnson'], \n",
    "    columns=['treatmenta', 'treatmentb'])"
   ]
  },
  {
   "cell_type": "markdown",
   "metadata": {
    "colab_type": "text",
    "id": "eWe5rpI9wdvT"
   },
   "source": [
    "\"Table 1 provides some data about an imaginary experiment in a format commonly seen in the wild.   \n",
    "The table has two columns and three rows, and both rows and columns are labelled.\""
   ]
  },
  {
   "cell_type": "code",
   "execution_count": 66,
   "metadata": {
    "colab": {
     "base_uri": "https://localhost:8080/",
     "height": 136
    },
    "colab_type": "code",
    "id": "2LecRwp5PAfM",
    "outputId": "f5fd751d-7251-4f40-861e-95f58d995344"
   },
   "outputs": [
    {
     "data": {
      "text/html": [
       "<div>\n",
       "<style scoped>\n",
       "    .dataframe tbody tr th:only-of-type {\n",
       "        vertical-align: middle;\n",
       "    }\n",
       "\n",
       "    .dataframe tbody tr th {\n",
       "        vertical-align: top;\n",
       "    }\n",
       "\n",
       "    .dataframe thead th {\n",
       "        text-align: right;\n",
       "    }\n",
       "</style>\n",
       "<table border=\"1\" class=\"dataframe\">\n",
       "  <thead>\n",
       "    <tr style=\"text-align: right;\">\n",
       "      <th></th>\n",
       "      <th>treatmenta</th>\n",
       "      <th>treatmentb</th>\n",
       "    </tr>\n",
       "  </thead>\n",
       "  <tbody>\n",
       "    <tr>\n",
       "      <th>John Smith</th>\n",
       "      <td>NaN</td>\n",
       "      <td>2</td>\n",
       "    </tr>\n",
       "    <tr>\n",
       "      <th>Jane Doe</th>\n",
       "      <td>16.0</td>\n",
       "      <td>11</td>\n",
       "    </tr>\n",
       "    <tr>\n",
       "      <th>Mary Johnson</th>\n",
       "      <td>3.0</td>\n",
       "      <td>1</td>\n",
       "    </tr>\n",
       "  </tbody>\n",
       "</table>\n",
       "</div>"
      ],
      "text/plain": [
       "              treatmenta  treatmentb\n",
       "John Smith           NaN           2\n",
       "Jane Doe            16.0          11\n",
       "Mary Johnson         3.0           1"
      ]
     },
     "execution_count": 66,
     "metadata": {},
     "output_type": "execute_result"
    }
   ],
   "source": [
    "# This is an example of 'wide' format:\n",
    "table1"
   ]
  },
  {
   "cell_type": "markdown",
   "metadata": {
    "colab_type": "text",
    "id": "SaEcDmZhwmon"
   },
   "source": [
    "\"There are many ways to structure the same underlying data.   \n",
    "Table 2 shows the same data as Table 1, but the rows and columns have been transposed. The data is the same, but the layout is different.\""
   ]
  },
  {
   "cell_type": "code",
   "execution_count": 67,
   "metadata": {
    "colab": {
     "base_uri": "https://localhost:8080/",
     "height": 106
    },
    "colab_type": "code",
    "id": "SwDVoCj5woAn",
    "outputId": "c7212520-79f4-4f50-f3dc-a45a263ea62a"
   },
   "outputs": [
    {
     "data": {
      "text/html": [
       "<div>\n",
       "<style scoped>\n",
       "    .dataframe tbody tr th:only-of-type {\n",
       "        vertical-align: middle;\n",
       "    }\n",
       "\n",
       "    .dataframe tbody tr th {\n",
       "        vertical-align: top;\n",
       "    }\n",
       "\n",
       "    .dataframe thead th {\n",
       "        text-align: right;\n",
       "    }\n",
       "</style>\n",
       "<table border=\"1\" class=\"dataframe\">\n",
       "  <thead>\n",
       "    <tr style=\"text-align: right;\">\n",
       "      <th></th>\n",
       "      <th>John Smith</th>\n",
       "      <th>Jane Doe</th>\n",
       "      <th>Mary Johnson</th>\n",
       "    </tr>\n",
       "  </thead>\n",
       "  <tbody>\n",
       "    <tr>\n",
       "      <th>treatmenta</th>\n",
       "      <td>NaN</td>\n",
       "      <td>16.0</td>\n",
       "      <td>3.0</td>\n",
       "    </tr>\n",
       "    <tr>\n",
       "      <th>treatmentb</th>\n",
       "      <td>2.0</td>\n",
       "      <td>11.0</td>\n",
       "      <td>1.0</td>\n",
       "    </tr>\n",
       "  </tbody>\n",
       "</table>\n",
       "</div>"
      ],
      "text/plain": [
       "            John Smith  Jane Doe  Mary Johnson\n",
       "treatmenta         NaN      16.0           3.0\n",
       "treatmentb         2.0      11.0           1.0"
      ]
     },
     "execution_count": 67,
     "metadata": {},
     "output_type": "execute_result"
    }
   ],
   "source": [
    "# Exactly the same information can be displayed by transposing the table. \n",
    "# (this is also another form of 'wide' format)\n",
    "table2 = table1.T\n",
    "table2"
   ]
  },
  {
   "cell_type": "markdown",
   "metadata": {
    "colab_type": "text",
    "id": "k3ratDNbwsyN"
   },
   "source": [
    "Table 3 is an example of 'tidy' format. It reorganises Table 1  to make the values, variables and obserations more clear.\n",
    "\n",
    "Table 3 is the 'tidy' version of Table 1. Each row represents an observation, the result of one treatment on one person, and each column is a variable.\"\n",
    "\n",
    "| name         | trt | result |\n",
    "|--------------|-----|--------|\n",
    "| John Smith   | a   | -      |\n",
    "| Jane Doe     | a   | 16     |\n",
    "| Mary Johnson | a   | 3      |\n",
    "| John Smith   | b   | 2      |\n",
    "| Jane Doe     | b   | 11     |\n",
    "| Mary Johnson | b   | 1      |"
   ]
  },
  {
   "cell_type": "markdown",
   "metadata": {
    "colab_type": "text",
    "id": "WsvD1I3TwwnI"
   },
   "source": [
    "**Table 1 --> Tidy**\n",
    "\n",
    "We can use the pandas `melt` function to reshape Table 1 into Tidy format."
   ]
  },
  {
   "cell_type": "code",
   "execution_count": 68,
   "metadata": {
    "colab": {
     "base_uri": "https://localhost:8080/",
     "height": 34
    },
    "colab_type": "code",
    "id": "S48tKmC46veF",
    "outputId": "e6417c08-82a2-462b-e692-1c60afb42a17"
   },
   "outputs": [
    {
     "data": {
      "text/plain": [
       "['treatmenta', 'treatmentb']"
      ]
     },
     "execution_count": 68,
     "metadata": {},
     "output_type": "execute_result"
    }
   ],
   "source": [
    "# First, get the column names as a list.\n",
    "table1.columns.tolist()"
   ]
  },
  {
   "cell_type": "code",
   "execution_count": 69,
   "metadata": {
    "colab": {
     "base_uri": "https://localhost:8080/",
     "height": 34
    },
    "colab_type": "code",
    "id": "eKZW1b-2z6Eq",
    "outputId": "ec0be94a-d3d0-403b-8ff2-237de41fe078"
   },
   "outputs": [
    {
     "data": {
      "text/plain": [
       "['John Smith', 'Jane Doe', 'Mary Johnson']"
      ]
     },
     "execution_count": 69,
     "metadata": {},
     "output_type": "execute_result"
    }
   ],
   "source": [
    "# Now get the index values as another list.\n",
    "table1.index.tolist()"
   ]
  },
  {
   "cell_type": "code",
   "execution_count": 70,
   "metadata": {
    "colab": {
     "base_uri": "https://localhost:8080/",
     "height": 136
    },
    "colab_type": "code",
    "id": "QOG14s6Iz9-F",
    "outputId": "8426b500-f0d4-4aa1-e218-f28979fcce97"
   },
   "outputs": [
    {
     "data": {
      "text/html": [
       "<div>\n",
       "<style scoped>\n",
       "    .dataframe tbody tr th:only-of-type {\n",
       "        vertical-align: middle;\n",
       "    }\n",
       "\n",
       "    .dataframe tbody tr th {\n",
       "        vertical-align: top;\n",
       "    }\n",
       "\n",
       "    .dataframe thead th {\n",
       "        text-align: right;\n",
       "    }\n",
       "</style>\n",
       "<table border=\"1\" class=\"dataframe\">\n",
       "  <thead>\n",
       "    <tr style=\"text-align: right;\">\n",
       "      <th></th>\n",
       "      <th>index</th>\n",
       "      <th>treatmenta</th>\n",
       "      <th>treatmentb</th>\n",
       "    </tr>\n",
       "  </thead>\n",
       "  <tbody>\n",
       "    <tr>\n",
       "      <th>0</th>\n",
       "      <td>John Smith</td>\n",
       "      <td>NaN</td>\n",
       "      <td>2</td>\n",
       "    </tr>\n",
       "    <tr>\n",
       "      <th>1</th>\n",
       "      <td>Jane Doe</td>\n",
       "      <td>16.0</td>\n",
       "      <td>11</td>\n",
       "    </tr>\n",
       "    <tr>\n",
       "      <th>2</th>\n",
       "      <td>Mary Johnson</td>\n",
       "      <td>3.0</td>\n",
       "      <td>1</td>\n",
       "    </tr>\n",
       "  </tbody>\n",
       "</table>\n",
       "</div>"
      ],
      "text/plain": [
       "          index  treatmenta  treatmentb\n",
       "0    John Smith         NaN           2\n",
       "1      Jane Doe        16.0          11\n",
       "2  Mary Johnson         3.0           1"
      ]
     },
     "execution_count": 70,
     "metadata": {},
     "output_type": "execute_result"
    }
   ],
   "source": [
    "# For table 1, convert the index into a column using the `reset_index` method.\n",
    "table1 = table1.reset_index()\n",
    "table1"
   ]
  },
  {
   "cell_type": "code",
   "execution_count": 71,
   "metadata": {
    "colab": {
     "base_uri": "https://localhost:8080/",
     "height": 225
    },
    "colab_type": "code",
    "id": "6X8LgIN70NDJ",
    "outputId": "05a7fe88-6046-472e-d380-553c50db31ad"
   },
   "outputs": [
    {
     "data": {
      "text/html": [
       "<div>\n",
       "<style scoped>\n",
       "    .dataframe tbody tr th:only-of-type {\n",
       "        vertical-align: middle;\n",
       "    }\n",
       "\n",
       "    .dataframe tbody tr th {\n",
       "        vertical-align: top;\n",
       "    }\n",
       "\n",
       "    .dataframe thead th {\n",
       "        text-align: right;\n",
       "    }\n",
       "</style>\n",
       "<table border=\"1\" class=\"dataframe\">\n",
       "  <thead>\n",
       "    <tr style=\"text-align: right;\">\n",
       "      <th></th>\n",
       "      <th>index</th>\n",
       "      <th>variable</th>\n",
       "      <th>value</th>\n",
       "    </tr>\n",
       "  </thead>\n",
       "  <tbody>\n",
       "    <tr>\n",
       "      <th>0</th>\n",
       "      <td>John Smith</td>\n",
       "      <td>treatmenta</td>\n",
       "      <td>NaN</td>\n",
       "    </tr>\n",
       "    <tr>\n",
       "      <th>1</th>\n",
       "      <td>Jane Doe</td>\n",
       "      <td>treatmenta</td>\n",
       "      <td>16.0</td>\n",
       "    </tr>\n",
       "    <tr>\n",
       "      <th>2</th>\n",
       "      <td>Mary Johnson</td>\n",
       "      <td>treatmenta</td>\n",
       "      <td>3.0</td>\n",
       "    </tr>\n",
       "    <tr>\n",
       "      <th>3</th>\n",
       "      <td>John Smith</td>\n",
       "      <td>treatmentb</td>\n",
       "      <td>2.0</td>\n",
       "    </tr>\n",
       "    <tr>\n",
       "      <th>4</th>\n",
       "      <td>Jane Doe</td>\n",
       "      <td>treatmentb</td>\n",
       "      <td>11.0</td>\n",
       "    </tr>\n",
       "    <tr>\n",
       "      <th>5</th>\n",
       "      <td>Mary Johnson</td>\n",
       "      <td>treatmentb</td>\n",
       "      <td>1.0</td>\n",
       "    </tr>\n",
       "  </tbody>\n",
       "</table>\n",
       "</div>"
      ],
      "text/plain": [
       "          index    variable  value\n",
       "0    John Smith  treatmenta    NaN\n",
       "1      Jane Doe  treatmenta   16.0\n",
       "2  Mary Johnson  treatmenta    3.0\n",
       "3    John Smith  treatmentb    2.0\n",
       "4      Jane Doe  treatmentb   11.0\n",
       "5  Mary Johnson  treatmentb    1.0"
      ]
     },
     "execution_count": 71,
     "metadata": {},
     "output_type": "execute_result"
    }
   ],
   "source": [
    "# Convert the table from 'wide' to 'tidy' format using the `melt` method.\n",
    "tidy = table1.melt(id_vars='index', value_vars=['treatmenta', 'treatmentb'])\n",
    "tidy"
   ]
  },
  {
   "cell_type": "code",
   "execution_count": 72,
   "metadata": {
    "colab": {
     "base_uri": "https://localhost:8080/",
     "height": 225
    },
    "colab_type": "code",
    "id": "Et0Q6PMe0qbH",
    "outputId": "a3b07501-bed8-4927-f084-2e2a8fdfc76a"
   },
   "outputs": [
    {
     "data": {
      "text/html": [
       "<div>\n",
       "<style scoped>\n",
       "    .dataframe tbody tr th:only-of-type {\n",
       "        vertical-align: middle;\n",
       "    }\n",
       "\n",
       "    .dataframe tbody tr th {\n",
       "        vertical-align: top;\n",
       "    }\n",
       "\n",
       "    .dataframe thead th {\n",
       "        text-align: right;\n",
       "    }\n",
       "</style>\n",
       "<table border=\"1\" class=\"dataframe\">\n",
       "  <thead>\n",
       "    <tr style=\"text-align: right;\">\n",
       "      <th></th>\n",
       "      <th>name</th>\n",
       "      <th>trt</th>\n",
       "      <th>result</th>\n",
       "    </tr>\n",
       "  </thead>\n",
       "  <tbody>\n",
       "    <tr>\n",
       "      <th>0</th>\n",
       "      <td>John Smith</td>\n",
       "      <td>a</td>\n",
       "      <td>NaN</td>\n",
       "    </tr>\n",
       "    <tr>\n",
       "      <th>1</th>\n",
       "      <td>Jane Doe</td>\n",
       "      <td>a</td>\n",
       "      <td>16.0</td>\n",
       "    </tr>\n",
       "    <tr>\n",
       "      <th>2</th>\n",
       "      <td>Mary Johnson</td>\n",
       "      <td>a</td>\n",
       "      <td>3.0</td>\n",
       "    </tr>\n",
       "    <tr>\n",
       "      <th>3</th>\n",
       "      <td>John Smith</td>\n",
       "      <td>b</td>\n",
       "      <td>2.0</td>\n",
       "    </tr>\n",
       "    <tr>\n",
       "      <th>4</th>\n",
       "      <td>Jane Doe</td>\n",
       "      <td>b</td>\n",
       "      <td>11.0</td>\n",
       "    </tr>\n",
       "    <tr>\n",
       "      <th>5</th>\n",
       "      <td>Mary Johnson</td>\n",
       "      <td>b</td>\n",
       "      <td>1.0</td>\n",
       "    </tr>\n",
       "  </tbody>\n",
       "</table>\n",
       "</div>"
      ],
      "text/plain": [
       "           name trt  result\n",
       "0    John Smith   a     NaN\n",
       "1      Jane Doe   a    16.0\n",
       "2  Mary Johnson   a     3.0\n",
       "3    John Smith   b     2.0\n",
       "4      Jane Doe   b    11.0\n",
       "5  Mary Johnson   b     1.0"
      ]
     },
     "execution_count": 72,
     "metadata": {},
     "output_type": "execute_result"
    }
   ],
   "source": [
    "# rename the columns\n",
    "tidy = tidy.rename(columns={\n",
    "    'index': 'name', \n",
    "    'variable': 'trt', \n",
    "    'value': 'result'\n",
    "})\n",
    "# shorten the `trt` values\n",
    "tidy.trt = tidy.trt.str.replace('treatment', '')\n",
    "tidy"
   ]
  },
  {
   "cell_type": "markdown",
   "metadata": {
    "colab_type": "text",
    "id": "Ck15sXaJxPrd"
   },
   "source": [
    "**Table 2 --> Tidy**"
   ]
  },
  {
   "cell_type": "code",
   "execution_count": 73,
   "metadata": {
    "colab": {},
    "colab_type": "code",
    "id": "k2Qn94RIxQhV"
   },
   "outputs": [
    {
     "data": {
      "text/html": [
       "<div>\n",
       "<style scoped>\n",
       "    .dataframe tbody tr th:only-of-type {\n",
       "        vertical-align: middle;\n",
       "    }\n",
       "\n",
       "    .dataframe tbody tr th {\n",
       "        vertical-align: top;\n",
       "    }\n",
       "\n",
       "    .dataframe thead th {\n",
       "        text-align: right;\n",
       "    }\n",
       "</style>\n",
       "<table border=\"1\" class=\"dataframe\">\n",
       "  <thead>\n",
       "    <tr style=\"text-align: right;\">\n",
       "      <th></th>\n",
       "      <th>treatmenta</th>\n",
       "      <th>treatmentb</th>\n",
       "    </tr>\n",
       "  </thead>\n",
       "  <tbody>\n",
       "    <tr>\n",
       "      <th>John Smith</th>\n",
       "      <td>NaN</td>\n",
       "      <td>2.0</td>\n",
       "    </tr>\n",
       "    <tr>\n",
       "      <th>Jane Doe</th>\n",
       "      <td>16.0</td>\n",
       "      <td>11.0</td>\n",
       "    </tr>\n",
       "    <tr>\n",
       "      <th>Mary Johnson</th>\n",
       "      <td>3.0</td>\n",
       "      <td>1.0</td>\n",
       "    </tr>\n",
       "  </tbody>\n",
       "</table>\n",
       "</div>"
      ],
      "text/plain": [
       "              treatmenta  treatmentb\n",
       "John Smith           NaN         2.0\n",
       "Jane Doe            16.0        11.0\n",
       "Mary Johnson         3.0         1.0"
      ]
     },
     "execution_count": 73,
     "metadata": {},
     "output_type": "execute_result"
    }
   ],
   "source": [
    "# first you can transpose it\n",
    "table2.T"
   ]
  },
  {
   "cell_type": "code",
   "execution_count": 74,
   "metadata": {},
   "outputs": [
    {
     "data": {
      "text/html": [
       "<div>\n",
       "<style scoped>\n",
       "    .dataframe tbody tr th:only-of-type {\n",
       "        vertical-align: middle;\n",
       "    }\n",
       "\n",
       "    .dataframe tbody tr th {\n",
       "        vertical-align: top;\n",
       "    }\n",
       "\n",
       "    .dataframe thead th {\n",
       "        text-align: right;\n",
       "    }\n",
       "</style>\n",
       "<table border=\"1\" class=\"dataframe\">\n",
       "  <thead>\n",
       "    <tr style=\"text-align: right;\">\n",
       "      <th></th>\n",
       "      <th>name</th>\n",
       "      <th>trt</th>\n",
       "      <th>result</th>\n",
       "    </tr>\n",
       "  </thead>\n",
       "  <tbody>\n",
       "    <tr>\n",
       "      <th>0</th>\n",
       "      <td>John Smith</td>\n",
       "      <td>treatmenta</td>\n",
       "      <td>NaN</td>\n",
       "    </tr>\n",
       "    <tr>\n",
       "      <th>1</th>\n",
       "      <td>Jane Doe</td>\n",
       "      <td>treatmenta</td>\n",
       "      <td>16.0</td>\n",
       "    </tr>\n",
       "    <tr>\n",
       "      <th>2</th>\n",
       "      <td>Mary Johnson</td>\n",
       "      <td>treatmenta</td>\n",
       "      <td>3.0</td>\n",
       "    </tr>\n",
       "    <tr>\n",
       "      <th>3</th>\n",
       "      <td>John Smith</td>\n",
       "      <td>treatmentb</td>\n",
       "      <td>2.0</td>\n",
       "    </tr>\n",
       "    <tr>\n",
       "      <th>4</th>\n",
       "      <td>Jane Doe</td>\n",
       "      <td>treatmentb</td>\n",
       "      <td>11.0</td>\n",
       "    </tr>\n",
       "    <tr>\n",
       "      <th>5</th>\n",
       "      <td>Mary Johnson</td>\n",
       "      <td>treatmentb</td>\n",
       "      <td>1.0</td>\n",
       "    </tr>\n",
       "  </tbody>\n",
       "</table>\n",
       "</div>"
      ],
      "text/plain": [
       "           name         trt  result\n",
       "0    John Smith  treatmenta     NaN\n",
       "1      Jane Doe  treatmenta    16.0\n",
       "2  Mary Johnson  treatmenta     3.0\n",
       "3    John Smith  treatmentb     2.0\n",
       "4      Jane Doe  treatmentb    11.0\n",
       "5  Mary Johnson  treatmentb     1.0"
      ]
     },
     "execution_count": 74,
     "metadata": {},
     "output_type": "execute_result"
    }
   ],
   "source": [
    "# now use \"melt\" and give it some new column names\n",
    "tidy2 = table2.T.reset_index().melt(id_vars='index').rename(columns= {\n",
    "    'index': 'name', \n",
    "    'variable': 'trt', \n",
    "    'value': 'result'\n",
    "})\n",
    "tidy2"
   ]
  },
  {
   "cell_type": "code",
   "execution_count": 75,
   "metadata": {},
   "outputs": [
    {
     "data": {
      "text/html": [
       "<div>\n",
       "<style scoped>\n",
       "    .dataframe tbody tr th:only-of-type {\n",
       "        vertical-align: middle;\n",
       "    }\n",
       "\n",
       "    .dataframe tbody tr th {\n",
       "        vertical-align: top;\n",
       "    }\n",
       "\n",
       "    .dataframe thead th {\n",
       "        text-align: right;\n",
       "    }\n",
       "</style>\n",
       "<table border=\"1\" class=\"dataframe\">\n",
       "  <thead>\n",
       "    <tr style=\"text-align: right;\">\n",
       "      <th></th>\n",
       "      <th>trt</th>\n",
       "      <th>result</th>\n",
       "    </tr>\n",
       "    <tr>\n",
       "      <th>name</th>\n",
       "      <th></th>\n",
       "      <th></th>\n",
       "    </tr>\n",
       "  </thead>\n",
       "  <tbody>\n",
       "    <tr>\n",
       "      <th>John Smith</th>\n",
       "      <td>a</td>\n",
       "      <td>NaN</td>\n",
       "    </tr>\n",
       "    <tr>\n",
       "      <th>Jane Doe</th>\n",
       "      <td>a</td>\n",
       "      <td>16.0</td>\n",
       "    </tr>\n",
       "    <tr>\n",
       "      <th>Mary Johnson</th>\n",
       "      <td>a</td>\n",
       "      <td>3.0</td>\n",
       "    </tr>\n",
       "    <tr>\n",
       "      <th>John Smith</th>\n",
       "      <td>b</td>\n",
       "      <td>2.0</td>\n",
       "    </tr>\n",
       "    <tr>\n",
       "      <th>Jane Doe</th>\n",
       "      <td>b</td>\n",
       "      <td>11.0</td>\n",
       "    </tr>\n",
       "    <tr>\n",
       "      <th>Mary Johnson</th>\n",
       "      <td>b</td>\n",
       "      <td>1.0</td>\n",
       "    </tr>\n",
       "  </tbody>\n",
       "</table>\n",
       "</div>"
      ],
      "text/plain": [
       "             trt  result\n",
       "name                    \n",
       "John Smith     a     NaN\n",
       "Jane Doe       a    16.0\n",
       "Mary Johnson   a     3.0\n",
       "John Smith     b     2.0\n",
       "Jane Doe       b    11.0\n",
       "Mary Johnson   b     1.0"
      ]
     },
     "execution_count": 75,
     "metadata": {},
     "output_type": "execute_result"
    }
   ],
   "source": [
    "# now clean up the column names etc.\n",
    "tidy2['trt'] = tidy2['trt'].str.replace('treatment', '')\n",
    "tidy2 = tidy2.set_index('name')\n",
    "tidy2"
   ]
  },
  {
   "cell_type": "markdown",
   "metadata": {
    "colab_type": "text",
    "id": "As0W7PWLxea3"
   },
   "source": [
    "**Tidy --> Table 1**\n",
    "\n",
    "The `pivot_table` function is the inverse of `melt`."
   ]
  },
  {
   "cell_type": "code",
   "execution_count": 76,
   "metadata": {
    "colab": {
     "base_uri": "https://localhost:8080/",
     "height": 166
    },
    "colab_type": "code",
    "id": "CdZZiLYoxfJC",
    "outputId": "70663b42-90de-43bb-a509-e16db31cffbb"
   },
   "outputs": [
    {
     "data": {
      "text/html": [
       "<div>\n",
       "<style scoped>\n",
       "    .dataframe tbody tr th:only-of-type {\n",
       "        vertical-align: middle;\n",
       "    }\n",
       "\n",
       "    .dataframe tbody tr th {\n",
       "        vertical-align: top;\n",
       "    }\n",
       "\n",
       "    .dataframe thead th {\n",
       "        text-align: right;\n",
       "    }\n",
       "</style>\n",
       "<table border=\"1\" class=\"dataframe\">\n",
       "  <thead>\n",
       "    <tr style=\"text-align: right;\">\n",
       "      <th>trt</th>\n",
       "      <th>a</th>\n",
       "      <th>b</th>\n",
       "    </tr>\n",
       "    <tr>\n",
       "      <th>name</th>\n",
       "      <th></th>\n",
       "      <th></th>\n",
       "    </tr>\n",
       "  </thead>\n",
       "  <tbody>\n",
       "    <tr>\n",
       "      <th>Jane Doe</th>\n",
       "      <td>16.0</td>\n",
       "      <td>11.0</td>\n",
       "    </tr>\n",
       "    <tr>\n",
       "      <th>John Smith</th>\n",
       "      <td>NaN</td>\n",
       "      <td>2.0</td>\n",
       "    </tr>\n",
       "    <tr>\n",
       "      <th>Mary Johnson</th>\n",
       "      <td>3.0</td>\n",
       "      <td>1.0</td>\n",
       "    </tr>\n",
       "  </tbody>\n",
       "</table>\n",
       "</div>"
      ],
      "text/plain": [
       "trt              a     b\n",
       "name                    \n",
       "Jane Doe      16.0  11.0\n",
       "John Smith     NaN   2.0\n",
       "Mary Johnson   3.0   1.0"
      ]
     },
     "execution_count": 76,
     "metadata": {},
     "output_type": "execute_result"
    }
   ],
   "source": [
    "# Let's do it all in reverse.\n",
    "wide = tidy.pivot_table(index='name', columns='trt', values='result')\n",
    "wide"
   ]
  },
  {
   "cell_type": "markdown",
   "metadata": {
    "colab_type": "text",
    "id": "3GeAKoSZxoPS"
   },
   "source": [
    "**Tidy --> Table 2**"
   ]
  },
  {
   "cell_type": "code",
   "execution_count": 77,
   "metadata": {
    "colab": {},
    "colab_type": "code",
    "id": "W2jjciN2xk9r"
   },
   "outputs": [
    {
     "data": {
      "text/html": [
       "<div>\n",
       "<style scoped>\n",
       "    .dataframe tbody tr th:only-of-type {\n",
       "        vertical-align: middle;\n",
       "    }\n",
       "\n",
       "    .dataframe tbody tr th {\n",
       "        vertical-align: top;\n",
       "    }\n",
       "\n",
       "    .dataframe thead th {\n",
       "        text-align: right;\n",
       "    }\n",
       "</style>\n",
       "<table border=\"1\" class=\"dataframe\">\n",
       "  <thead>\n",
       "    <tr style=\"text-align: right;\">\n",
       "      <th>name</th>\n",
       "      <th>Jane Doe</th>\n",
       "      <th>John Smith</th>\n",
       "      <th>Mary Johnson</th>\n",
       "    </tr>\n",
       "    <tr>\n",
       "      <th>trt</th>\n",
       "      <th></th>\n",
       "      <th></th>\n",
       "      <th></th>\n",
       "    </tr>\n",
       "  </thead>\n",
       "  <tbody>\n",
       "    <tr>\n",
       "      <th>a</th>\n",
       "      <td>16.0</td>\n",
       "      <td>NaN</td>\n",
       "      <td>3.0</td>\n",
       "    </tr>\n",
       "    <tr>\n",
       "      <th>b</th>\n",
       "      <td>11.0</td>\n",
       "      <td>2.0</td>\n",
       "      <td>1.0</td>\n",
       "    </tr>\n",
       "  </tbody>\n",
       "</table>\n",
       "</div>"
      ],
      "text/plain": [
       "name  Jane Doe  John Smith  Mary Johnson\n",
       "trt                                     \n",
       "a         16.0         NaN           3.0\n",
       "b         11.0         2.0           1.0"
      ]
     },
     "execution_count": 77,
     "metadata": {},
     "output_type": "execute_result"
    }
   ],
   "source": [
    "# Do the same thing you did to table 1, but then transpose it when you're finished\n",
    "tidy2.pivot_table(index='name', columns='trt', values='result').T"
   ]
  },
  {
   "cell_type": "markdown",
   "metadata": {
    "colab_type": "text",
    "id": "jr0jQy6Oxqi7"
   },
   "source": [
    "**Seaborn example**\n",
    "\n",
    "The rules can be simply stated:\n",
    "\n",
    "- Each variable is a column\n",
    "- Each observation is a row\n",
    "\n",
    "A helpful mindset for determining whether your data are tidy is to think backwards from the plot you want to draw. From this perspective, a “variable” is something that will be assigned a role in the plot.\""
   ]
  },
  {
   "cell_type": "code",
   "execution_count": 78,
   "metadata": {
    "colab": {
     "base_uri": "https://localhost:8080/",
     "height": 153
    },
    "colab_type": "code",
    "id": "kWo3FIP9xuKo",
    "outputId": "664c09bf-dccb-4ec7-a9a2-6cab4af82506"
   },
   "outputs": [
    {
     "data": {
      "image/png": "[encoded data removed]",
      "text/plain": [
       "<Figure size 432x144 with 3 Axes>"
      ]
     },
     "metadata": {
      "needs_background": "light"
     },
     "output_type": "display_data"
    }
   ],
   "source": [
    "sns.catplot(x='trt', y='result', col='name', \n",
    "            kind='bar', data=tidy, height=2);"
   ]
  },
  {
   "cell_type": "markdown",
   "metadata": {
    "colab_type": "text",
    "id": "7PdjonFgPAfj"
   },
   "source": [
    "## Part 2: More complex examples "
   ]
  },
  {
   "cell_type": "markdown",
   "metadata": {
    "colab_type": "text",
    "id": "CHDWwgErPAfj"
   },
   "source": [
    "### 2.1 Concatenating time-series datasets from Chicago"
   ]
  },
  {
   "cell_type": "code",
   "execution_count": 79,
   "metadata": {
    "colab": {},
    "colab_type": "code",
    "id": "eXc90I3tPAfk"
   },
   "outputs": [],
   "source": [
    "# Here's some data about Chicago bikesharing.\n",
    "source_path='https://raw.githubusercontent.com/austinlasseter/pandas_visualization/master/data/Divvy_Trips_dataset/'\n",
    "q1_path=source_path + 'Divvy_Trips_2015-Q1.csv'\n",
    "q2_path=source_path + 'Divvy_Trips_2015-Q2.csv'\n",
    "q3_path=source_path + 'Divvy_Trips_2015-Q3.csv'\n",
    "q4_path=source_path + 'Divvy_Trips_2015-Q4.csv'"
   ]
  },
  {
   "cell_type": "code",
   "execution_count": 80,
   "metadata": {
    "colab": {
     "base_uri": "https://localhost:8080/",
     "height": 333
    },
    "colab_type": "code",
    "id": "5I0WnUhBPAfm",
    "outputId": "9bb8f230-3962-47a0-fa73-65179f9a0821"
   },
   "outputs": [
    {
     "name": "stdout",
     "output_type": "stream",
     "text": [
      "(1000, 12)\n"
     ]
    },
    {
     "data": {
      "text/html": [
       "<div>\n",
       "<style scoped>\n",
       "    .dataframe tbody tr th:only-of-type {\n",
       "        vertical-align: middle;\n",
       "    }\n",
       "\n",
       "    .dataframe tbody tr th {\n",
       "        vertical-align: top;\n",
       "    }\n",
       "\n",
       "    .dataframe thead th {\n",
       "        text-align: right;\n",
       "    }\n",
       "</style>\n",
       "<table border=\"1\" class=\"dataframe\">\n",
       "  <thead>\n",
       "    <tr style=\"text-align: right;\">\n",
       "      <th></th>\n",
       "      <th>trip_id</th>\n",
       "      <th>starttime</th>\n",
       "      <th>stoptime</th>\n",
       "      <th>bikeid</th>\n",
       "      <th>tripduration</th>\n",
       "      <th>from_station_id</th>\n",
       "      <th>from_station_name</th>\n",
       "      <th>to_station_id</th>\n",
       "      <th>to_station_name</th>\n",
       "      <th>usertype</th>\n",
       "      <th>gender</th>\n",
       "      <th>birthyear</th>\n",
       "    </tr>\n",
       "  </thead>\n",
       "  <tbody>\n",
       "    <tr>\n",
       "      <th>0</th>\n",
       "      <td>4607895</td>\n",
       "      <td>3/12/2015 7:11</td>\n",
       "      <td>3/12/2015 7:16</td>\n",
       "      <td>2058</td>\n",
       "      <td>322</td>\n",
       "      <td>75</td>\n",
       "      <td>Canal St &amp; Jackson Blvd</td>\n",
       "      <td>284</td>\n",
       "      <td>Michigan Ave &amp; Jackson Blvd</td>\n",
       "      <td>Subscriber</td>\n",
       "      <td>Male</td>\n",
       "      <td>1960.0</td>\n",
       "    </tr>\n",
       "    <tr>\n",
       "      <th>1</th>\n",
       "      <td>4467889</td>\n",
       "      <td>1/22/2015 17:07</td>\n",
       "      <td>1/22/2015 17:10</td>\n",
       "      <td>2499</td>\n",
       "      <td>178</td>\n",
       "      <td>16</td>\n",
       "      <td>Wood St &amp; North Ave</td>\n",
       "      <td>58</td>\n",
       "      <td>Marshfield Ave &amp; Cortland St</td>\n",
       "      <td>Subscriber</td>\n",
       "      <td>Male</td>\n",
       "      <td>1977.0</td>\n",
       "    </tr>\n",
       "    <tr>\n",
       "      <th>2</th>\n",
       "      <td>4644042</td>\n",
       "      <td>3/16/2015 10:30</td>\n",
       "      <td>3/16/2015 10:36</td>\n",
       "      <td>369</td>\n",
       "      <td>346</td>\n",
       "      <td>91</td>\n",
       "      <td>Clinton St &amp; Washington Blvd</td>\n",
       "      <td>100</td>\n",
       "      <td>Orleans St &amp; Merchandise Mart Plaza</td>\n",
       "      <td>Subscriber</td>\n",
       "      <td>Male</td>\n",
       "      <td>1986.0</td>\n",
       "    </tr>\n",
       "    <tr>\n",
       "      <th>3</th>\n",
       "      <td>4598015</td>\n",
       "      <td>3/10/2015 17:19</td>\n",
       "      <td>3/10/2015 17:36</td>\n",
       "      <td>857</td>\n",
       "      <td>1048</td>\n",
       "      <td>134</td>\n",
       "      <td>Peoria St &amp; Jackson Blvd</td>\n",
       "      <td>128</td>\n",
       "      <td>Damen Ave &amp; Chicago Ave</td>\n",
       "      <td>Subscriber</td>\n",
       "      <td>Male</td>\n",
       "      <td>1984.0</td>\n",
       "    </tr>\n",
       "    <tr>\n",
       "      <th>4</th>\n",
       "      <td>4467863</td>\n",
       "      <td>1/22/2015 17:02</td>\n",
       "      <td>1/22/2015 17:12</td>\n",
       "      <td>2241</td>\n",
       "      <td>611</td>\n",
       "      <td>52</td>\n",
       "      <td>Michigan Ave &amp; Lake St</td>\n",
       "      <td>192</td>\n",
       "      <td>Canal St &amp; Adams St</td>\n",
       "      <td>Subscriber</td>\n",
       "      <td>Male</td>\n",
       "      <td>1963.0</td>\n",
       "    </tr>\n",
       "  </tbody>\n",
       "</table>\n",
       "</div>"
      ],
      "text/plain": [
       "   trip_id        starttime         stoptime  bikeid  tripduration  \\\n",
       "0  4607895   3/12/2015 7:11   3/12/2015 7:16    2058           322   \n",
       "1  4467889  1/22/2015 17:07  1/22/2015 17:10    2499           178   \n",
       "2  4644042  3/16/2015 10:30  3/16/2015 10:36     369           346   \n",
       "3  4598015  3/10/2015 17:19  3/10/2015 17:36     857          1048   \n",
       "4  4467863  1/22/2015 17:02  1/22/2015 17:12    2241           611   \n",
       "\n",
       "   from_station_id             from_station_name  to_station_id  \\\n",
       "0               75       Canal St & Jackson Blvd            284   \n",
       "1               16           Wood St & North Ave             58   \n",
       "2               91  Clinton St & Washington Blvd            100   \n",
       "3              134      Peoria St & Jackson Blvd            128   \n",
       "4               52        Michigan Ave & Lake St            192   \n",
       "\n",
       "                       to_station_name    usertype gender  birthyear  \n",
       "0          Michigan Ave & Jackson Blvd  Subscriber   Male     1960.0  \n",
       "1         Marshfield Ave & Cortland St  Subscriber   Male     1977.0  \n",
       "2  Orleans St & Merchandise Mart Plaza  Subscriber   Male     1986.0  \n",
       "3              Damen Ave & Chicago Ave  Subscriber   Male     1984.0  \n",
       "4                  Canal St & Adams St  Subscriber   Male     1963.0  "
      ]
     },
     "execution_count": 80,
     "metadata": {},
     "output_type": "execute_result"
    }
   ],
   "source": [
    "# Let's take a look at the first quarter.\n",
    "q1 = pd.read_csv(q1_path)\n",
    "print(q1.shape)\n",
    "q1.head()"
   ]
  },
  {
   "cell_type": "code",
   "execution_count": 81,
   "metadata": {
    "colab": {
     "base_uri": "https://localhost:8080/",
     "height": 316
    },
    "colab_type": "code",
    "id": "VQpnFfyjPAfp",
    "outputId": "d5643354-e077-4f23-876e-474d1c89ecee"
   },
   "outputs": [
    {
     "name": "stdout",
     "output_type": "stream",
     "text": [
      "(1000, 12)\n"
     ]
    },
    {
     "data": {
      "text/html": [
       "<div>\n",
       "<style scoped>\n",
       "    .dataframe tbody tr th:only-of-type {\n",
       "        vertical-align: middle;\n",
       "    }\n",
       "\n",
       "    .dataframe tbody tr th {\n",
       "        vertical-align: top;\n",
       "    }\n",
       "\n",
       "    .dataframe thead th {\n",
       "        text-align: right;\n",
       "    }\n",
       "</style>\n",
       "<table border=\"1\" class=\"dataframe\">\n",
       "  <thead>\n",
       "    <tr style=\"text-align: right;\">\n",
       "      <th></th>\n",
       "      <th>trip_id</th>\n",
       "      <th>starttime</th>\n",
       "      <th>stoptime</th>\n",
       "      <th>bikeid</th>\n",
       "      <th>tripduration</th>\n",
       "      <th>from_station_id</th>\n",
       "      <th>from_station_name</th>\n",
       "      <th>to_station_id</th>\n",
       "      <th>to_station_name</th>\n",
       "      <th>usertype</th>\n",
       "      <th>gender</th>\n",
       "      <th>birthyear</th>\n",
       "    </tr>\n",
       "  </thead>\n",
       "  <tbody>\n",
       "    <tr>\n",
       "      <th>0</th>\n",
       "      <td>5019758</td>\n",
       "      <td>5/2/2015 10:05</td>\n",
       "      <td>5/2/2015 10:14</td>\n",
       "      <td>72</td>\n",
       "      <td>545</td>\n",
       "      <td>223</td>\n",
       "      <td>Clifton Ave &amp; Armitage Ave</td>\n",
       "      <td>349</td>\n",
       "      <td>Halsted St &amp; Wrightwood Ave</td>\n",
       "      <td>Subscriber</td>\n",
       "      <td>Male</td>\n",
       "      <td>1978.0</td>\n",
       "    </tr>\n",
       "    <tr>\n",
       "      <th>1</th>\n",
       "      <td>4874907</td>\n",
       "      <td>4/15/2015 17:21</td>\n",
       "      <td>4/15/2015 17:26</td>\n",
       "      <td>2683</td>\n",
       "      <td>304</td>\n",
       "      <td>197</td>\n",
       "      <td>Michigan Ave &amp; Madison St</td>\n",
       "      <td>174</td>\n",
       "      <td>Canal St &amp; Madison St</td>\n",
       "      <td>Subscriber</td>\n",
       "      <td>Male</td>\n",
       "      <td>1964.0</td>\n",
       "    </tr>\n",
       "    <tr>\n",
       "      <th>2</th>\n",
       "      <td>5149598</td>\n",
       "      <td>5/14/2015 6:23</td>\n",
       "      <td>5/14/2015 6:37</td>\n",
       "      <td>3404</td>\n",
       "      <td>806</td>\n",
       "      <td>273</td>\n",
       "      <td>Michigan Ave &amp; 16th St</td>\n",
       "      <td>192</td>\n",
       "      <td>Canal St &amp; Adams St</td>\n",
       "      <td>Subscriber</td>\n",
       "      <td>Male</td>\n",
       "      <td>1982.0</td>\n",
       "    </tr>\n",
       "    <tr>\n",
       "      <th>3</th>\n",
       "      <td>5127077</td>\n",
       "      <td>5/12/2015 6:33</td>\n",
       "      <td>5/12/2015 6:55</td>\n",
       "      <td>2374</td>\n",
       "      <td>1342</td>\n",
       "      <td>305</td>\n",
       "      <td>Western Ave &amp; Division St</td>\n",
       "      <td>24</td>\n",
       "      <td>Fairbanks Ct &amp; Grand Ave</td>\n",
       "      <td>Subscriber</td>\n",
       "      <td>Female</td>\n",
       "      <td>1989.0</td>\n",
       "    </tr>\n",
       "    <tr>\n",
       "      <th>4</th>\n",
       "      <td>4776193</td>\n",
       "      <td>4/4/2015 19:16</td>\n",
       "      <td>4/4/2015 19:39</td>\n",
       "      <td>2848</td>\n",
       "      <td>1432</td>\n",
       "      <td>85</td>\n",
       "      <td>Michigan Ave &amp; Oak St</td>\n",
       "      <td>304</td>\n",
       "      <td>Broadway &amp; Waveland Ave</td>\n",
       "      <td>Subscriber</td>\n",
       "      <td>Male</td>\n",
       "      <td>1978.0</td>\n",
       "    </tr>\n",
       "  </tbody>\n",
       "</table>\n",
       "</div>"
      ],
      "text/plain": [
       "   trip_id        starttime         stoptime  bikeid  tripduration  \\\n",
       "0  5019758   5/2/2015 10:05   5/2/2015 10:14      72           545   \n",
       "1  4874907  4/15/2015 17:21  4/15/2015 17:26    2683           304   \n",
       "2  5149598   5/14/2015 6:23   5/14/2015 6:37    3404           806   \n",
       "3  5127077   5/12/2015 6:33   5/12/2015 6:55    2374          1342   \n",
       "4  4776193   4/4/2015 19:16   4/4/2015 19:39    2848          1432   \n",
       "\n",
       "   from_station_id           from_station_name  to_station_id  \\\n",
       "0              223  Clifton Ave & Armitage Ave            349   \n",
       "1              197   Michigan Ave & Madison St            174   \n",
       "2              273      Michigan Ave & 16th St            192   \n",
       "3              305   Western Ave & Division St             24   \n",
       "4               85       Michigan Ave & Oak St            304   \n",
       "\n",
       "               to_station_name    usertype  gender  birthyear  \n",
       "0  Halsted St & Wrightwood Ave  Subscriber    Male     1978.0  \n",
       "1        Canal St & Madison St  Subscriber    Male     1964.0  \n",
       "2          Canal St & Adams St  Subscriber    Male     1982.0  \n",
       "3     Fairbanks Ct & Grand Ave  Subscriber  Female     1989.0  \n",
       "4      Broadway & Waveland Ave  Subscriber    Male     1978.0  "
      ]
     },
     "execution_count": 81,
     "metadata": {},
     "output_type": "execute_result"
    }
   ],
   "source": [
    "# how about the second quarter?\n",
    "q2 = pd.read_csv(q2_path)\n",
    "print(q2.shape)\n",
    "q2.head()"
   ]
  },
  {
   "cell_type": "code",
   "execution_count": 82,
   "metadata": {
    "colab": {
     "base_uri": "https://localhost:8080/",
     "height": 151
    },
    "colab_type": "code",
    "id": "9HZrjYU8PAfr",
    "outputId": "a24f1481-4ecd-4fc1-b564-22422f427f78"
   },
   "outputs": [
    {
     "name": "stdout",
     "output_type": "stream",
     "text": [
      "Index(['trip_id', 'starttime', 'stoptime', 'bikeid', 'tripduration',\n",
      "       'from_station_id', 'from_station_name', 'to_station_id',\n",
      "       'to_station_name', 'usertype', 'gender', 'birthyear'],\n",
      "      dtype='object')\n",
      "Index(['trip_id', 'starttime', 'stoptime', 'bikeid', 'tripduration',\n",
      "       'from_station_id', 'from_station_name', 'to_station_id',\n",
      "       'to_station_name', 'usertype', 'gender', 'birthyear'],\n",
      "      dtype='object')\n"
     ]
    }
   ],
   "source": [
    "# Do they have exactly the same columns?\n",
    "print(q1.columns)\n",
    "print(q2.columns)"
   ]
  },
  {
   "cell_type": "code",
   "execution_count": 83,
   "metadata": {
    "colab": {
     "base_uri": "https://localhost:8080/",
     "height": 34
    },
    "colab_type": "code",
    "id": "5F5CDVwiPAft",
    "outputId": "4af9ce79-828f-4a16-bef5-5d7d22601a76"
   },
   "outputs": [
    {
     "name": "stdout",
     "output_type": "stream",
     "text": [
      "The difference is:  []\n"
     ]
    }
   ],
   "source": [
    "# Let's define a function to check if they're REALLY equal.\n",
    "def difference_checker(list1, list2):\n",
    "    difference = list(set(list1) - set(list2))\n",
    "    print ('The difference is: ', difference)\n",
    "\n",
    "difference_checker(q1.columns, q2.columns)"
   ]
  },
  {
   "cell_type": "code",
   "execution_count": 84,
   "metadata": {
    "colab": {
     "base_uri": "https://localhost:8080/",
     "height": 34
    },
    "colab_type": "code",
    "id": "BIKTuTbxPAfv",
    "outputId": "451b250c-1740-43e2-a7db-d4322a15fc80"
   },
   "outputs": [
    {
     "data": {
      "text/plain": [
       "(2000, 12)"
      ]
     },
     "execution_count": 84,
     "metadata": {},
     "output_type": "execute_result"
    }
   ],
   "source": [
    "# Now we're sure they're equal, let's concatenate them.\n",
    "q1_q2=pd.concat([q1, q2], axis=0)\n",
    "q1_q2.shape"
   ]
  },
  {
   "cell_type": "code",
   "execution_count": 85,
   "metadata": {
    "colab": {
     "base_uri": "https://localhost:8080/",
     "height": 67
    },
    "colab_type": "code",
    "id": "gAnX1Qi2PAfx",
    "outputId": "12273332-e250-4ffa-df37-63033a26497a"
   },
   "outputs": [
    {
     "name": "stdout",
     "output_type": "stream",
     "text": [
      "(1000, 12)\n",
      "(1000, 12)\n",
      "(2000, 12)\n"
     ]
    }
   ],
   "source": [
    "# Confirm that did what we wanted it to.\n",
    "print(q1.shape)\n",
    "print(q2.shape)\n",
    "print(q1_q2.shape)"
   ]
  },
  {
   "cell_type": "code",
   "execution_count": 86,
   "metadata": {
    "colab": {
     "base_uri": "https://localhost:8080/",
     "height": 270
    },
    "colab_type": "code",
    "id": "cumOJh3ePAf1",
    "outputId": "7a93466a-8c48-4479-90c1-8f5be35cb2e4"
   },
   "outputs": [
    {
     "name": "stdout",
     "output_type": "stream",
     "text": [
      "(4000, 12)\n"
     ]
    },
    {
     "data": {
      "text/html": [
       "<div>\n",
       "<style scoped>\n",
       "    .dataframe tbody tr th:only-of-type {\n",
       "        vertical-align: middle;\n",
       "    }\n",
       "\n",
       "    .dataframe tbody tr th {\n",
       "        vertical-align: top;\n",
       "    }\n",
       "\n",
       "    .dataframe thead th {\n",
       "        text-align: right;\n",
       "    }\n",
       "</style>\n",
       "<table border=\"1\" class=\"dataframe\">\n",
       "  <thead>\n",
       "    <tr style=\"text-align: right;\">\n",
       "      <th></th>\n",
       "      <th>trip_id</th>\n",
       "      <th>starttime</th>\n",
       "      <th>stoptime</th>\n",
       "      <th>bikeid</th>\n",
       "      <th>tripduration</th>\n",
       "      <th>from_station_id</th>\n",
       "      <th>from_station_name</th>\n",
       "      <th>to_station_id</th>\n",
       "      <th>to_station_name</th>\n",
       "      <th>usertype</th>\n",
       "      <th>gender</th>\n",
       "      <th>birthyear</th>\n",
       "    </tr>\n",
       "  </thead>\n",
       "  <tbody>\n",
       "    <tr>\n",
       "      <th>467</th>\n",
       "      <td>4421807</td>\n",
       "      <td>1/5/2015 17:50</td>\n",
       "      <td>1/5/2015 18:12</td>\n",
       "      <td>2422</td>\n",
       "      <td>1376</td>\n",
       "      <td>174</td>\n",
       "      <td>Canal St &amp; Madison St</td>\n",
       "      <td>116</td>\n",
       "      <td>Western Ave &amp; Winnebago Ave</td>\n",
       "      <td>Subscriber</td>\n",
       "      <td>Male</td>\n",
       "      <td>1985.0</td>\n",
       "    </tr>\n",
       "    <tr>\n",
       "      <th>716</th>\n",
       "      <td>4706146</td>\n",
       "      <td>3/26/2015 9:03</td>\n",
       "      <td>3/26/2015 9:06</td>\n",
       "      <td>289</td>\n",
       "      <td>209</td>\n",
       "      <td>243</td>\n",
       "      <td>Lincoln Ave &amp; Leavitt St</td>\n",
       "      <td>239</td>\n",
       "      <td>Western Ave &amp; Leland Ave</td>\n",
       "      <td>Subscriber</td>\n",
       "      <td>Male</td>\n",
       "      <td>1980.0</td>\n",
       "    </tr>\n",
       "    <tr>\n",
       "      <th>149</th>\n",
       "      <td>8434294</td>\n",
       "      <td>12/8/2015 19:24</td>\n",
       "      <td>12/8/2015 19:31</td>\n",
       "      <td>1871</td>\n",
       "      <td>429</td>\n",
       "      <td>138</td>\n",
       "      <td>Clybourn Ave &amp; Division St</td>\n",
       "      <td>180</td>\n",
       "      <td>Ritchie Ct &amp; Banks St</td>\n",
       "      <td>Subscriber</td>\n",
       "      <td>Male</td>\n",
       "      <td>1998.0</td>\n",
       "    </tr>\n",
       "    <tr>\n",
       "      <th>74</th>\n",
       "      <td>4613779</td>\n",
       "      <td>3/12/2015 18:26</td>\n",
       "      <td>3/12/2015 18:30</td>\n",
       "      <td>568</td>\n",
       "      <td>271</td>\n",
       "      <td>153</td>\n",
       "      <td>Southport Ave &amp; Wellington Ave</td>\n",
       "      <td>115</td>\n",
       "      <td>Sheffield Ave &amp; Wellington Ave</td>\n",
       "      <td>Subscriber</td>\n",
       "      <td>Male</td>\n",
       "      <td>1992.0</td>\n",
       "    </tr>\n",
       "  </tbody>\n",
       "</table>\n",
       "</div>"
      ],
      "text/plain": [
       "     trip_id        starttime         stoptime  bikeid  tripduration  \\\n",
       "467  4421807   1/5/2015 17:50   1/5/2015 18:12    2422          1376   \n",
       "716  4706146   3/26/2015 9:03   3/26/2015 9:06     289           209   \n",
       "149  8434294  12/8/2015 19:24  12/8/2015 19:31    1871           429   \n",
       "74   4613779  3/12/2015 18:26  3/12/2015 18:30     568           271   \n",
       "\n",
       "     from_station_id               from_station_name  to_station_id  \\\n",
       "467              174           Canal St & Madison St            116   \n",
       "716              243        Lincoln Ave & Leavitt St            239   \n",
       "149              138      Clybourn Ave & Division St            180   \n",
       "74               153  Southport Ave & Wellington Ave            115   \n",
       "\n",
       "                    to_station_name    usertype gender  birthyear  \n",
       "467     Western Ave & Winnebago Ave  Subscriber   Male     1985.0  \n",
       "716        Western Ave & Leland Ave  Subscriber   Male     1980.0  \n",
       "149           Ritchie Ct & Banks St  Subscriber   Male     1998.0  \n",
       "74   Sheffield Ave & Wellington Ave  Subscriber   Male     1992.0  "
      ]
     },
     "execution_count": 86,
     "metadata": {},
     "output_type": "execute_result"
    }
   ],
   "source": [
    "# Now add quarters 3 and 4, as well.\n",
    "q3 = pd.read_csv(q3_path)\n",
    "q4 = pd.read_csv(q4_path)\n",
    "\n",
    "allbikes=pd.concat([q1, q2, q3, q4], axis=0)\n",
    "print(allbikes.shape)\n",
    "allbikes.sample(4)"
   ]
  },
  {
   "cell_type": "markdown",
   "metadata": {},
   "source": [
    "### Working with datetime objects"
   ]
  },
  {
   "cell_type": "code",
   "execution_count": 87,
   "metadata": {},
   "outputs": [
    {
     "data": {
      "text/plain": [
       "dtype('O')"
      ]
     },
     "execution_count": 87,
     "metadata": {},
     "output_type": "execute_result"
    }
   ],
   "source": [
    "# Start time is an \"object\" time\n",
    "allbikes['starttime'].dtype"
   ]
  },
  {
   "cell_type": "code",
   "execution_count": 88,
   "metadata": {},
   "outputs": [
    {
     "data": {
      "text/html": [
       "<div>\n",
       "<style scoped>\n",
       "    .dataframe tbody tr th:only-of-type {\n",
       "        vertical-align: middle;\n",
       "    }\n",
       "\n",
       "    .dataframe tbody tr th {\n",
       "        vertical-align: top;\n",
       "    }\n",
       "\n",
       "    .dataframe thead th {\n",
       "        text-align: right;\n",
       "    }\n",
       "</style>\n",
       "<table border=\"1\" class=\"dataframe\">\n",
       "  <thead>\n",
       "    <tr style=\"text-align: right;\">\n",
       "      <th></th>\n",
       "      <th>starttime</th>\n",
       "      <th>date</th>\n",
       "    </tr>\n",
       "  </thead>\n",
       "  <tbody>\n",
       "    <tr>\n",
       "      <th>0</th>\n",
       "      <td>3/12/2015 7:11</td>\n",
       "      <td>2015-03-12</td>\n",
       "    </tr>\n",
       "    <tr>\n",
       "      <th>1</th>\n",
       "      <td>1/22/2015 17:07</td>\n",
       "      <td>2015-01-22</td>\n",
       "    </tr>\n",
       "    <tr>\n",
       "      <th>2</th>\n",
       "      <td>3/16/2015 10:30</td>\n",
       "      <td>2015-03-16</td>\n",
       "    </tr>\n",
       "  </tbody>\n",
       "</table>\n",
       "</div>"
      ],
      "text/plain": [
       "         starttime        date\n",
       "0   3/12/2015 7:11  2015-03-12\n",
       "1  1/22/2015 17:07  2015-01-22\n",
       "2  3/16/2015 10:30  2015-03-16"
      ]
     },
     "execution_count": 88,
     "metadata": {},
     "output_type": "execute_result"
    }
   ],
   "source": [
    "# Convert to datetime format and make it into a weekday\n",
    "allbikes['date'] = pd.to_datetime(allbikes['starttime']).dt.date\n",
    "allbikes[['starttime', 'date']].head(3)"
   ]
  },
  {
   "cell_type": "code",
   "execution_count": 89,
   "metadata": {},
   "outputs": [
    {
     "data": {
      "image/png": "[encoded data removed]",
      "text/plain": [
       "<Figure size 432x288 with 1 Axes>"
      ]
     },
     "metadata": {
      "needs_background": "light"
     },
     "output_type": "display_data"
    }
   ],
   "source": [
    "# Display a line chart with that info\n",
    "allbikes.groupby(['date'])['trip_id'].count().plot();"
   ]
  },
  {
   "cell_type": "code",
   "execution_count": 90,
   "metadata": {},
   "outputs": [
    {
     "data": {
      "text/html": [
       "<div>\n",
       "<style scoped>\n",
       "    .dataframe tbody tr th:only-of-type {\n",
       "        vertical-align: middle;\n",
       "    }\n",
       "\n",
       "    .dataframe tbody tr th {\n",
       "        vertical-align: top;\n",
       "    }\n",
       "\n",
       "    .dataframe thead th {\n",
       "        text-align: right;\n",
       "    }\n",
       "</style>\n",
       "<table border=\"1\" class=\"dataframe\">\n",
       "  <thead>\n",
       "    <tr style=\"text-align: right;\">\n",
       "      <th></th>\n",
       "      <th>starttime</th>\n",
       "      <th>date</th>\n",
       "      <th>month</th>\n",
       "    </tr>\n",
       "  </thead>\n",
       "  <tbody>\n",
       "    <tr>\n",
       "      <th>0</th>\n",
       "      <td>3/12/2015 7:11</td>\n",
       "      <td>2015-03-12</td>\n",
       "      <td>3</td>\n",
       "    </tr>\n",
       "    <tr>\n",
       "      <th>1</th>\n",
       "      <td>1/22/2015 17:07</td>\n",
       "      <td>2015-01-22</td>\n",
       "      <td>1</td>\n",
       "    </tr>\n",
       "    <tr>\n",
       "      <th>2</th>\n",
       "      <td>3/16/2015 10:30</td>\n",
       "      <td>2015-03-16</td>\n",
       "      <td>3</td>\n",
       "    </tr>\n",
       "  </tbody>\n",
       "</table>\n",
       "</div>"
      ],
      "text/plain": [
       "         starttime        date  month\n",
       "0   3/12/2015 7:11  2015-03-12      3\n",
       "1  1/22/2015 17:07  2015-01-22      1\n",
       "2  3/16/2015 10:30  2015-03-16      3"
      ]
     },
     "execution_count": 90,
     "metadata": {},
     "output_type": "execute_result"
    }
   ],
   "source": [
    "# Convert to datetime format and make it into a month\n",
    "allbikes['month'] = pd.to_datetime(allbikes['starttime']).dt.month\n",
    "allbikes[['starttime', 'date', 'month']].head(3)"
   ]
  },
  {
   "cell_type": "code",
   "execution_count": 91,
   "metadata": {},
   "outputs": [
    {
     "data": {
      "image/png": "[encoded data removed]",
      "text/plain": [
       "<Figure size 432x288 with 1 Axes>"
      ]
     },
     "metadata": {
      "needs_background": "light"
     },
     "output_type": "display_data"
    }
   ],
   "source": [
    "# Display a line chart with that info\n",
    "allbikes.groupby(['month'])['trip_id'].count().plot();"
   ]
  },
  {
   "cell_type": "code",
   "execution_count": 92,
   "metadata": {},
   "outputs": [
    {
     "data": {
      "text/plain": [
       "0    605\n",
       "1    602\n",
       "2    612\n",
       "3    555\n",
       "4    603\n",
       "5    538\n",
       "6    485\n",
       "Name: weekday, dtype: int64"
      ]
     },
     "execution_count": 92,
     "metadata": {},
     "output_type": "execute_result"
    }
   ],
   "source": [
    "# Convert to datetime format and make it into a weekday\n",
    "# The day of the week with Monday=0, Sunday=6.\n",
    "allbikes['weekday'] = pd.to_datetime(allbikes['starttime']).dt.weekday\n",
    "allbikes['weekday'].value_counts().sort_index()"
   ]
  },
  {
   "cell_type": "code",
   "execution_count": 93,
   "metadata": {},
   "outputs": [
    {
     "data": {
      "image/png": "[encoded data removed]",
      "text/plain": [
       "<Figure size 432x288 with 1 Axes>"
      ]
     },
     "metadata": {
      "needs_background": "light"
     },
     "output_type": "display_data"
    }
   ],
   "source": [
    "# Display a line chart with that info\n",
    "allbikes.groupby(['weekday'])['tripduration'].mean().plot();"
   ]
  },
  {
   "cell_type": "code",
   "execution_count": 94,
   "metadata": {},
   "outputs": [
    {
     "data": {
      "image/png": "[encoded data removed]",
      "text/plain": [
       "<Figure size 432x288 with 1 Axes>"
      ]
     },
     "metadata": {
      "needs_background": "light"
     },
     "output_type": "display_data"
    }
   ],
   "source": [
    "# Do men and women have different cycling patterns?\n",
    "allbikes[allbikes['gender']=='Male'].groupby(['weekday'])['tripduration'].mean().plot();\n",
    "allbikes[allbikes['gender']=='Female'].groupby(['weekday'])['tripduration'].mean().plot();\n"
   ]
  },
  {
   "cell_type": "markdown",
   "metadata": {
    "colab_type": "text",
    "id": "jdzyMko1PAf5"
   },
   "source": [
    "### 2.2 Merging datasets about counties\n",
    "Original sources:  \n",
    "https://www.kaggle.com/muonneutrino/us-census-demographic-data/download  \n",
    "https://www.ers.usda.gov/data-products/rural-urban-continuum-codes/"
   ]
  },
  {
   "cell_type": "code",
   "execution_count": 95,
   "metadata": {
    "colab": {},
    "colab_type": "code",
    "id": "-qko78oMPAf6"
   },
   "outputs": [],
   "source": [
    "# Get some population data about counties from the Census Bureau\n",
    "source1='https://raw.githubusercontent.com/austinlasseter/dash-virginia-counties/master/resources/acs2017_county_data.csv'"
   ]
  },
  {
   "cell_type": "code",
   "execution_count": 96,
   "metadata": {
    "colab": {
     "base_uri": "https://localhost:8080/",
     "height": 299
    },
    "colab_type": "code",
    "id": "ehTb_armPAf8",
    "outputId": "b705841b-f53d-4f64-ba81-4253100f79da"
   },
   "outputs": [
    {
     "data": {
      "text/html": [
       "<div>\n",
       "<style scoped>\n",
       "    .dataframe tbody tr th:only-of-type {\n",
       "        vertical-align: middle;\n",
       "    }\n",
       "\n",
       "    .dataframe tbody tr th {\n",
       "        vertical-align: top;\n",
       "    }\n",
       "\n",
       "    .dataframe thead th {\n",
       "        text-align: right;\n",
       "    }\n",
       "</style>\n",
       "<table border=\"1\" class=\"dataframe\">\n",
       "  <thead>\n",
       "    <tr style=\"text-align: right;\">\n",
       "      <th></th>\n",
       "      <th>CountyId</th>\n",
       "      <th>State</th>\n",
       "      <th>County</th>\n",
       "      <th>TotalPop</th>\n",
       "      <th>Men</th>\n",
       "      <th>Women</th>\n",
       "      <th>Hispanic</th>\n",
       "      <th>White</th>\n",
       "      <th>Black</th>\n",
       "      <th>Native</th>\n",
       "      <th>...</th>\n",
       "      <th>Walk</th>\n",
       "      <th>OtherTransp</th>\n",
       "      <th>WorkAtHome</th>\n",
       "      <th>MeanCommute</th>\n",
       "      <th>Employed</th>\n",
       "      <th>PrivateWork</th>\n",
       "      <th>PublicWork</th>\n",
       "      <th>SelfEmployed</th>\n",
       "      <th>FamilyWork</th>\n",
       "      <th>Unemployment</th>\n",
       "    </tr>\n",
       "  </thead>\n",
       "  <tbody>\n",
       "    <tr>\n",
       "      <th>1503</th>\n",
       "      <td>29041</td>\n",
       "      <td>Missouri</td>\n",
       "      <td>Chariton County</td>\n",
       "      <td>7586</td>\n",
       "      <td>3768</td>\n",
       "      <td>3818</td>\n",
       "      <td>0.9</td>\n",
       "      <td>95.3</td>\n",
       "      <td>2.2</td>\n",
       "      <td>0.1</td>\n",
       "      <td>...</td>\n",
       "      <td>1.3</td>\n",
       "      <td>1.2</td>\n",
       "      <td>8.0</td>\n",
       "      <td>23.2</td>\n",
       "      <td>3129</td>\n",
       "      <td>70.8</td>\n",
       "      <td>15.9</td>\n",
       "      <td>13.3</td>\n",
       "      <td>0.0</td>\n",
       "      <td>3.7</td>\n",
       "    </tr>\n",
       "    <tr>\n",
       "      <th>1042</th>\n",
       "      <td>21099</td>\n",
       "      <td>Kentucky</td>\n",
       "      <td>Hart County</td>\n",
       "      <td>18531</td>\n",
       "      <td>9138</td>\n",
       "      <td>9393</td>\n",
       "      <td>1.7</td>\n",
       "      <td>91.7</td>\n",
       "      <td>4.3</td>\n",
       "      <td>0.4</td>\n",
       "      <td>...</td>\n",
       "      <td>2.1</td>\n",
       "      <td>3.2</td>\n",
       "      <td>3.6</td>\n",
       "      <td>29.1</td>\n",
       "      <td>7125</td>\n",
       "      <td>73.0</td>\n",
       "      <td>14.9</td>\n",
       "      <td>11.5</td>\n",
       "      <td>0.6</td>\n",
       "      <td>6.6</td>\n",
       "    </tr>\n",
       "    <tr>\n",
       "      <th>346</th>\n",
       "      <td>12055</td>\n",
       "      <td>Florida</td>\n",
       "      <td>Highlands County</td>\n",
       "      <td>100177</td>\n",
       "      <td>48518</td>\n",
       "      <td>51659</td>\n",
       "      <td>18.9</td>\n",
       "      <td>68.4</td>\n",
       "      <td>9.3</td>\n",
       "      <td>0.3</td>\n",
       "      <td>...</td>\n",
       "      <td>1.7</td>\n",
       "      <td>1.8</td>\n",
       "      <td>4.9</td>\n",
       "      <td>20.4</td>\n",
       "      <td>31980</td>\n",
       "      <td>79.8</td>\n",
       "      <td>13.7</td>\n",
       "      <td>6.2</td>\n",
       "      <td>0.3</td>\n",
       "      <td>11.5</td>\n",
       "    </tr>\n",
       "    <tr>\n",
       "      <th>2834</th>\n",
       "      <td>51029</td>\n",
       "      <td>Virginia</td>\n",
       "      <td>Buckingham County</td>\n",
       "      <td>17048</td>\n",
       "      <td>9465</td>\n",
       "      <td>7583</td>\n",
       "      <td>2.4</td>\n",
       "      <td>61.1</td>\n",
       "      <td>34.3</td>\n",
       "      <td>0.3</td>\n",
       "      <td>...</td>\n",
       "      <td>1.5</td>\n",
       "      <td>1.2</td>\n",
       "      <td>3.6</td>\n",
       "      <td>35.5</td>\n",
       "      <td>6543</td>\n",
       "      <td>74.0</td>\n",
       "      <td>19.0</td>\n",
       "      <td>6.6</td>\n",
       "      <td>0.4</td>\n",
       "      <td>8.4</td>\n",
       "    </tr>\n",
       "    <tr>\n",
       "      <th>131</th>\n",
       "      <td>5041</td>\n",
       "      <td>Arkansas</td>\n",
       "      <td>Desha County</td>\n",
       "      <td>12094</td>\n",
       "      <td>5547</td>\n",
       "      <td>6547</td>\n",
       "      <td>5.8</td>\n",
       "      <td>45.7</td>\n",
       "      <td>47.5</td>\n",
       "      <td>0.1</td>\n",
       "      <td>...</td>\n",
       "      <td>1.5</td>\n",
       "      <td>2.1</td>\n",
       "      <td>1.5</td>\n",
       "      <td>19.3</td>\n",
       "      <td>4440</td>\n",
       "      <td>68.6</td>\n",
       "      <td>26.9</td>\n",
       "      <td>4.5</td>\n",
       "      <td>0.0</td>\n",
       "      <td>12.2</td>\n",
       "    </tr>\n",
       "  </tbody>\n",
       "</table>\n",
       "<p>5 rows × 37 columns</p>\n",
       "</div>"
      ],
      "text/plain": [
       "      CountyId     State             County  TotalPop    Men  Women  Hispanic  \\\n",
       "1503     29041  Missouri    Chariton County      7586   3768   3818       0.9   \n",
       "1042     21099  Kentucky        Hart County     18531   9138   9393       1.7   \n",
       "346      12055   Florida   Highlands County    100177  48518  51659      18.9   \n",
       "2834     51029  Virginia  Buckingham County     17048   9465   7583       2.4   \n",
       "131       5041  Arkansas       Desha County     12094   5547   6547       5.8   \n",
       "\n",
       "      White  Black  Native  ...  Walk  OtherTransp  WorkAtHome  MeanCommute  \\\n",
       "1503   95.3    2.2     0.1  ...   1.3          1.2         8.0         23.2   \n",
       "1042   91.7    4.3     0.4  ...   2.1          3.2         3.6         29.1   \n",
       "346    68.4    9.3     0.3  ...   1.7          1.8         4.9         20.4   \n",
       "2834   61.1   34.3     0.3  ...   1.5          1.2         3.6         35.5   \n",
       "131    45.7   47.5     0.1  ...   1.5          2.1         1.5         19.3   \n",
       "\n",
       "      Employed  PrivateWork  PublicWork  SelfEmployed  FamilyWork  \\\n",
       "1503      3129         70.8        15.9          13.3         0.0   \n",
       "1042      7125         73.0        14.9          11.5         0.6   \n",
       "346      31980         79.8        13.7           6.2         0.3   \n",
       "2834      6543         74.0        19.0           6.6         0.4   \n",
       "131       4440         68.6        26.9           4.5         0.0   \n",
       "\n",
       "      Unemployment  \n",
       "1503           3.7  \n",
       "1042           6.6  \n",
       "346           11.5  \n",
       "2834           8.4  \n",
       "131           12.2  \n",
       "\n",
       "[5 rows x 37 columns]"
      ]
     },
     "execution_count": 96,
     "metadata": {},
     "output_type": "execute_result"
    }
   ],
   "source": [
    "# Read that into Pandas, and check out 5 rows.\n",
    "census=pd.read_csv(source1)\n",
    "census.sample(5)"
   ]
  },
  {
   "cell_type": "code",
   "execution_count": 97,
   "metadata": {
    "colab": {
     "base_uri": "https://localhost:8080/",
     "height": 151
    },
    "colab_type": "code",
    "id": "p8FR3foJPAf-",
    "outputId": "ca685dac-49a1-4954-d470-4b457c04b3ff"
   },
   "outputs": [
    {
     "name": "stdout",
     "output_type": "stream",
     "text": [
      "Index(['CountyId', 'State', 'County', 'TotalPop', 'Men', 'Women', 'Hispanic',\n",
      "       'White', 'Black', 'Native', 'Asian', 'Pacific', 'VotingAgeCitizen',\n",
      "       'Income', 'IncomeErr', 'IncomePerCap', 'IncomePerCapErr', 'Poverty',\n",
      "       'ChildPoverty', 'Professional', 'Service', 'Office', 'Construction',\n",
      "       'Production', 'Drive', 'Carpool', 'Transit', 'Walk', 'OtherTransp',\n",
      "       'WorkAtHome', 'MeanCommute', 'Employed', 'PrivateWork', 'PublicWork',\n",
      "       'SelfEmployed', 'FamilyWork', 'Unemployment'],\n",
      "      dtype='object')\n"
     ]
    }
   ],
   "source": [
    "# What are all the columns?\n",
    "print(census.columns)"
   ]
  },
  {
   "cell_type": "code",
   "execution_count": 98,
   "metadata": {
    "colab": {},
    "colab_type": "code",
    "id": "3GKgIau2PAgA"
   },
   "outputs": [],
   "source": [
    "# Let's restrict that to just a few columns, for a simple analysis about commute times\n",
    "commute=census[['CountyId', 'State', 'County', 'MeanCommute']]"
   ]
  },
  {
   "cell_type": "code",
   "execution_count": 99,
   "metadata": {
    "colab": {
     "base_uri": "https://localhost:8080/",
     "height": 34
    },
    "colab_type": "code",
    "id": "0bE5_1DQPAgC",
    "outputId": "44974748-ca76-4844-a0bc-1561ef02e0ed"
   },
   "outputs": [
    {
     "data": {
      "text/plain": [
       "23.47453416149071"
      ]
     },
     "execution_count": 99,
     "metadata": {},
     "output_type": "execute_result"
    }
   ],
   "source": [
    "# What's the average commute in the USA?\n",
    "commute['MeanCommute'].mean()"
   ]
  },
  {
   "cell_type": "code",
   "execution_count": 100,
   "metadata": {
    "colab": {},
    "colab_type": "code",
    "id": "v3qXaxn4PAgH"
   },
   "outputs": [],
   "source": [
    "# Now let's augment that with some outside data from USDA.\n",
    "source2='https://github.com/austinlasseter/dash-virginia-counties/blob/master/resources/ruralurbancodes2013.xls?raw=true'"
   ]
  },
  {
   "cell_type": "code",
   "execution_count": 101,
   "metadata": {
    "colab": {
     "base_uri": "https://localhost:8080/",
     "height": 195
    },
    "colab_type": "code",
    "id": "6hP-Ur2uPAgK",
    "outputId": "53c74de6-86be-4a98-d8a7-24f9e7f94dfa"
   },
   "outputs": [
    {
     "data": {
      "text/html": [
       "<div>\n",
       "<style scoped>\n",
       "    .dataframe tbody tr th:only-of-type {\n",
       "        vertical-align: middle;\n",
       "    }\n",
       "\n",
       "    .dataframe tbody tr th {\n",
       "        vertical-align: top;\n",
       "    }\n",
       "\n",
       "    .dataframe thead th {\n",
       "        text-align: right;\n",
       "    }\n",
       "</style>\n",
       "<table border=\"1\" class=\"dataframe\">\n",
       "  <thead>\n",
       "    <tr style=\"text-align: right;\">\n",
       "      <th></th>\n",
       "      <th>FIPS</th>\n",
       "      <th>State</th>\n",
       "      <th>County_Name</th>\n",
       "      <th>Population_2010</th>\n",
       "      <th>RUCC_2013</th>\n",
       "      <th>Description</th>\n",
       "    </tr>\n",
       "  </thead>\n",
       "  <tbody>\n",
       "    <tr>\n",
       "      <th>2660</th>\n",
       "      <td>48275</td>\n",
       "      <td>TX</td>\n",
       "      <td>Knox County</td>\n",
       "      <td>3719</td>\n",
       "      <td>9</td>\n",
       "      <td>Nonmetro - Completely rural or less than 2,500...</td>\n",
       "    </tr>\n",
       "    <tr>\n",
       "      <th>1059</th>\n",
       "      <td>21133</td>\n",
       "      <td>KY</td>\n",
       "      <td>Letcher County</td>\n",
       "      <td>24519</td>\n",
       "      <td>9</td>\n",
       "      <td>Nonmetro - Completely rural or less than 2,500...</td>\n",
       "    </tr>\n",
       "    <tr>\n",
       "      <th>2197</th>\n",
       "      <td>40133</td>\n",
       "      <td>OK</td>\n",
       "      <td>Seminole County</td>\n",
       "      <td>25482</td>\n",
       "      <td>7</td>\n",
       "      <td>Nonmetro - Urban population of 2,500 to 19,999...</td>\n",
       "    </tr>\n",
       "    <tr>\n",
       "      <th>3048</th>\n",
       "      <td>55001</td>\n",
       "      <td>WI</td>\n",
       "      <td>Adams County</td>\n",
       "      <td>20875</td>\n",
       "      <td>8</td>\n",
       "      <td>Nonmetro - Completely rural or less than 2,500...</td>\n",
       "    </tr>\n",
       "    <tr>\n",
       "      <th>1727</th>\n",
       "      <td>31147</td>\n",
       "      <td>NE</td>\n",
       "      <td>Richardson County</td>\n",
       "      <td>8363</td>\n",
       "      <td>7</td>\n",
       "      <td>Nonmetro - Urban population of 2,500 to 19,999...</td>\n",
       "    </tr>\n",
       "  </tbody>\n",
       "</table>\n",
       "</div>"
      ],
      "text/plain": [
       "       FIPS State        County_Name  Population_2010  RUCC_2013  \\\n",
       "2660  48275    TX        Knox County             3719          9   \n",
       "1059  21133    KY     Letcher County            24519          9   \n",
       "2197  40133    OK    Seminole County            25482          7   \n",
       "3048  55001    WI       Adams County            20875          8   \n",
       "1727  31147    NE  Richardson County             8363          7   \n",
       "\n",
       "                                            Description  \n",
       "2660  Nonmetro - Completely rural or less than 2,500...  \n",
       "1059  Nonmetro - Completely rural or less than 2,500...  \n",
       "2197  Nonmetro - Urban population of 2,500 to 19,999...  \n",
       "3048  Nonmetro - Completely rural or less than 2,500...  \n",
       "1727  Nonmetro - Urban population of 2,500 to 19,999...  "
      ]
     },
     "execution_count": 101,
     "metadata": {},
     "output_type": "execute_result"
    }
   ],
   "source": [
    "# Take a look at that new data.\n",
    "usda=pd.read_excel(source2)\n",
    "usda.sample(5)"
   ]
  },
  {
   "cell_type": "code",
   "execution_count": 102,
   "metadata": {
    "colab": {
     "base_uri": "https://localhost:8080/",
     "height": 343
    },
    "colab_type": "code",
    "id": "dkCrPlu5PAgN",
    "outputId": "3cd0e32d-8e44-482d-ace1-2763a3ae7946"
   },
   "outputs": [
    {
     "data": {
      "text/html": [
       "<div>\n",
       "<style scoped>\n",
       "    .dataframe tbody tr th:only-of-type {\n",
       "        vertical-align: middle;\n",
       "    }\n",
       "\n",
       "    .dataframe tbody tr th {\n",
       "        vertical-align: top;\n",
       "    }\n",
       "\n",
       "    .dataframe thead th {\n",
       "        text-align: right;\n",
       "    }\n",
       "</style>\n",
       "<table border=\"1\" class=\"dataframe\">\n",
       "  <thead>\n",
       "    <tr style=\"text-align: right;\">\n",
       "      <th></th>\n",
       "      <th>Description</th>\n",
       "    </tr>\n",
       "    <tr>\n",
       "      <th>RUCC_2013</th>\n",
       "      <th></th>\n",
       "    </tr>\n",
       "  </thead>\n",
       "  <tbody>\n",
       "    <tr>\n",
       "      <th>1</th>\n",
       "      <td>Metro - Counties in metro areas of 1 million p...</td>\n",
       "    </tr>\n",
       "    <tr>\n",
       "      <th>2</th>\n",
       "      <td>Metro - Counties in metro areas of 250,000 to ...</td>\n",
       "    </tr>\n",
       "    <tr>\n",
       "      <th>3</th>\n",
       "      <td>Metro - Counties in metro areas of fewer than ...</td>\n",
       "    </tr>\n",
       "    <tr>\n",
       "      <th>4</th>\n",
       "      <td>Nonmetro - Urban population of 20,000 or more,...</td>\n",
       "    </tr>\n",
       "    <tr>\n",
       "      <th>5</th>\n",
       "      <td>Nonmetro - Urban population of 20,000 or more,...</td>\n",
       "    </tr>\n",
       "    <tr>\n",
       "      <th>6</th>\n",
       "      <td>Nonmetro - Urban population of 2,500 to 19,999...</td>\n",
       "    </tr>\n",
       "    <tr>\n",
       "      <th>7</th>\n",
       "      <td>Nonmetro - Urban population of 2,500 to 19,999...</td>\n",
       "    </tr>\n",
       "    <tr>\n",
       "      <th>8</th>\n",
       "      <td>Nonmetro - Completely rural or less than 2,500...</td>\n",
       "    </tr>\n",
       "    <tr>\n",
       "      <th>9</th>\n",
       "      <td>Nonmetro - Completely rural or less than 2,500...</td>\n",
       "    </tr>\n",
       "  </tbody>\n",
       "</table>\n",
       "</div>"
      ],
      "text/plain": [
       "                                                 Description\n",
       "RUCC_2013                                                   \n",
       "1          Metro - Counties in metro areas of 1 million p...\n",
       "2          Metro - Counties in metro areas of 250,000 to ...\n",
       "3          Metro - Counties in metro areas of fewer than ...\n",
       "4          Nonmetro - Urban population of 20,000 or more,...\n",
       "5          Nonmetro - Urban population of 20,000 or more,...\n",
       "6          Nonmetro - Urban population of 2,500 to 19,999...\n",
       "7          Nonmetro - Urban population of 2,500 to 19,999...\n",
       "8          Nonmetro - Completely rural or less than 2,500...\n",
       "9          Nonmetro - Completely rural or less than 2,500..."
      ]
     },
     "execution_count": 102,
     "metadata": {},
     "output_type": "execute_result"
    }
   ],
   "source": [
    "# What are those RUCC codes all about?\n",
    "usda.groupby('RUCC_2013')[['Description']].max()"
   ]
  },
  {
   "cell_type": "code",
   "execution_count": 103,
   "metadata": {
    "colab": {},
    "colab_type": "code",
    "id": "E3BHed9TPAgP"
   },
   "outputs": [],
   "source": [
    "# Let's shrink that USDA data to just the columns we need.\n",
    "usda=usda[['FIPS', 'RUCC_2013']]"
   ]
  },
  {
   "cell_type": "code",
   "execution_count": 104,
   "metadata": {
    "colab": {
     "base_uri": "https://localhost:8080/",
     "height": 195
    },
    "colab_type": "code",
    "id": "2pbKxtOePAgR",
    "outputId": "31607b0c-5af4-4cd1-8355-14f97bb4c233"
   },
   "outputs": [
    {
     "data": {
      "text/html": [
       "<div>\n",
       "<style scoped>\n",
       "    .dataframe tbody tr th:only-of-type {\n",
       "        vertical-align: middle;\n",
       "    }\n",
       "\n",
       "    .dataframe tbody tr th {\n",
       "        vertical-align: top;\n",
       "    }\n",
       "\n",
       "    .dataframe thead th {\n",
       "        text-align: right;\n",
       "    }\n",
       "</style>\n",
       "<table border=\"1\" class=\"dataframe\">\n",
       "  <thead>\n",
       "    <tr style=\"text-align: right;\">\n",
       "      <th></th>\n",
       "      <th>CountyId</th>\n",
       "      <th>State</th>\n",
       "      <th>County</th>\n",
       "      <th>MeanCommute</th>\n",
       "      <th>FIPS</th>\n",
       "      <th>RUCC_2013</th>\n",
       "    </tr>\n",
       "  </thead>\n",
       "  <tbody>\n",
       "    <tr>\n",
       "      <th>2521</th>\n",
       "      <td>47187</td>\n",
       "      <td>Tennessee</td>\n",
       "      <td>Williamson County</td>\n",
       "      <td>27.3</td>\n",
       "      <td>47187.0</td>\n",
       "      <td>1.0</td>\n",
       "    </tr>\n",
       "    <tr>\n",
       "      <th>1199</th>\n",
       "      <td>24015</td>\n",
       "      <td>Maryland</td>\n",
       "      <td>Cecil County</td>\n",
       "      <td>29.3</td>\n",
       "      <td>24015.0</td>\n",
       "      <td>1.0</td>\n",
       "    </tr>\n",
       "    <tr>\n",
       "      <th>1911</th>\n",
       "      <td>37043</td>\n",
       "      <td>North Carolina</td>\n",
       "      <td>Clay County</td>\n",
       "      <td>21.3</td>\n",
       "      <td>37043.0</td>\n",
       "      <td>9.0</td>\n",
       "    </tr>\n",
       "    <tr>\n",
       "      <th>1057</th>\n",
       "      <td>21129</td>\n",
       "      <td>Kentucky</td>\n",
       "      <td>Lee County</td>\n",
       "      <td>32.1</td>\n",
       "      <td>21129.0</td>\n",
       "      <td>9.0</td>\n",
       "    </tr>\n",
       "    <tr>\n",
       "      <th>1040</th>\n",
       "      <td>21095</td>\n",
       "      <td>Kentucky</td>\n",
       "      <td>Harlan County</td>\n",
       "      <td>20.6</td>\n",
       "      <td>21095.0</td>\n",
       "      <td>7.0</td>\n",
       "    </tr>\n",
       "  </tbody>\n",
       "</table>\n",
       "</div>"
      ],
      "text/plain": [
       "      CountyId           State             County  MeanCommute     FIPS  \\\n",
       "2521     47187       Tennessee  Williamson County         27.3  47187.0   \n",
       "1199     24015        Maryland       Cecil County         29.3  24015.0   \n",
       "1911     37043  North Carolina        Clay County         21.3  37043.0   \n",
       "1057     21129        Kentucky         Lee County         32.1  21129.0   \n",
       "1040     21095        Kentucky      Harlan County         20.6  21095.0   \n",
       "\n",
       "      RUCC_2013  \n",
       "2521        1.0  \n",
       "1199        1.0  \n",
       "1911        9.0  \n",
       "1057        9.0  \n",
       "1040        7.0  "
      ]
     },
     "execution_count": 104,
     "metadata": {},
     "output_type": "execute_result"
    }
   ],
   "source": [
    "# Let's merge that with our census data about commute times.\n",
    "metro_commute=pd.merge(commute, usda, left_on='CountyId', right_on='FIPS', how='left')\n",
    "metro_commute.sample(5)"
   ]
  },
  {
   "cell_type": "code",
   "execution_count": 105,
   "metadata": {
    "colab": {
     "base_uri": "https://localhost:8080/",
     "height": 343
    },
    "colab_type": "code",
    "id": "zzG1GnT2PAgT",
    "outputId": "c682ecd9-6f3d-478d-ff7a-7237f0fa0ddb"
   },
   "outputs": [
    {
     "data": {
      "text/html": [
       "<div>\n",
       "<style scoped>\n",
       "    .dataframe tbody tr th:only-of-type {\n",
       "        vertical-align: middle;\n",
       "    }\n",
       "\n",
       "    .dataframe tbody tr th {\n",
       "        vertical-align: top;\n",
       "    }\n",
       "\n",
       "    .dataframe thead th {\n",
       "        text-align: right;\n",
       "    }\n",
       "</style>\n",
       "<table border=\"1\" class=\"dataframe\">\n",
       "  <thead>\n",
       "    <tr style=\"text-align: right;\">\n",
       "      <th></th>\n",
       "      <th>MeanCommute</th>\n",
       "    </tr>\n",
       "    <tr>\n",
       "      <th>RUCC_2013</th>\n",
       "      <th></th>\n",
       "    </tr>\n",
       "  </thead>\n",
       "  <tbody>\n",
       "    <tr>\n",
       "      <th>1.0</th>\n",
       "      <td>29.513347</td>\n",
       "    </tr>\n",
       "    <tr>\n",
       "      <th>2.0</th>\n",
       "      <td>24.721066</td>\n",
       "    </tr>\n",
       "    <tr>\n",
       "      <th>3.0</th>\n",
       "      <td>22.864499</td>\n",
       "    </tr>\n",
       "    <tr>\n",
       "      <th>4.0</th>\n",
       "      <td>22.332258</td>\n",
       "    </tr>\n",
       "    <tr>\n",
       "      <th>5.0</th>\n",
       "      <td>18.686957</td>\n",
       "    </tr>\n",
       "    <tr>\n",
       "      <th>6.0</th>\n",
       "      <td>23.877013</td>\n",
       "    </tr>\n",
       "    <tr>\n",
       "      <th>7.0</th>\n",
       "      <td>19.532488</td>\n",
       "    </tr>\n",
       "    <tr>\n",
       "      <th>8.0</th>\n",
       "      <td>25.707727</td>\n",
       "    </tr>\n",
       "    <tr>\n",
       "      <th>9.0</th>\n",
       "      <td>20.113679</td>\n",
       "    </tr>\n",
       "  </tbody>\n",
       "</table>\n",
       "</div>"
      ],
      "text/plain": [
       "           MeanCommute\n",
       "RUCC_2013             \n",
       "1.0          29.513347\n",
       "2.0          24.721066\n",
       "3.0          22.864499\n",
       "4.0          22.332258\n",
       "5.0          18.686957\n",
       "6.0          23.877013\n",
       "7.0          19.532488\n",
       "8.0          25.707727\n",
       "9.0          20.113679"
      ]
     },
     "execution_count": 105,
     "metadata": {},
     "output_type": "execute_result"
    }
   ],
   "source": [
    "# Is there any difference in commutes by rural-urban designation?\n",
    "drivetimes=metro_commute.groupby('RUCC_2013')[['MeanCommute']].mean()\n",
    "drivetimes"
   ]
  },
  {
   "cell_type": "code",
   "execution_count": 106,
   "metadata": {
    "colab": {
     "base_uri": "https://localhost:8080/",
     "height": 286
    },
    "colab_type": "code",
    "id": "S4Asz0TxPAgW",
    "outputId": "4f823fd7-f46a-4f08-8773-958fcb726e7d"
   },
   "outputs": [
    {
     "data": {
      "image/png": "[encoded data removed]",
      "text/plain": [
       "<Figure size 432x288 with 1 Axes>"
      ]
     },
     "metadata": {
      "needs_background": "light"
     },
     "output_type": "display_data"
    }
   ],
   "source": [
    "# Display that using the Pandas plotting function.\n",
    "drivetimes.plot(kind='bar');"
   ]
  },
  {
   "cell_type": "code",
   "execution_count": 111,
   "metadata": {},
   "outputs": [
    {
     "data": {
      "text/html": [
       "<div>\n",
       "<style scoped>\n",
       "    .dataframe tbody tr th:only-of-type {\n",
       "        vertical-align: middle;\n",
       "    }\n",
       "\n",
       "    .dataframe tbody tr th {\n",
       "        vertical-align: top;\n",
       "    }\n",
       "\n",
       "    .dataframe thead th {\n",
       "        text-align: right;\n",
       "    }\n",
       "</style>\n",
       "<table border=\"1\" class=\"dataframe\">\n",
       "  <thead>\n",
       "    <tr style=\"text-align: right;\">\n",
       "      <th></th>\n",
       "      <th>CountyId</th>\n",
       "      <th>State</th>\n",
       "      <th>County</th>\n",
       "      <th>MeanCommute</th>\n",
       "      <th>FIPS</th>\n",
       "      <th>RUCC_2013</th>\n",
       "    </tr>\n",
       "  </thead>\n",
       "  <tbody>\n",
       "    <tr>\n",
       "      <th>2214</th>\n",
       "      <td>41013</td>\n",
       "      <td>Oregon</td>\n",
       "      <td>Crook County</td>\n",
       "      <td>23.4</td>\n",
       "      <td>41013.0</td>\n",
       "      <td>6.0</td>\n",
       "    </tr>\n",
       "    <tr>\n",
       "      <th>2870</th>\n",
       "      <td>51103</td>\n",
       "      <td>Virginia</td>\n",
       "      <td>Lancaster County</td>\n",
       "      <td>26.7</td>\n",
       "      <td>51103.0</td>\n",
       "      <td>9.0</td>\n",
       "    </tr>\n",
       "    <tr>\n",
       "      <th>2240</th>\n",
       "      <td>41065</td>\n",
       "      <td>Oregon</td>\n",
       "      <td>Wasco County</td>\n",
       "      <td>17.6</td>\n",
       "      <td>41065.0</td>\n",
       "      <td>6.0</td>\n",
       "    </tr>\n",
       "    <tr>\n",
       "      <th>2853</th>\n",
       "      <td>51069</td>\n",
       "      <td>Virginia</td>\n",
       "      <td>Frederick County</td>\n",
       "      <td>31.1</td>\n",
       "      <td>51069.0</td>\n",
       "      <td>3.0</td>\n",
       "    </tr>\n",
       "    <tr>\n",
       "      <th>2947</th>\n",
       "      <td>51790</td>\n",
       "      <td>Virginia</td>\n",
       "      <td>Staunton city</td>\n",
       "      <td>20.0</td>\n",
       "      <td>51790.0</td>\n",
       "      <td>3.0</td>\n",
       "    </tr>\n",
       "    <tr>\n",
       "      <th>2834</th>\n",
       "      <td>51029</td>\n",
       "      <td>Virginia</td>\n",
       "      <td>Buckingham County</td>\n",
       "      <td>35.5</td>\n",
       "      <td>51029.0</td>\n",
       "      <td>3.0</td>\n",
       "    </tr>\n",
       "  </tbody>\n",
       "</table>\n",
       "</div>"
      ],
      "text/plain": [
       "      CountyId     State             County  MeanCommute     FIPS  RUCC_2013\n",
       "2214     41013    Oregon       Crook County         23.4  41013.0        6.0\n",
       "2870     51103  Virginia   Lancaster County         26.7  51103.0        9.0\n",
       "2240     41065    Oregon       Wasco County         17.6  41065.0        6.0\n",
       "2853     51069  Virginia   Frederick County         31.1  51069.0        3.0\n",
       "2947     51790  Virginia      Staunton city         20.0  51790.0        3.0\n",
       "2834     51029  Virginia  Buckingham County         35.5  51029.0        3.0"
      ]
     },
     "execution_count": 111,
     "metadata": {},
     "output_type": "execute_result"
    }
   ],
   "source": [
    "# Compare two states\n",
    "two_states = metro_commute[(metro_commute['State']=='Virginia') | (metro_commute['State']=='Oregon')]\n",
    "two_states.sample(6)"
   ]
  },
  {
   "cell_type": "code",
   "execution_count": 119,
   "metadata": {},
   "outputs": [
    {
     "data": {
      "text/html": [
       "<div>\n",
       "<style scoped>\n",
       "    .dataframe tbody tr th:only-of-type {\n",
       "        vertical-align: middle;\n",
       "    }\n",
       "\n",
       "    .dataframe tbody tr th {\n",
       "        vertical-align: top;\n",
       "    }\n",
       "\n",
       "    .dataframe thead th {\n",
       "        text-align: right;\n",
       "    }\n",
       "</style>\n",
       "<table border=\"1\" class=\"dataframe\">\n",
       "  <thead>\n",
       "    <tr style=\"text-align: right;\">\n",
       "      <th></th>\n",
       "      <th></th>\n",
       "      <th>MeanCommute</th>\n",
       "    </tr>\n",
       "    <tr>\n",
       "      <th>State</th>\n",
       "      <th>RUCC_2013</th>\n",
       "      <th></th>\n",
       "    </tr>\n",
       "  </thead>\n",
       "  <tbody>\n",
       "    <tr>\n",
       "      <th rowspan=\"8\" valign=\"top\">Oregon</th>\n",
       "      <th>1.0</th>\n",
       "      <td>27.880000</td>\n",
       "    </tr>\n",
       "    <tr>\n",
       "      <th>2.0</th>\n",
       "      <td>22.666667</td>\n",
       "    </tr>\n",
       "    <tr>\n",
       "      <th>3.0</th>\n",
       "      <td>19.840000</td>\n",
       "    </tr>\n",
       "    <tr>\n",
       "      <th>4.0</th>\n",
       "      <td>18.866667</td>\n",
       "    </tr>\n",
       "    <tr>\n",
       "      <th>5.0</th>\n",
       "      <td>18.066667</td>\n",
       "    </tr>\n",
       "    <tr>\n",
       "      <th>6.0</th>\n",
       "      <td>19.571429</td>\n",
       "    </tr>\n",
       "    <tr>\n",
       "      <th>7.0</th>\n",
       "      <td>15.760000</td>\n",
       "    </tr>\n",
       "    <tr>\n",
       "      <th>9.0</th>\n",
       "      <td>18.660000</td>\n",
       "    </tr>\n",
       "    <tr>\n",
       "      <th rowspan=\"9\" valign=\"top\">Virginia</th>\n",
       "      <th>1.0</th>\n",
       "      <td>30.108333</td>\n",
       "    </tr>\n",
       "    <tr>\n",
       "      <th>2.0</th>\n",
       "      <td>25.557143</td>\n",
       "    </tr>\n",
       "    <tr>\n",
       "      <th>3.0</th>\n",
       "      <td>24.811111</td>\n",
       "    </tr>\n",
       "    <tr>\n",
       "      <th>4.0</th>\n",
       "      <td>22.175000</td>\n",
       "    </tr>\n",
       "    <tr>\n",
       "      <th>5.0</th>\n",
       "      <td>23.900000</td>\n",
       "    </tr>\n",
       "    <tr>\n",
       "      <th>6.0</th>\n",
       "      <td>27.065000</td>\n",
       "    </tr>\n",
       "    <tr>\n",
       "      <th>7.0</th>\n",
       "      <td>22.271429</td>\n",
       "    </tr>\n",
       "    <tr>\n",
       "      <th>8.0</th>\n",
       "      <td>30.264286</td>\n",
       "    </tr>\n",
       "    <tr>\n",
       "      <th>9.0</th>\n",
       "      <td>27.585714</td>\n",
       "    </tr>\n",
       "  </tbody>\n",
       "</table>\n",
       "</div>"
      ],
      "text/plain": [
       "                    MeanCommute\n",
       "State    RUCC_2013             \n",
       "Oregon   1.0          27.880000\n",
       "         2.0          22.666667\n",
       "         3.0          19.840000\n",
       "         4.0          18.866667\n",
       "         5.0          18.066667\n",
       "         6.0          19.571429\n",
       "         7.0          15.760000\n",
       "         9.0          18.660000\n",
       "Virginia 1.0          30.108333\n",
       "         2.0          25.557143\n",
       "         3.0          24.811111\n",
       "         4.0          22.175000\n",
       "         5.0          23.900000\n",
       "         6.0          27.065000\n",
       "         7.0          22.271429\n",
       "         8.0          30.264286\n",
       "         9.0          27.585714"
      ]
     },
     "execution_count": 119,
     "metadata": {},
     "output_type": "execute_result"
    }
   ],
   "source": [
    "# Is there any difference in commutes by rural-urban designation?\n",
    "drivetimes=two_states.groupby(['State','RUCC_2013'])[['MeanCommute']].mean()\n",
    "drivetimes"
   ]
  },
  {
   "cell_type": "markdown",
   "metadata": {
    "colab_type": "text",
    "id": "WsvD1I3TwwnI"
   },
   "source": [
    "**Table 1 --> Tidy**\n",
    "\n",
    "We can use the pandas `melt` function to reshape the table into Tidy format."
   ]
  },
  {
   "cell_type": "code",
   "execution_count": 133,
   "metadata": {},
   "outputs": [
    {
     "data": {
      "text/html": [
       "<div>\n",
       "<style scoped>\n",
       "    .dataframe tbody tr th:only-of-type {\n",
       "        vertical-align: middle;\n",
       "    }\n",
       "\n",
       "    .dataframe tbody tr th {\n",
       "        vertical-align: top;\n",
       "    }\n",
       "\n",
       "    .dataframe thead th {\n",
       "        text-align: right;\n",
       "    }\n",
       "</style>\n",
       "<table border=\"1\" class=\"dataframe\">\n",
       "  <thead>\n",
       "    <tr style=\"text-align: right;\">\n",
       "      <th></th>\n",
       "      <th>state</th>\n",
       "      <th>rural</th>\n",
       "      <th>value</th>\n",
       "    </tr>\n",
       "  </thead>\n",
       "  <tbody>\n",
       "    <tr>\n",
       "      <th>0</th>\n",
       "      <td>Oregon</td>\n",
       "      <td>1</td>\n",
       "      <td>27.880000</td>\n",
       "    </tr>\n",
       "    <tr>\n",
       "      <th>1</th>\n",
       "      <td>Oregon</td>\n",
       "      <td>2</td>\n",
       "      <td>22.666667</td>\n",
       "    </tr>\n",
       "    <tr>\n",
       "      <th>2</th>\n",
       "      <td>Oregon</td>\n",
       "      <td>3</td>\n",
       "      <td>19.840000</td>\n",
       "    </tr>\n",
       "    <tr>\n",
       "      <th>3</th>\n",
       "      <td>Oregon</td>\n",
       "      <td>4</td>\n",
       "      <td>18.866667</td>\n",
       "    </tr>\n",
       "    <tr>\n",
       "      <th>4</th>\n",
       "      <td>Oregon</td>\n",
       "      <td>5</td>\n",
       "      <td>18.066667</td>\n",
       "    </tr>\n",
       "    <tr>\n",
       "      <th>5</th>\n",
       "      <td>Oregon</td>\n",
       "      <td>6</td>\n",
       "      <td>19.571429</td>\n",
       "    </tr>\n",
       "    <tr>\n",
       "      <th>6</th>\n",
       "      <td>Oregon</td>\n",
       "      <td>7</td>\n",
       "      <td>15.760000</td>\n",
       "    </tr>\n",
       "    <tr>\n",
       "      <th>7</th>\n",
       "      <td>Oregon</td>\n",
       "      <td>9</td>\n",
       "      <td>18.660000</td>\n",
       "    </tr>\n",
       "    <tr>\n",
       "      <th>8</th>\n",
       "      <td>Virginia</td>\n",
       "      <td>1</td>\n",
       "      <td>30.108333</td>\n",
       "    </tr>\n",
       "    <tr>\n",
       "      <th>9</th>\n",
       "      <td>Virginia</td>\n",
       "      <td>2</td>\n",
       "      <td>25.557143</td>\n",
       "    </tr>\n",
       "    <tr>\n",
       "      <th>10</th>\n",
       "      <td>Virginia</td>\n",
       "      <td>3</td>\n",
       "      <td>24.811111</td>\n",
       "    </tr>\n",
       "    <tr>\n",
       "      <th>11</th>\n",
       "      <td>Virginia</td>\n",
       "      <td>4</td>\n",
       "      <td>22.175000</td>\n",
       "    </tr>\n",
       "    <tr>\n",
       "      <th>12</th>\n",
       "      <td>Virginia</td>\n",
       "      <td>5</td>\n",
       "      <td>23.900000</td>\n",
       "    </tr>\n",
       "    <tr>\n",
       "      <th>13</th>\n",
       "      <td>Virginia</td>\n",
       "      <td>6</td>\n",
       "      <td>27.065000</td>\n",
       "    </tr>\n",
       "    <tr>\n",
       "      <th>14</th>\n",
       "      <td>Virginia</td>\n",
       "      <td>7</td>\n",
       "      <td>22.271429</td>\n",
       "    </tr>\n",
       "    <tr>\n",
       "      <th>15</th>\n",
       "      <td>Virginia</td>\n",
       "      <td>8</td>\n",
       "      <td>30.264286</td>\n",
       "    </tr>\n",
       "    <tr>\n",
       "      <th>16</th>\n",
       "      <td>Virginia</td>\n",
       "      <td>9</td>\n",
       "      <td>27.585714</td>\n",
       "    </tr>\n",
       "  </tbody>\n",
       "</table>\n",
       "</div>"
      ],
      "text/plain": [
       "       state rural      value\n",
       "0     Oregon     1  27.880000\n",
       "1     Oregon     2  22.666667\n",
       "2     Oregon     3  19.840000\n",
       "3     Oregon     4  18.866667\n",
       "4     Oregon     5  18.066667\n",
       "5     Oregon     6  19.571429\n",
       "6     Oregon     7  15.760000\n",
       "7     Oregon     9  18.660000\n",
       "8   Virginia     1  30.108333\n",
       "9   Virginia     2  25.557143\n",
       "10  Virginia     3  24.811111\n",
       "11  Virginia     4  22.175000\n",
       "12  Virginia     5  23.900000\n",
       "13  Virginia     6  27.065000\n",
       "14  Virginia     7  22.271429\n",
       "15  Virginia     8  30.264286\n",
       "16  Virginia     9  27.585714"
      ]
     },
     "execution_count": 133,
     "metadata": {},
     "output_type": "execute_result"
    }
   ],
   "source": [
    "# First, convert the index into columns.\n",
    "tidydrive = drivetimes.T.reset_index().melt(id_vars='index').rename(columns= {\n",
    "    'State': 'state', \n",
    "    'RUCC_2013': 'rural', \n",
    "    'MeanCommute': 'mean_commute'\n",
    "})\n",
    "tidydrive = tidydrive.drop('index', axis=1)\n",
    "tidydrive"
   ]
  },
  {
   "cell_type": "code",
   "execution_count": 143,
   "metadata": {},
   "outputs": [
    {
     "data": {
      "text/html": [
       "<div>\n",
       "<style scoped>\n",
       "    .dataframe tbody tr th:only-of-type {\n",
       "        vertical-align: middle;\n",
       "    }\n",
       "\n",
       "    .dataframe tbody tr th {\n",
       "        vertical-align: top;\n",
       "    }\n",
       "\n",
       "    .dataframe thead th {\n",
       "        text-align: right;\n",
       "    }\n",
       "</style>\n",
       "<table border=\"1\" class=\"dataframe\">\n",
       "  <thead>\n",
       "    <tr style=\"text-align: right;\">\n",
       "      <th>state</th>\n",
       "      <th>rural</th>\n",
       "      <th>Oregon</th>\n",
       "      <th>Virginia</th>\n",
       "    </tr>\n",
       "  </thead>\n",
       "  <tbody>\n",
       "    <tr>\n",
       "      <th>0</th>\n",
       "      <td>1.0</td>\n",
       "      <td>27.880000</td>\n",
       "      <td>30.108333</td>\n",
       "    </tr>\n",
       "    <tr>\n",
       "      <th>1</th>\n",
       "      <td>2.0</td>\n",
       "      <td>22.666667</td>\n",
       "      <td>25.557143</td>\n",
       "    </tr>\n",
       "    <tr>\n",
       "      <th>2</th>\n",
       "      <td>3.0</td>\n",
       "      <td>19.840000</td>\n",
       "      <td>24.811111</td>\n",
       "    </tr>\n",
       "    <tr>\n",
       "      <th>3</th>\n",
       "      <td>4.0</td>\n",
       "      <td>18.866667</td>\n",
       "      <td>22.175000</td>\n",
       "    </tr>\n",
       "    <tr>\n",
       "      <th>4</th>\n",
       "      <td>5.0</td>\n",
       "      <td>18.066667</td>\n",
       "      <td>23.900000</td>\n",
       "    </tr>\n",
       "    <tr>\n",
       "      <th>5</th>\n",
       "      <td>6.0</td>\n",
       "      <td>19.571429</td>\n",
       "      <td>27.065000</td>\n",
       "    </tr>\n",
       "    <tr>\n",
       "      <th>6</th>\n",
       "      <td>7.0</td>\n",
       "      <td>15.760000</td>\n",
       "      <td>22.271429</td>\n",
       "    </tr>\n",
       "    <tr>\n",
       "      <th>7</th>\n",
       "      <td>8.0</td>\n",
       "      <td>NaN</td>\n",
       "      <td>30.264286</td>\n",
       "    </tr>\n",
       "    <tr>\n",
       "      <th>8</th>\n",
       "      <td>9.0</td>\n",
       "      <td>18.660000</td>\n",
       "      <td>27.585714</td>\n",
       "    </tr>\n",
       "  </tbody>\n",
       "</table>\n",
       "</div>"
      ],
      "text/plain": [
       "state  rural     Oregon   Virginia\n",
       "0        1.0  27.880000  30.108333\n",
       "1        2.0  22.666667  25.557143\n",
       "2        3.0  19.840000  24.811111\n",
       "3        4.0  18.866667  22.175000\n",
       "4        5.0  18.066667  23.900000\n",
       "5        6.0  19.571429  27.065000\n",
       "6        7.0  15.760000  22.271429\n",
       "7        8.0        NaN  30.264286\n",
       "8        9.0  18.660000  27.585714"
      ]
     },
     "execution_count": 143,
     "metadata": {},
     "output_type": "execute_result"
    }
   ],
   "source": [
    "# Let's do it all in reverse.\n",
    "widedrive = tidydrive.pivot_table(index='rural', columns='state', values='value')\n",
    "widedrive.reset_index(level=0, inplace=True)\n",
    "widedrive"
   ]
  },
  {
   "cell_type": "code",
   "execution_count": 145,
   "metadata": {},
   "outputs": [
    {
     "data": {
      "image/png": "[encoded data removed]",
      "text/plain": [
       "<Figure size 432x288 with 1 Axes>"
      ]
     },
     "metadata": {
      "needs_background": "light"
     },
     "output_type": "display_data"
    }
   ],
   "source": [
    "# Display that using the Pandas plotting function.\n",
    "widedrive.plot(x='rural', y=['Oregon', 'Virginia'], kind='bar');"
   ]
  },
  {
   "cell_type": "markdown",
   "metadata": {
    "colab_type": "text",
    "id": "gtTLkMa440fz"
   },
   "source": [
    "## Part 3. Real-word Examples"
   ]
  },
  {
   "cell_type": "markdown",
   "metadata": {
    "colab_type": "text",
    "id": "Mmi3J5fXrwZ3"
   },
   "source": [
    "### 3.1. Instacart  Dataset: `pd.concat` and `pd.merge`\n",
    "\n",
    "We’ll work with a dataset of [3 Million Instacart Orders, Open Sourced](https://tech.instacart.com/3-million-instacart-orders-open-sourced-d40d29ead6f2)!"
   ]
  },
  {
   "cell_type": "code",
   "execution_count": 183,
   "metadata": {
    "colab": {
     "base_uri": "https://localhost:8080/",
     "height": 202
    },
    "colab_type": "code",
    "id": "K2kcrJVybjrW",
    "outputId": "cbf6143a-8826-405f-ee06-e10322d9c82a"
   },
   "outputs": [
    {
     "name": "stdout",
     "output_type": "stream",
     "text": [
      "--2019-11-03 15:21:15--  https://s3.amazonaws.com/instacart-datasets/instacart_online_grocery_shopping_2017_05_01.tar.gz\n",
      "Resolving s3.amazonaws.com (s3.amazonaws.com)... 52.216.96.237\n",
      "Connecting to s3.amazonaws.com (s3.amazonaws.com)|52.216.96.237|:443... connected.\n",
      "HTTP request sent, awaiting response... 200 OK\n",
      "Length: 205548478 (196M) [application/x-gzip]\n",
      "Saving to: ‘instacart_online_grocery_shopping_2017_05_01.tar.gz’\n",
      "\n",
      "instacart_online_gr 100%[===================>] 196.03M  34.5MB/s    in 6.0s    \n",
      "\n",
      "2019-11-03 15:21:21 (32.6 MB/s) - ‘instacart_online_grocery_shopping_2017_05_01.tar.gz’ saved [205548478/205548478]\n",
      "\n"
     ]
    }
   ],
   "source": [
    "# bash command: get a compressed file in 'tarball' format (this is similar to a .zip file)\n",
    "!wget https://s3.amazonaws.com/instacart-datasets/instacart_online_grocery_shopping_2017_05_01.tar.gz"
   ]
  },
  {
   "cell_type": "code",
   "execution_count": 184,
   "metadata": {
    "colab": {
     "base_uri": "https://localhost:8080/",
     "height": 235
    },
    "colab_type": "code",
    "id": "kqX40b2kdgAb",
    "outputId": "b68f18d1-d647-4eaa-fede-dfa2ad7abb2a"
   },
   "outputs": [
    {
     "name": "stdout",
     "output_type": "stream",
     "text": [
      "instacart_2017_05_01/\n",
      "instacart_2017_05_01/._aisles.csv\n",
      "instacart_2017_05_01/aisles.csv\n",
      "instacart_2017_05_01/._departments.csv\n",
      "instacart_2017_05_01/departments.csv\n",
      "instacart_2017_05_01/._order_products__prior.csv\n",
      "instacart_2017_05_01/order_products__prior.csv\n",
      "instacart_2017_05_01/._order_products__train.csv\n",
      "instacart_2017_05_01/order_products__train.csv\n",
      "instacart_2017_05_01/._orders.csv\n",
      "instacart_2017_05_01/orders.csv\n",
      "instacart_2017_05_01/._products.csv\n",
      "instacart_2017_05_01/products.csv\n"
     ]
    }
   ],
   "source": [
    "# bash command: de-compress the tarball file (similar to `unzip`)\n",
    "!tar --gunzip --extract --verbose --file=instacart_online_grocery_shopping_2017_05_01.tar.gz"
   ]
  },
  {
   "cell_type": "code",
   "execution_count": 185,
   "metadata": {
    "colab": {
     "base_uri": "https://localhost:8080/",
     "height": 34
    },
    "colab_type": "code",
    "id": "YbCvZZCBfHCI",
    "outputId": "7dcc3d1f-3c47-4066-ca0f-98547b8da64f"
   },
   "outputs": [
    {
     "name": "stdout",
     "output_type": "stream",
     "text": [
      "/content/instacart_2017_05_01/instacart_2017_05_01\n"
     ]
    }
   ],
   "source": [
    "# bash command: navigate into the new folder.\n",
    "# Percent sign == \"magic\" command which changes the underlying state (i.e., new current working directory).\n",
    "%cd instacart_2017_05_01"
   ]
  },
  {
   "cell_type": "code",
   "execution_count": 186,
   "metadata": {
    "colab": {
     "base_uri": "https://localhost:8080/",
     "height": 50
    },
    "colab_type": "code",
    "id": "etshR5kpvWOj",
    "outputId": "2445316a-fd17-4e6b-ad75-27a295dde330"
   },
   "outputs": [
    {
     "name": "stdout",
     "output_type": "stream",
     "text": [
      "aisles.csv\t order_products__prior.csv  orders.csv\n",
      "departments.csv  order_products__train.csv  products.csv\n"
     ]
    }
   ],
   "source": [
    "# bash command: list the contents of that folder.\n",
    "!ls *.csv"
   ]
  },
  {
   "cell_type": "markdown",
   "metadata": {
    "colab_type": "text",
    "id": "RsA14wiKr03j"
   },
   "source": [
    "**Goal: Reproduce this example**\n",
    "\n",
    "The first two orders for user id 1:"
   ]
  },
  {
   "cell_type": "code",
   "execution_count": 187,
   "metadata": {
    "colab": {
     "base_uri": "https://localhost:8080/",
     "height": 312
    },
    "colab_type": "code",
    "id": "vLqOTMcfjprg",
    "outputId": "d1f2e84e-0248-461a-c43d-72bf47e808b1"
   },
   "outputs": [
    {
     "data": {
      "text/html": [
       "<img src=\"https://cdn-images-1.medium.com/max/1600/1*vYGFQCafJtGBBX5mbl0xyw.png\" width=\"600\"/>"
      ],
      "text/plain": [
       "<IPython.core.display.Image object>"
      ]
     },
     "metadata": {
      "tags": []
     },
     "output_type": "display_data"
    }
   ],
   "source": [
    "# This is code to display a `.png` inside of a jupyter notebook.\n",
    "from IPython.display import display, Image\n",
    "url = 'https://cdn-images-1.medium.com/max/1600/1*vYGFQCafJtGBBX5mbl0xyw.png'\n",
    "example = Image(url=url, width=600)\n",
    "display(example)"
   ]
  },
  {
   "cell_type": "markdown",
   "metadata": {
    "colab_type": "text",
    "id": "nPwG8aM_txl4"
   },
   "source": [
    "#### Load data\n",
    "\n",
    "Here's a list of all six CSV filenames"
   ]
  },
  {
   "cell_type": "code",
   "execution_count": 188,
   "metadata": {
    "colab": {
     "base_uri": "https://localhost:8080/",
     "height": 118
    },
    "colab_type": "code",
    "id": "Ksah0cOrfdJQ",
    "outputId": "bca2a79e-8d72-4644-c056-28f7ca4b2780"
   },
   "outputs": [
    {
     "name": "stdout",
     "output_type": "stream",
     "text": [
      "-rw-r--r-- 1 502 staff 2.6K May  2  2017 aisles.csv\n",
      "-rw-r--r-- 1 502 staff  270 May  2  2017 departments.csv\n",
      "-rw-r--r-- 1 502 staff 551M May  2  2017 order_products__prior.csv\n",
      "-rw-r--r-- 1 502 staff  24M May  2  2017 order_products__train.csv\n",
      "-rw-r--r-- 1 502 staff 104M May  2  2017 orders.csv\n",
      "-rw-r--r-- 1 502 staff 2.1M May  2  2017 products.csv\n"
     ]
    }
   ],
   "source": [
    "# List the contents of the cwd.\n",
    "!ls -lh *.csv"
   ]
  },
  {
   "cell_type": "markdown",
   "metadata": {
    "colab_type": "text",
    "id": "AHT7fKuxvPgV"
   },
   "source": [
    "For each CSV\n",
    "- Load it with pandas\n",
    "- Look at the dataframe's shape\n",
    "- Look at its head (first rows)\n",
    "- `display(example)`\n",
    "- Which columns does it have in common with the example we want to reproduce?"
   ]
  },
  {
   "cell_type": "code",
   "execution_count": 189,
   "metadata": {
    "colab": {
     "base_uri": "https://localhost:8080/",
     "height": 212
    },
    "colab_type": "code",
    "id": "QAsdP3CsVdk0",
    "outputId": "bcafccc5-7953-410d-9d66-da7acf379366"
   },
   "outputs": [
    {
     "name": "stdout",
     "output_type": "stream",
     "text": [
      "(134, 2)\n"
     ]
    },
    {
     "data": {
      "text/html": [
       "<div>\n",
       "<style scoped>\n",
       "    .dataframe tbody tr th:only-of-type {\n",
       "        vertical-align: middle;\n",
       "    }\n",
       "\n",
       "    .dataframe tbody tr th {\n",
       "        vertical-align: top;\n",
       "    }\n",
       "\n",
       "    .dataframe thead th {\n",
       "        text-align: right;\n",
       "    }\n",
       "</style>\n",
       "<table border=\"1\" class=\"dataframe\">\n",
       "  <thead>\n",
       "    <tr style=\"text-align: right;\">\n",
       "      <th></th>\n",
       "      <th>aisle_id</th>\n",
       "      <th>aisle</th>\n",
       "    </tr>\n",
       "  </thead>\n",
       "  <tbody>\n",
       "    <tr>\n",
       "      <th>0</th>\n",
       "      <td>1</td>\n",
       "      <td>prepared soups salads</td>\n",
       "    </tr>\n",
       "    <tr>\n",
       "      <th>1</th>\n",
       "      <td>2</td>\n",
       "      <td>specialty cheeses</td>\n",
       "    </tr>\n",
       "    <tr>\n",
       "      <th>2</th>\n",
       "      <td>3</td>\n",
       "      <td>energy granola bars</td>\n",
       "    </tr>\n",
       "    <tr>\n",
       "      <th>3</th>\n",
       "      <td>4</td>\n",
       "      <td>instant foods</td>\n",
       "    </tr>\n",
       "    <tr>\n",
       "      <th>4</th>\n",
       "      <td>5</td>\n",
       "      <td>marinades meat preparation</td>\n",
       "    </tr>\n",
       "  </tbody>\n",
       "</table>\n",
       "</div>"
      ],
      "text/plain": [
       "   aisle_id                       aisle\n",
       "0         1       prepared soups salads\n",
       "1         2           specialty cheeses\n",
       "2         3         energy granola bars\n",
       "3         4               instant foods\n",
       "4         5  marinades meat preparation"
      ]
     },
     "execution_count": 189,
     "metadata": {
      "tags": []
     },
     "output_type": "execute_result"
    }
   ],
   "source": [
    "# Read in the aisles dataset. Do we need anything from here? No, we don't.\n",
    "aisles = pd.read_csv('aisles.csv')\n",
    "print(aisles.shape)\n",
    "aisles.head()"
   ]
  },
  {
   "cell_type": "code",
   "execution_count": 190,
   "metadata": {
    "colab": {
     "base_uri": "https://localhost:8080/",
     "height": 212
    },
    "colab_type": "code",
    "id": "yxFd5n20yOVn",
    "outputId": "39c67efd-4f22-4deb-b3d0-525e873c91d0"
   },
   "outputs": [
    {
     "name": "stdout",
     "output_type": "stream",
     "text": [
      "(21, 2)\n"
     ]
    },
    {
     "data": {
      "text/html": [
       "<div>\n",
       "<style scoped>\n",
       "    .dataframe tbody tr th:only-of-type {\n",
       "        vertical-align: middle;\n",
       "    }\n",
       "\n",
       "    .dataframe tbody tr th {\n",
       "        vertical-align: top;\n",
       "    }\n",
       "\n",
       "    .dataframe thead th {\n",
       "        text-align: right;\n",
       "    }\n",
       "</style>\n",
       "<table border=\"1\" class=\"dataframe\">\n",
       "  <thead>\n",
       "    <tr style=\"text-align: right;\">\n",
       "      <th></th>\n",
       "      <th>department_id</th>\n",
       "      <th>department</th>\n",
       "    </tr>\n",
       "  </thead>\n",
       "  <tbody>\n",
       "    <tr>\n",
       "      <th>0</th>\n",
       "      <td>1</td>\n",
       "      <td>frozen</td>\n",
       "    </tr>\n",
       "    <tr>\n",
       "      <th>1</th>\n",
       "      <td>2</td>\n",
       "      <td>other</td>\n",
       "    </tr>\n",
       "    <tr>\n",
       "      <th>2</th>\n",
       "      <td>3</td>\n",
       "      <td>bakery</td>\n",
       "    </tr>\n",
       "    <tr>\n",
       "      <th>3</th>\n",
       "      <td>4</td>\n",
       "      <td>produce</td>\n",
       "    </tr>\n",
       "    <tr>\n",
       "      <th>4</th>\n",
       "      <td>5</td>\n",
       "      <td>alcohol</td>\n",
       "    </tr>\n",
       "  </tbody>\n",
       "</table>\n",
       "</div>"
      ],
      "text/plain": [
       "   department_id department\n",
       "0              1     frozen\n",
       "1              2      other\n",
       "2              3     bakery\n",
       "3              4    produce\n",
       "4              5    alcohol"
      ]
     },
     "execution_count": 190,
     "metadata": {
      "tags": []
     },
     "output_type": "execute_result"
    }
   ],
   "source": [
    "# Read in the departments dataset. Do we need anything from here? Nope.\n",
    "departments = pd.read_csv('departments.csv')\n",
    "print(departments.shape)\n",
    "departments.head()"
   ]
  },
  {
   "cell_type": "code",
   "execution_count": 191,
   "metadata": {
    "colab": {
     "base_uri": "https://localhost:8080/",
     "height": 212
    },
    "colab_type": "code",
    "id": "86rIMNFSzKaG",
    "outputId": "f5af27d6-4090-4da9-d39d-3df73239c67f"
   },
   "outputs": [
    {
     "name": "stdout",
     "output_type": "stream",
     "text": [
      "(32434489, 4)\n"
     ]
    },
    {
     "data": {
      "text/html": [
       "<div>\n",
       "<style scoped>\n",
       "    .dataframe tbody tr th:only-of-type {\n",
       "        vertical-align: middle;\n",
       "    }\n",
       "\n",
       "    .dataframe tbody tr th {\n",
       "        vertical-align: top;\n",
       "    }\n",
       "\n",
       "    .dataframe thead th {\n",
       "        text-align: right;\n",
       "    }\n",
       "</style>\n",
       "<table border=\"1\" class=\"dataframe\">\n",
       "  <thead>\n",
       "    <tr style=\"text-align: right;\">\n",
       "      <th></th>\n",
       "      <th>order_id</th>\n",
       "      <th>product_id</th>\n",
       "      <th>add_to_cart_order</th>\n",
       "      <th>reordered</th>\n",
       "    </tr>\n",
       "  </thead>\n",
       "  <tbody>\n",
       "    <tr>\n",
       "      <th>0</th>\n",
       "      <td>2</td>\n",
       "      <td>33120</td>\n",
       "      <td>1</td>\n",
       "      <td>1</td>\n",
       "    </tr>\n",
       "    <tr>\n",
       "      <th>1</th>\n",
       "      <td>2</td>\n",
       "      <td>28985</td>\n",
       "      <td>2</td>\n",
       "      <td>1</td>\n",
       "    </tr>\n",
       "    <tr>\n",
       "      <th>2</th>\n",
       "      <td>2</td>\n",
       "      <td>9327</td>\n",
       "      <td>3</td>\n",
       "      <td>0</td>\n",
       "    </tr>\n",
       "    <tr>\n",
       "      <th>3</th>\n",
       "      <td>2</td>\n",
       "      <td>45918</td>\n",
       "      <td>4</td>\n",
       "      <td>1</td>\n",
       "    </tr>\n",
       "    <tr>\n",
       "      <th>4</th>\n",
       "      <td>2</td>\n",
       "      <td>30035</td>\n",
       "      <td>5</td>\n",
       "      <td>0</td>\n",
       "    </tr>\n",
       "  </tbody>\n",
       "</table>\n",
       "</div>"
      ],
      "text/plain": [
       "   order_id  product_id  add_to_cart_order  reordered\n",
       "0         2       33120                  1          1\n",
       "1         2       28985                  2          1\n",
       "2         2        9327                  3          0\n",
       "3         2       45918                  4          1\n",
       "4         2       30035                  5          0"
      ]
     },
     "execution_count": 191,
     "metadata": {
      "tags": []
     },
     "output_type": "execute_result"
    }
   ],
   "source": [
    "# How about order_products? We need everything from this table except for reordered.\n",
    "order_products__prior = pd.read_csv('order_products__prior.csv')\n",
    "print(order_products__prior.shape)\n",
    "order_products__prior.head()"
   ]
  },
  {
   "cell_type": "code",
   "execution_count": 192,
   "metadata": {
    "colab": {
     "base_uri": "https://localhost:8080/",
     "height": 212
    },
    "colab_type": "code",
    "id": "xgwSUCBk6Ciy",
    "outputId": "cce7ae7d-82a2-4682-8739-7e2b34a237e5"
   },
   "outputs": [
    {
     "name": "stdout",
     "output_type": "stream",
     "text": [
      "(1384617, 4)\n"
     ]
    },
    {
     "data": {
      "text/html": [
       "<div>\n",
       "<style scoped>\n",
       "    .dataframe tbody tr th:only-of-type {\n",
       "        vertical-align: middle;\n",
       "    }\n",
       "\n",
       "    .dataframe tbody tr th {\n",
       "        vertical-align: top;\n",
       "    }\n",
       "\n",
       "    .dataframe thead th {\n",
       "        text-align: right;\n",
       "    }\n",
       "</style>\n",
       "<table border=\"1\" class=\"dataframe\">\n",
       "  <thead>\n",
       "    <tr style=\"text-align: right;\">\n",
       "      <th></th>\n",
       "      <th>order_id</th>\n",
       "      <th>product_id</th>\n",
       "      <th>add_to_cart_order</th>\n",
       "      <th>reordered</th>\n",
       "    </tr>\n",
       "  </thead>\n",
       "  <tbody>\n",
       "    <tr>\n",
       "      <th>0</th>\n",
       "      <td>1</td>\n",
       "      <td>49302</td>\n",
       "      <td>1</td>\n",
       "      <td>1</td>\n",
       "    </tr>\n",
       "    <tr>\n",
       "      <th>1</th>\n",
       "      <td>1</td>\n",
       "      <td>11109</td>\n",
       "      <td>2</td>\n",
       "      <td>1</td>\n",
       "    </tr>\n",
       "    <tr>\n",
       "      <th>2</th>\n",
       "      <td>1</td>\n",
       "      <td>10246</td>\n",
       "      <td>3</td>\n",
       "      <td>0</td>\n",
       "    </tr>\n",
       "    <tr>\n",
       "      <th>3</th>\n",
       "      <td>1</td>\n",
       "      <td>49683</td>\n",
       "      <td>4</td>\n",
       "      <td>0</td>\n",
       "    </tr>\n",
       "    <tr>\n",
       "      <th>4</th>\n",
       "      <td>1</td>\n",
       "      <td>43633</td>\n",
       "      <td>5</td>\n",
       "      <td>1</td>\n",
       "    </tr>\n",
       "  </tbody>\n",
       "</table>\n",
       "</div>"
      ],
      "text/plain": [
       "   order_id  product_id  add_to_cart_order  reordered\n",
       "0         1       49302                  1          1\n",
       "1         1       11109                  2          1\n",
       "2         1       10246                  3          0\n",
       "3         1       49683                  4          0\n",
       "4         1       43633                  5          1"
      ]
     },
     "execution_count": 192,
     "metadata": {
      "tags": []
     },
     "output_type": "execute_result"
    }
   ],
   "source": [
    "# How is this differen from the previous one? Same as above.\n",
    "# This file indicates a user's most recent order.\n",
    "# the suffix '__train' vs '__prior' indicates it's been split for machine learning (train-test split)\n",
    "# Given a user's order history, can you predict what they'll order next.\n",
    "order_products__train = pd.read_csv('order_products__train.csv')\n",
    "print(order_products__train.shape)\n",
    "order_products__train.head()"
   ]
  },
  {
   "cell_type": "code",
   "execution_count": 193,
   "metadata": {
    "colab": {
     "base_uri": "https://localhost:8080/",
     "height": 212
    },
    "colab_type": "code",
    "id": "UfPRTW5w128P",
    "outputId": "36f0edae-48dd-43fe-e38e-ea180e5e2824"
   },
   "outputs": [
    {
     "name": "stdout",
     "output_type": "stream",
     "text": [
      "(3421083, 7)\n"
     ]
    },
    {
     "data": {
      "text/html": [
       "<div>\n",
       "<style scoped>\n",
       "    .dataframe tbody tr th:only-of-type {\n",
       "        vertical-align: middle;\n",
       "    }\n",
       "\n",
       "    .dataframe tbody tr th {\n",
       "        vertical-align: top;\n",
       "    }\n",
       "\n",
       "    .dataframe thead th {\n",
       "        text-align: right;\n",
       "    }\n",
       "</style>\n",
       "<table border=\"1\" class=\"dataframe\">\n",
       "  <thead>\n",
       "    <tr style=\"text-align: right;\">\n",
       "      <th></th>\n",
       "      <th>order_id</th>\n",
       "      <th>user_id</th>\n",
       "      <th>eval_set</th>\n",
       "      <th>order_number</th>\n",
       "      <th>order_dow</th>\n",
       "      <th>order_hour_of_day</th>\n",
       "      <th>days_since_prior_order</th>\n",
       "    </tr>\n",
       "  </thead>\n",
       "  <tbody>\n",
       "    <tr>\n",
       "      <th>0</th>\n",
       "      <td>2539329</td>\n",
       "      <td>1</td>\n",
       "      <td>prior</td>\n",
       "      <td>1</td>\n",
       "      <td>2</td>\n",
       "      <td>8</td>\n",
       "      <td>NaN</td>\n",
       "    </tr>\n",
       "    <tr>\n",
       "      <th>1</th>\n",
       "      <td>2398795</td>\n",
       "      <td>1</td>\n",
       "      <td>prior</td>\n",
       "      <td>2</td>\n",
       "      <td>3</td>\n",
       "      <td>7</td>\n",
       "      <td>15.0</td>\n",
       "    </tr>\n",
       "    <tr>\n",
       "      <th>2</th>\n",
       "      <td>473747</td>\n",
       "      <td>1</td>\n",
       "      <td>prior</td>\n",
       "      <td>3</td>\n",
       "      <td>3</td>\n",
       "      <td>12</td>\n",
       "      <td>21.0</td>\n",
       "    </tr>\n",
       "    <tr>\n",
       "      <th>3</th>\n",
       "      <td>2254736</td>\n",
       "      <td>1</td>\n",
       "      <td>prior</td>\n",
       "      <td>4</td>\n",
       "      <td>4</td>\n",
       "      <td>7</td>\n",
       "      <td>29.0</td>\n",
       "    </tr>\n",
       "    <tr>\n",
       "      <th>4</th>\n",
       "      <td>431534</td>\n",
       "      <td>1</td>\n",
       "      <td>prior</td>\n",
       "      <td>5</td>\n",
       "      <td>4</td>\n",
       "      <td>15</td>\n",
       "      <td>28.0</td>\n",
       "    </tr>\n",
       "  </tbody>\n",
       "</table>\n",
       "</div>"
      ],
      "text/plain": [
       "   order_id  user_id  ... order_hour_of_day  days_since_prior_order\n",
       "0   2539329        1  ...                 8                     NaN\n",
       "1   2398795        1  ...                 7                    15.0\n",
       "2    473747        1  ...                12                    21.0\n",
       "3   2254736        1  ...                 7                    29.0\n",
       "4    431534        1  ...                15                    28.0\n",
       "\n",
       "[5 rows x 7 columns]"
      ]
     },
     "execution_count": 193,
     "metadata": {
      "tags": []
     },
     "output_type": "execute_result"
    }
   ],
   "source": [
    "# How is this one different? Does it have anything we need?\n",
    "# We need most of these columns, except 'days_since_prior_order' and 'eval_set'\n",
    "orders = pd.read_csv('orders.csv')\n",
    "print(orders.shape)\n",
    "orders.head()"
   ]
  },
  {
   "cell_type": "code",
   "execution_count": 194,
   "metadata": {
    "colab": {
     "base_uri": "https://localhost:8080/",
     "height": 212
    },
    "colab_type": "code",
    "id": "3BKG5dxy2IOA",
    "outputId": "2bc754e4-18b2-4693-a2e3-b91a8097fcd3"
   },
   "outputs": [
    {
     "name": "stdout",
     "output_type": "stream",
     "text": [
      "(49688, 4)\n"
     ]
    },
    {
     "data": {
      "text/html": [
       "<div>\n",
       "<style scoped>\n",
       "    .dataframe tbody tr th:only-of-type {\n",
       "        vertical-align: middle;\n",
       "    }\n",
       "\n",
       "    .dataframe tbody tr th {\n",
       "        vertical-align: top;\n",
       "    }\n",
       "\n",
       "    .dataframe thead th {\n",
       "        text-align: right;\n",
       "    }\n",
       "</style>\n",
       "<table border=\"1\" class=\"dataframe\">\n",
       "  <thead>\n",
       "    <tr style=\"text-align: right;\">\n",
       "      <th></th>\n",
       "      <th>product_id</th>\n",
       "      <th>product_name</th>\n",
       "      <th>aisle_id</th>\n",
       "      <th>department_id</th>\n",
       "    </tr>\n",
       "  </thead>\n",
       "  <tbody>\n",
       "    <tr>\n",
       "      <th>0</th>\n",
       "      <td>1</td>\n",
       "      <td>Chocolate Sandwich Cookies</td>\n",
       "      <td>61</td>\n",
       "      <td>19</td>\n",
       "    </tr>\n",
       "    <tr>\n",
       "      <th>1</th>\n",
       "      <td>2</td>\n",
       "      <td>All-Seasons Salt</td>\n",
       "      <td>104</td>\n",
       "      <td>13</td>\n",
       "    </tr>\n",
       "    <tr>\n",
       "      <th>2</th>\n",
       "      <td>3</td>\n",
       "      <td>Robust Golden Unsweetened Oolong Tea</td>\n",
       "      <td>94</td>\n",
       "      <td>7</td>\n",
       "    </tr>\n",
       "    <tr>\n",
       "      <th>3</th>\n",
       "      <td>4</td>\n",
       "      <td>Smart Ones Classic Favorites Mini Rigatoni Wit...</td>\n",
       "      <td>38</td>\n",
       "      <td>1</td>\n",
       "    </tr>\n",
       "    <tr>\n",
       "      <th>4</th>\n",
       "      <td>5</td>\n",
       "      <td>Green Chile Anytime Sauce</td>\n",
       "      <td>5</td>\n",
       "      <td>13</td>\n",
       "    </tr>\n",
       "  </tbody>\n",
       "</table>\n",
       "</div>"
      ],
      "text/plain": [
       "   product_id  ... department_id\n",
       "0           1  ...            19\n",
       "1           2  ...            13\n",
       "2           3  ...             7\n",
       "3           4  ...             1\n",
       "4           5  ...            13\n",
       "\n",
       "[5 rows x 4 columns]"
      ]
     },
     "execution_count": 194,
     "metadata": {
      "tags": []
     },
     "output_type": "execute_result"
    }
   ],
   "source": [
    "# And products? We need 'product_name' and 'product_id'\n",
    "products = pd.read_csv('products.csv')\n",
    "print(products.shape)\n",
    "products.head()"
   ]
  },
  {
   "cell_type": "code",
   "execution_count": 195,
   "metadata": {
    "colab": {
     "base_uri": "https://localhost:8080/",
     "height": 312
    },
    "colab_type": "code",
    "id": "zw6ShA0jVUWF",
    "outputId": "ab0c80f3-3f7e-42ad-ee8c-9551680d8853"
   },
   "outputs": [
    {
     "data": {
      "text/html": [
       "<img src=\"https://cdn-images-1.medium.com/max/1600/1*vYGFQCafJtGBBX5mbl0xyw.png\" width=\"600\"/>"
      ],
      "text/plain": [
       "<IPython.core.display.Image object>"
      ]
     },
     "metadata": {
      "tags": []
     },
     "output_type": "display_data"
    }
   ],
   "source": [
    "display(example)"
   ]
  },
  {
   "cell_type": "markdown",
   "metadata": {
    "colab_type": "text",
    "id": "Z1YRw5ypJuv2"
   },
   "source": [
    "#### Filtering: Get a subset of orders"
   ]
  },
  {
   "cell_type": "markdown",
   "metadata": {
    "colab_type": "text",
    "id": "W2I6Pc2WpWbY"
   },
   "source": [
    "From `orders` dataframe:\n",
    "- user_id\n",
    "- order_id\n",
    "- order_number\n",
    "- order_dow\n",
    "- order_hour_of_day"
   ]
  },
  {
   "cell_type": "code",
   "execution_count": 196,
   "metadata": {
    "colab": {
     "base_uri": "https://localhost:8080/",
     "height": 136
    },
    "colab_type": "code",
    "id": "e1UuSl8Fo2n1",
    "outputId": "3d68b450-985d-4a31-9cbf-99c7a594e664"
   },
   "outputs": [
    {
     "data": {
      "text/html": [
       "<div>\n",
       "<style scoped>\n",
       "    .dataframe tbody tr th:only-of-type {\n",
       "        vertical-align: middle;\n",
       "    }\n",
       "\n",
       "    .dataframe tbody tr th {\n",
       "        vertical-align: top;\n",
       "    }\n",
       "\n",
       "    .dataframe thead th {\n",
       "        text-align: right;\n",
       "    }\n",
       "</style>\n",
       "<table border=\"1\" class=\"dataframe\">\n",
       "  <thead>\n",
       "    <tr style=\"text-align: right;\">\n",
       "      <th></th>\n",
       "      <th>order_id</th>\n",
       "      <th>user_id</th>\n",
       "      <th>eval_set</th>\n",
       "      <th>order_number</th>\n",
       "      <th>order_dow</th>\n",
       "      <th>order_hour_of_day</th>\n",
       "      <th>days_since_prior_order</th>\n",
       "    </tr>\n",
       "  </thead>\n",
       "  <tbody>\n",
       "    <tr>\n",
       "      <th>0</th>\n",
       "      <td>2539329</td>\n",
       "      <td>1</td>\n",
       "      <td>prior</td>\n",
       "      <td>1</td>\n",
       "      <td>2</td>\n",
       "      <td>8</td>\n",
       "      <td>NaN</td>\n",
       "    </tr>\n",
       "    <tr>\n",
       "      <th>1</th>\n",
       "      <td>2398795</td>\n",
       "      <td>1</td>\n",
       "      <td>prior</td>\n",
       "      <td>2</td>\n",
       "      <td>3</td>\n",
       "      <td>7</td>\n",
       "      <td>15.0</td>\n",
       "    </tr>\n",
       "    <tr>\n",
       "      <th>2</th>\n",
       "      <td>473747</td>\n",
       "      <td>1</td>\n",
       "      <td>prior</td>\n",
       "      <td>3</td>\n",
       "      <td>3</td>\n",
       "      <td>12</td>\n",
       "      <td>21.0</td>\n",
       "    </tr>\n",
       "  </tbody>\n",
       "</table>\n",
       "</div>"
      ],
      "text/plain": [
       "   order_id  user_id  ... order_hour_of_day  days_since_prior_order\n",
       "0   2539329        1  ...                 8                     NaN\n",
       "1   2398795        1  ...                 7                    15.0\n",
       "2    473747        1  ...                12                    21.0\n",
       "\n",
       "[3 rows x 7 columns]"
      ]
     },
     "execution_count": 196,
     "metadata": {
      "tags": []
     },
     "output_type": "execute_result"
    }
   ],
   "source": [
    "# let's look at the `orders` dataframe.\n",
    "orders.head(3)"
   ]
  },
  {
   "cell_type": "code",
   "execution_count": 197,
   "metadata": {
    "colab": {
     "base_uri": "https://localhost:8080/",
     "height": 136
    },
    "colab_type": "code",
    "id": "b0YCXZLppY48",
    "outputId": "fdc340fd-0c72-4e48-c4f1-b43d42e6f470"
   },
   "outputs": [
    {
     "data": {
      "text/html": [
       "<div>\n",
       "<style scoped>\n",
       "    .dataframe tbody tr th:only-of-type {\n",
       "        vertical-align: middle;\n",
       "    }\n",
       "\n",
       "    .dataframe tbody tr th {\n",
       "        vertical-align: top;\n",
       "    }\n",
       "\n",
       "    .dataframe thead th {\n",
       "        text-align: right;\n",
       "    }\n",
       "</style>\n",
       "<table border=\"1\" class=\"dataframe\">\n",
       "  <thead>\n",
       "    <tr style=\"text-align: right;\">\n",
       "      <th></th>\n",
       "      <th>user_id</th>\n",
       "      <th>order_id</th>\n",
       "      <th>order_number</th>\n",
       "      <th>order_dow</th>\n",
       "      <th>order_hour_of_day</th>\n",
       "    </tr>\n",
       "  </thead>\n",
       "  <tbody>\n",
       "    <tr>\n",
       "      <th>0</th>\n",
       "      <td>1</td>\n",
       "      <td>2539329</td>\n",
       "      <td>1</td>\n",
       "      <td>2</td>\n",
       "      <td>8</td>\n",
       "    </tr>\n",
       "    <tr>\n",
       "      <th>1</th>\n",
       "      <td>1</td>\n",
       "      <td>2398795</td>\n",
       "      <td>2</td>\n",
       "      <td>3</td>\n",
       "      <td>7</td>\n",
       "    </tr>\n",
       "    <tr>\n",
       "      <th>2</th>\n",
       "      <td>1</td>\n",
       "      <td>473747</td>\n",
       "      <td>3</td>\n",
       "      <td>3</td>\n",
       "      <td>12</td>\n",
       "    </tr>\n",
       "  </tbody>\n",
       "</table>\n",
       "</div>"
      ],
      "text/plain": [
       "   user_id  order_id  order_number  order_dow  order_hour_of_day\n",
       "0        1   2539329             1          2                  8\n",
       "1        1   2398795             2          3                  7\n",
       "2        1    473747             3          3                 12"
      ]
     },
     "execution_count": 197,
     "metadata": {
      "tags": []
     },
     "output_type": "execute_result"
    }
   ],
   "source": [
    "# let's filter this dataframe to just the columns we need.\n",
    "orders = orders[['user_id', 'order_id', 'order_number', 'order_dow', 'order_hour_of_day']]\n",
    "orders.head(3)"
   ]
  },
  {
   "cell_type": "code",
   "execution_count": 198,
   "metadata": {
    "colab": {
     "base_uri": "https://localhost:8080/",
     "height": 218
    },
    "colab_type": "code",
    "id": "8JRsUbY-Y3yG",
    "outputId": "b2748a95-69d3-4878-8ea9-06f7d251fdeb"
   },
   "outputs": [
    {
     "data": {
      "text/plain": [
       "0           True\n",
       "1           True\n",
       "2           True\n",
       "3           True\n",
       "4           True\n",
       "           ...  \n",
       "3421078    False\n",
       "3421079    False\n",
       "3421080    False\n",
       "3421081    False\n",
       "3421082    False\n",
       "Name: user_id, Length: 3421083, dtype: bool"
      ]
     },
     "execution_count": 198,
     "metadata": {
      "tags": []
     },
     "output_type": "execute_result"
    }
   ],
   "source": [
    "# Now let's filter it to only certain rows. This will result in a series of boolean values.\n",
    "condition = (orders['user_id'] == 1)\n",
    "condition"
   ]
  },
  {
   "cell_type": "code",
   "execution_count": 199,
   "metadata": {
    "colab": {
     "base_uri": "https://localhost:8080/",
     "height": 390
    },
    "colab_type": "code",
    "id": "B1KNQT3ya_HJ",
    "outputId": "b72d8747-2c82-4039-a732-76da0fdf34ae"
   },
   "outputs": [
    {
     "name": "stdout",
     "output_type": "stream",
     "text": [
      "(11, 5)\n"
     ]
    },
    {
     "data": {
      "text/html": [
       "<div>\n",
       "<style scoped>\n",
       "    .dataframe tbody tr th:only-of-type {\n",
       "        vertical-align: middle;\n",
       "    }\n",
       "\n",
       "    .dataframe tbody tr th {\n",
       "        vertical-align: top;\n",
       "    }\n",
       "\n",
       "    .dataframe thead th {\n",
       "        text-align: right;\n",
       "    }\n",
       "</style>\n",
       "<table border=\"1\" class=\"dataframe\">\n",
       "  <thead>\n",
       "    <tr style=\"text-align: right;\">\n",
       "      <th></th>\n",
       "      <th>user_id</th>\n",
       "      <th>order_id</th>\n",
       "      <th>order_number</th>\n",
       "      <th>order_dow</th>\n",
       "      <th>order_hour_of_day</th>\n",
       "    </tr>\n",
       "  </thead>\n",
       "  <tbody>\n",
       "    <tr>\n",
       "      <th>0</th>\n",
       "      <td>1</td>\n",
       "      <td>2539329</td>\n",
       "      <td>1</td>\n",
       "      <td>2</td>\n",
       "      <td>8</td>\n",
       "    </tr>\n",
       "    <tr>\n",
       "      <th>1</th>\n",
       "      <td>1</td>\n",
       "      <td>2398795</td>\n",
       "      <td>2</td>\n",
       "      <td>3</td>\n",
       "      <td>7</td>\n",
       "    </tr>\n",
       "    <tr>\n",
       "      <th>2</th>\n",
       "      <td>1</td>\n",
       "      <td>473747</td>\n",
       "      <td>3</td>\n",
       "      <td>3</td>\n",
       "      <td>12</td>\n",
       "    </tr>\n",
       "    <tr>\n",
       "      <th>3</th>\n",
       "      <td>1</td>\n",
       "      <td>2254736</td>\n",
       "      <td>4</td>\n",
       "      <td>4</td>\n",
       "      <td>7</td>\n",
       "    </tr>\n",
       "    <tr>\n",
       "      <th>4</th>\n",
       "      <td>1</td>\n",
       "      <td>431534</td>\n",
       "      <td>5</td>\n",
       "      <td>4</td>\n",
       "      <td>15</td>\n",
       "    </tr>\n",
       "    <tr>\n",
       "      <th>5</th>\n",
       "      <td>1</td>\n",
       "      <td>3367565</td>\n",
       "      <td>6</td>\n",
       "      <td>2</td>\n",
       "      <td>7</td>\n",
       "    </tr>\n",
       "    <tr>\n",
       "      <th>6</th>\n",
       "      <td>1</td>\n",
       "      <td>550135</td>\n",
       "      <td>7</td>\n",
       "      <td>1</td>\n",
       "      <td>9</td>\n",
       "    </tr>\n",
       "    <tr>\n",
       "      <th>7</th>\n",
       "      <td>1</td>\n",
       "      <td>3108588</td>\n",
       "      <td>8</td>\n",
       "      <td>1</td>\n",
       "      <td>14</td>\n",
       "    </tr>\n",
       "    <tr>\n",
       "      <th>8</th>\n",
       "      <td>1</td>\n",
       "      <td>2295261</td>\n",
       "      <td>9</td>\n",
       "      <td>1</td>\n",
       "      <td>16</td>\n",
       "    </tr>\n",
       "    <tr>\n",
       "      <th>9</th>\n",
       "      <td>1</td>\n",
       "      <td>2550362</td>\n",
       "      <td>10</td>\n",
       "      <td>4</td>\n",
       "      <td>8</td>\n",
       "    </tr>\n",
       "    <tr>\n",
       "      <th>10</th>\n",
       "      <td>1</td>\n",
       "      <td>1187899</td>\n",
       "      <td>11</td>\n",
       "      <td>4</td>\n",
       "      <td>8</td>\n",
       "    </tr>\n",
       "  </tbody>\n",
       "</table>\n",
       "</div>"
      ],
      "text/plain": [
       "    user_id  order_id  order_number  order_dow  order_hour_of_day\n",
       "0         1   2539329             1          2                  8\n",
       "1         1   2398795             2          3                  7\n",
       "2         1    473747             3          3                 12\n",
       "3         1   2254736             4          4                  7\n",
       "4         1    431534             5          4                 15\n",
       "5         1   3367565             6          2                  7\n",
       "6         1    550135             7          1                  9\n",
       "7         1   3108588             8          1                 14\n",
       "8         1   2295261             9          1                 16\n",
       "9         1   2550362            10          4                  8\n",
       "10        1   1187899            11          4                  8"
      ]
     },
     "execution_count": 199,
     "metadata": {
      "tags": []
     },
     "output_type": "execute_result"
    }
   ],
   "source": [
    "# Apply that condition to the orders dataframe.\n",
    "print(orders[condition].shape)\n",
    "orders[condition]"
   ]
  },
  {
   "cell_type": "code",
   "execution_count": 200,
   "metadata": {
    "colab": {
     "base_uri": "https://localhost:8080/",
     "height": 218
    },
    "colab_type": "code",
    "id": "oWasvQDkaifP",
    "outputId": "9dfe9cff-0e17-4495-c79d-15297fc0513d"
   },
   "outputs": [
    {
     "data": {
      "text/plain": [
       "0           True\n",
       "1           True\n",
       "2          False\n",
       "3          False\n",
       "4          False\n",
       "           ...  \n",
       "3421078    False\n",
       "3421079    False\n",
       "3421080    False\n",
       "3421081    False\n",
       "3421082    False\n",
       "Length: 3421083, dtype: bool"
      ]
     },
     "execution_count": 200,
     "metadata": {
      "tags": []
     },
     "output_type": "execute_result"
    }
   ],
   "source": [
    "# a more complicated condition.\n",
    "condition = (orders['user_id'] == 1) & (orders['order_number'] <= 2)\n",
    "condition"
   ]
  },
  {
   "cell_type": "code",
   "execution_count": 201,
   "metadata": {
    "colab": {
     "base_uri": "https://localhost:8080/",
     "height": 123
    },
    "colab_type": "code",
    "id": "mm9mXQx8bqvq",
    "outputId": "f66bd4be-3c9e-437e-d6aa-f77383248512"
   },
   "outputs": [
    {
     "name": "stdout",
     "output_type": "stream",
     "text": [
      "(2, 5)\n"
     ]
    },
    {
     "data": {
      "text/html": [
       "<div>\n",
       "<style scoped>\n",
       "    .dataframe tbody tr th:only-of-type {\n",
       "        vertical-align: middle;\n",
       "    }\n",
       "\n",
       "    .dataframe tbody tr th {\n",
       "        vertical-align: top;\n",
       "    }\n",
       "\n",
       "    .dataframe thead th {\n",
       "        text-align: right;\n",
       "    }\n",
       "</style>\n",
       "<table border=\"1\" class=\"dataframe\">\n",
       "  <thead>\n",
       "    <tr style=\"text-align: right;\">\n",
       "      <th></th>\n",
       "      <th>user_id</th>\n",
       "      <th>order_id</th>\n",
       "      <th>order_number</th>\n",
       "      <th>order_dow</th>\n",
       "      <th>order_hour_of_day</th>\n",
       "    </tr>\n",
       "  </thead>\n",
       "  <tbody>\n",
       "    <tr>\n",
       "      <th>0</th>\n",
       "      <td>1</td>\n",
       "      <td>2539329</td>\n",
       "      <td>1</td>\n",
       "      <td>2</td>\n",
       "      <td>8</td>\n",
       "    </tr>\n",
       "    <tr>\n",
       "      <th>1</th>\n",
       "      <td>1</td>\n",
       "      <td>2398795</td>\n",
       "      <td>2</td>\n",
       "      <td>3</td>\n",
       "      <td>7</td>\n",
       "    </tr>\n",
       "  </tbody>\n",
       "</table>\n",
       "</div>"
      ],
      "text/plain": [
       "   user_id  order_id  order_number  order_dow  order_hour_of_day\n",
       "0        1   2539329             1          2                  8\n",
       "1        1   2398795             2          3                  7"
      ]
     },
     "execution_count": 201,
     "metadata": {
      "tags": []
     },
     "output_type": "execute_result"
    }
   ],
   "source": [
    "# Turn that filtered dataframe into its own dataframe.\n",
    "orders_subset = orders[condition]\n",
    "print(orders_subset.shape)\n",
    "orders_subset"
   ]
  },
  {
   "cell_type": "markdown",
   "metadata": {
    "colab_type": "text",
    "id": "o7BRB4dTcZew"
   },
   "source": [
    "#### Concatenate order_products__prior and order_products__train"
   ]
  },
  {
   "cell_type": "code",
   "execution_count": 202,
   "metadata": {
    "colab": {
     "base_uri": "https://localhost:8080/",
     "height": 50
    },
    "colab_type": "code",
    "id": "UCdiAU_EcjcG",
    "outputId": "cfd6653e-3b97-4d06-df40-0c4f6de1253e"
   },
   "outputs": [
    {
     "name": "stdout",
     "output_type": "stream",
     "text": [
      "(32434489, 4)\n",
      "(1384617, 4)\n"
     ]
    }
   ],
   "source": [
    "# check out their shape.\n",
    "print(order_products__prior.shape)\n",
    "print(order_products__train.shape)"
   ]
  },
  {
   "cell_type": "code",
   "execution_count": 203,
   "metadata": {
    "colab": {
     "base_uri": "https://localhost:8080/",
     "height": 34
    },
    "colab_type": "code",
    "id": "SjYfYLqDcjiw",
    "outputId": "8eeeb5f8-c562-40b4-bbc1-7af91d1a204c"
   },
   "outputs": [
    {
     "data": {
      "text/plain": [
       "(33819106, 4)"
      ]
     },
     "execution_count": 203,
     "metadata": {
      "tags": []
     },
     "output_type": "execute_result"
    }
   ],
   "source": [
    "# concatenate them together\n",
    "order_products=pd.concat([order_products__prior, order_products__train], axis=0)\n",
    "order_products.shape"
   ]
  },
  {
   "cell_type": "code",
   "execution_count": 204,
   "metadata": {
    "colab": {
     "base_uri": "https://localhost:8080/",
     "height": 218
    },
    "colab_type": "code",
    "id": "I61CfLO7cjoB",
    "outputId": "ab38b015-3dee-49a0-821e-411638a1ca5b"
   },
   "outputs": [
    {
     "data": {
      "text/plain": [
       "0          False\n",
       "1          False\n",
       "2          False\n",
       "3          False\n",
       "4          False\n",
       "           ...  \n",
       "1384612    False\n",
       "1384613    False\n",
       "1384614    False\n",
       "1384615    False\n",
       "1384616    False\n",
       "Name: order_id, Length: 33819106, dtype: bool"
      ]
     },
     "execution_count": 204,
     "metadata": {
      "tags": []
     },
     "output_type": "execute_result"
    }
   ],
   "source": [
    "# Get a subset of `order_products` -- slim down this large dataset to only what I need (only 2 orders). \n",
    "condition = (order_products['order_id'] == 2539329) | (order_products['order_id'] == 2398795)\n",
    "condition"
   ]
  },
  {
   "cell_type": "code",
   "execution_count": 0,
   "metadata": {
    "colab": {},
    "colab_type": "code",
    "id": "xSpf1FI0qrj2"
   },
   "outputs": [],
   "source": [
    "# Make a selection of columns\n",
    "columns = ['order_id', \n",
    "           'add_to_cart_order', \n",
    "           'product_id']"
   ]
  },
  {
   "cell_type": "code",
   "execution_count": 206,
   "metadata": {
    "colab": {
     "base_uri": "https://localhost:8080/",
     "height": 212
    },
    "colab_type": "code",
    "id": "QMwk-8jCcjtb",
    "outputId": "f23f2b51-7d7b-4fcd-fdc7-b89c8c3809de"
   },
   "outputs": [
    {
     "name": "stdout",
     "output_type": "stream",
     "text": [
      "(11, 3)\n"
     ]
    },
    {
     "data": {
      "text/html": [
       "<div>\n",
       "<style scoped>\n",
       "    .dataframe tbody tr th:only-of-type {\n",
       "        vertical-align: middle;\n",
       "    }\n",
       "\n",
       "    .dataframe tbody tr th {\n",
       "        vertical-align: top;\n",
       "    }\n",
       "\n",
       "    .dataframe thead th {\n",
       "        text-align: right;\n",
       "    }\n",
       "</style>\n",
       "<table border=\"1\" class=\"dataframe\">\n",
       "  <thead>\n",
       "    <tr style=\"text-align: right;\">\n",
       "      <th></th>\n",
       "      <th>order_id</th>\n",
       "      <th>add_to_cart_order</th>\n",
       "      <th>product_id</th>\n",
       "    </tr>\n",
       "  </thead>\n",
       "  <tbody>\n",
       "    <tr>\n",
       "      <th>22742744</th>\n",
       "      <td>2398795</td>\n",
       "      <td>1</td>\n",
       "      <td>196</td>\n",
       "    </tr>\n",
       "    <tr>\n",
       "      <th>22742745</th>\n",
       "      <td>2398795</td>\n",
       "      <td>2</td>\n",
       "      <td>10258</td>\n",
       "    </tr>\n",
       "    <tr>\n",
       "      <th>22742746</th>\n",
       "      <td>2398795</td>\n",
       "      <td>3</td>\n",
       "      <td>12427</td>\n",
       "    </tr>\n",
       "    <tr>\n",
       "      <th>22742747</th>\n",
       "      <td>2398795</td>\n",
       "      <td>4</td>\n",
       "      <td>13176</td>\n",
       "    </tr>\n",
       "    <tr>\n",
       "      <th>22742748</th>\n",
       "      <td>2398795</td>\n",
       "      <td>5</td>\n",
       "      <td>26088</td>\n",
       "    </tr>\n",
       "  </tbody>\n",
       "</table>\n",
       "</div>"
      ],
      "text/plain": [
       "          order_id  add_to_cart_order  product_id\n",
       "22742744   2398795                  1         196\n",
       "22742745   2398795                  2       10258\n",
       "22742746   2398795                  3       12427\n",
       "22742747   2398795                  4       13176\n",
       "22742748   2398795                  5       26088"
      ]
     },
     "execution_count": 206,
     "metadata": {
      "tags": []
     },
     "output_type": "execute_result"
    }
   ],
   "source": [
    "# Use the .loc method to filter rows and columns in a single blow.\n",
    "order_products_subset = order_products.loc[condition, columns]\n",
    "print(order_products_subset.shape)\n",
    "order_products_subset.head()"
   ]
  },
  {
   "cell_type": "markdown",
   "metadata": {
    "colab_type": "text",
    "id": "3K1p0QHuKPnt"
   },
   "source": [
    "#### Merge dataframes"
   ]
  },
  {
   "cell_type": "markdown",
   "metadata": {
    "colab_type": "text",
    "id": "4MVZ9vb1BuO0"
   },
   "source": [
    "Merge the subset from `orders` with columns from `order_products`"
   ]
  },
  {
   "cell_type": "code",
   "execution_count": 207,
   "metadata": {
    "colab": {
     "base_uri": "https://localhost:8080/",
     "height": 50
    },
    "colab_type": "code",
    "id": "3lajwEE86iKc",
    "outputId": "f80fce32-c4ab-42c0-90e5-c6516b52c3f3"
   },
   "outputs": [
    {
     "name": "stdout",
     "output_type": "stream",
     "text": [
      "(11, 3)\n",
      "(2, 5)\n"
     ]
    }
   ],
   "source": [
    "# Both of these subsets are now quite small\n",
    "print(order_products_subset.shape)\n",
    "print(orders_subset.shape)"
   ]
  },
  {
   "cell_type": "code",
   "execution_count": 208,
   "metadata": {
    "colab": {
     "base_uri": "https://localhost:8080/",
     "height": 84
    },
    "colab_type": "code",
    "id": "dAAmUuwMrQw_",
    "outputId": "50f25feb-512e-46ce-d8ab-1b1b15644473"
   },
   "outputs": [
    {
     "name": "stdout",
     "output_type": "stream",
     "text": [
      "Index(['order_id', 'add_to_cart_order', 'product_id'], dtype='object')\n",
      "Index(['user_id', 'order_id', 'order_number', 'order_dow',\n",
      "       'order_hour_of_day'],\n",
      "      dtype='object')\n"
     ]
    }
   ],
   "source": [
    "# what is their common key ('unique identifier')?\n",
    "print(order_products_subset.columns)\n",
    "print(orders_subset.columns)"
   ]
  },
  {
   "cell_type": "code",
   "execution_count": 209,
   "metadata": {
    "colab": {
     "base_uri": "https://localhost:8080/",
     "height": 373
    },
    "colab_type": "code",
    "id": "BmaUDXyWrV_9",
    "outputId": "8bb6246d-8a1f-4b3e-a3e2-7a3a47121e3d"
   },
   "outputs": [
    {
     "data": {
      "text/html": [
       "<div>\n",
       "<style scoped>\n",
       "    .dataframe tbody tr th:only-of-type {\n",
       "        vertical-align: middle;\n",
       "    }\n",
       "\n",
       "    .dataframe tbody tr th {\n",
       "        vertical-align: top;\n",
       "    }\n",
       "\n",
       "    .dataframe thead th {\n",
       "        text-align: right;\n",
       "    }\n",
       "</style>\n",
       "<table border=\"1\" class=\"dataframe\">\n",
       "  <thead>\n",
       "    <tr style=\"text-align: right;\">\n",
       "      <th></th>\n",
       "      <th>user_id</th>\n",
       "      <th>order_id</th>\n",
       "      <th>order_number</th>\n",
       "      <th>order_dow</th>\n",
       "      <th>order_hour_of_day</th>\n",
       "      <th>add_to_cart_order</th>\n",
       "      <th>product_id</th>\n",
       "    </tr>\n",
       "  </thead>\n",
       "  <tbody>\n",
       "    <tr>\n",
       "      <th>0</th>\n",
       "      <td>1</td>\n",
       "      <td>2539329</td>\n",
       "      <td>1</td>\n",
       "      <td>2</td>\n",
       "      <td>8</td>\n",
       "      <td>1</td>\n",
       "      <td>196</td>\n",
       "    </tr>\n",
       "    <tr>\n",
       "      <th>1</th>\n",
       "      <td>1</td>\n",
       "      <td>2539329</td>\n",
       "      <td>1</td>\n",
       "      <td>2</td>\n",
       "      <td>8</td>\n",
       "      <td>2</td>\n",
       "      <td>14084</td>\n",
       "    </tr>\n",
       "    <tr>\n",
       "      <th>2</th>\n",
       "      <td>1</td>\n",
       "      <td>2539329</td>\n",
       "      <td>1</td>\n",
       "      <td>2</td>\n",
       "      <td>8</td>\n",
       "      <td>3</td>\n",
       "      <td>12427</td>\n",
       "    </tr>\n",
       "    <tr>\n",
       "      <th>3</th>\n",
       "      <td>1</td>\n",
       "      <td>2539329</td>\n",
       "      <td>1</td>\n",
       "      <td>2</td>\n",
       "      <td>8</td>\n",
       "      <td>4</td>\n",
       "      <td>26088</td>\n",
       "    </tr>\n",
       "    <tr>\n",
       "      <th>4</th>\n",
       "      <td>1</td>\n",
       "      <td>2539329</td>\n",
       "      <td>1</td>\n",
       "      <td>2</td>\n",
       "      <td>8</td>\n",
       "      <td>5</td>\n",
       "      <td>26405</td>\n",
       "    </tr>\n",
       "    <tr>\n",
       "      <th>5</th>\n",
       "      <td>1</td>\n",
       "      <td>2398795</td>\n",
       "      <td>2</td>\n",
       "      <td>3</td>\n",
       "      <td>7</td>\n",
       "      <td>1</td>\n",
       "      <td>196</td>\n",
       "    </tr>\n",
       "    <tr>\n",
       "      <th>6</th>\n",
       "      <td>1</td>\n",
       "      <td>2398795</td>\n",
       "      <td>2</td>\n",
       "      <td>3</td>\n",
       "      <td>7</td>\n",
       "      <td>2</td>\n",
       "      <td>10258</td>\n",
       "    </tr>\n",
       "    <tr>\n",
       "      <th>7</th>\n",
       "      <td>1</td>\n",
       "      <td>2398795</td>\n",
       "      <td>2</td>\n",
       "      <td>3</td>\n",
       "      <td>7</td>\n",
       "      <td>3</td>\n",
       "      <td>12427</td>\n",
       "    </tr>\n",
       "    <tr>\n",
       "      <th>8</th>\n",
       "      <td>1</td>\n",
       "      <td>2398795</td>\n",
       "      <td>2</td>\n",
       "      <td>3</td>\n",
       "      <td>7</td>\n",
       "      <td>4</td>\n",
       "      <td>13176</td>\n",
       "    </tr>\n",
       "    <tr>\n",
       "      <th>9</th>\n",
       "      <td>1</td>\n",
       "      <td>2398795</td>\n",
       "      <td>2</td>\n",
       "      <td>3</td>\n",
       "      <td>7</td>\n",
       "      <td>5</td>\n",
       "      <td>26088</td>\n",
       "    </tr>\n",
       "    <tr>\n",
       "      <th>10</th>\n",
       "      <td>1</td>\n",
       "      <td>2398795</td>\n",
       "      <td>2</td>\n",
       "      <td>3</td>\n",
       "      <td>7</td>\n",
       "      <td>6</td>\n",
       "      <td>13032</td>\n",
       "    </tr>\n",
       "  </tbody>\n",
       "</table>\n",
       "</div>"
      ],
      "text/plain": [
       "    user_id  order_id  ...  add_to_cart_order  product_id\n",
       "0         1   2539329  ...                  1         196\n",
       "1         1   2539329  ...                  2       14084\n",
       "2         1   2539329  ...                  3       12427\n",
       "3         1   2539329  ...                  4       26088\n",
       "4         1   2539329  ...                  5       26405\n",
       "5         1   2398795  ...                  1         196\n",
       "6         1   2398795  ...                  2       10258\n",
       "7         1   2398795  ...                  3       12427\n",
       "8         1   2398795  ...                  4       13176\n",
       "9         1   2398795  ...                  5       26088\n",
       "10        1   2398795  ...                  6       13032\n",
       "\n",
       "[11 rows x 7 columns]"
      ]
     },
     "execution_count": 209,
     "metadata": {
      "tags": []
     },
     "output_type": "execute_result"
    }
   ],
   "source": [
    "# merge the two df's on the common key.\n",
    "# the 'on' parameter indicates a specific column that is contained in both dataframes.\n",
    "# we use it to look up and copy information from the two df's into a combined df.\n",
    "merged = pd.merge(orders_subset, order_products_subset, on='order_id', how='inner')\n",
    "merged"
   ]
  },
  {
   "cell_type": "markdown",
   "metadata": {
    "colab_type": "text",
    "id": "i1uLO1bxByfz"
   },
   "source": [
    "Merge with columns from `products`"
   ]
  },
  {
   "cell_type": "code",
   "execution_count": 210,
   "metadata": {
    "colab": {
     "base_uri": "https://localhost:8080/",
     "height": 406
    },
    "colab_type": "code",
    "id": "D3Hfo2dkJlmh",
    "outputId": "84a58750-d5a5-41e0-8570-183a4baf91af"
   },
   "outputs": [
    {
     "data": {
      "text/html": [
       "<div>\n",
       "<style scoped>\n",
       "    .dataframe tbody tr th:only-of-type {\n",
       "        vertical-align: middle;\n",
       "    }\n",
       "\n",
       "    .dataframe tbody tr th {\n",
       "        vertical-align: top;\n",
       "    }\n",
       "\n",
       "    .dataframe thead th {\n",
       "        text-align: right;\n",
       "    }\n",
       "</style>\n",
       "<table border=\"1\" class=\"dataframe\">\n",
       "  <thead>\n",
       "    <tr style=\"text-align: right;\">\n",
       "      <th></th>\n",
       "      <th>user_id</th>\n",
       "      <th>order_id</th>\n",
       "      <th>order_number</th>\n",
       "      <th>order_dow</th>\n",
       "      <th>order_hour_of_day</th>\n",
       "      <th>add_to_cart_order</th>\n",
       "      <th>product_id</th>\n",
       "      <th>product_name</th>\n",
       "    </tr>\n",
       "  </thead>\n",
       "  <tbody>\n",
       "    <tr>\n",
       "      <th>0</th>\n",
       "      <td>1</td>\n",
       "      <td>2539329</td>\n",
       "      <td>1</td>\n",
       "      <td>2</td>\n",
       "      <td>8</td>\n",
       "      <td>1</td>\n",
       "      <td>196</td>\n",
       "      <td>Soda</td>\n",
       "    </tr>\n",
       "    <tr>\n",
       "      <th>1</th>\n",
       "      <td>1</td>\n",
       "      <td>2398795</td>\n",
       "      <td>2</td>\n",
       "      <td>3</td>\n",
       "      <td>7</td>\n",
       "      <td>1</td>\n",
       "      <td>196</td>\n",
       "      <td>Soda</td>\n",
       "    </tr>\n",
       "    <tr>\n",
       "      <th>2</th>\n",
       "      <td>1</td>\n",
       "      <td>2539329</td>\n",
       "      <td>1</td>\n",
       "      <td>2</td>\n",
       "      <td>8</td>\n",
       "      <td>2</td>\n",
       "      <td>14084</td>\n",
       "      <td>Organic Unsweetened Vanilla Almond Milk</td>\n",
       "    </tr>\n",
       "    <tr>\n",
       "      <th>3</th>\n",
       "      <td>1</td>\n",
       "      <td>2539329</td>\n",
       "      <td>1</td>\n",
       "      <td>2</td>\n",
       "      <td>8</td>\n",
       "      <td>3</td>\n",
       "      <td>12427</td>\n",
       "      <td>Original Beef Jerky</td>\n",
       "    </tr>\n",
       "    <tr>\n",
       "      <th>4</th>\n",
       "      <td>1</td>\n",
       "      <td>2398795</td>\n",
       "      <td>2</td>\n",
       "      <td>3</td>\n",
       "      <td>7</td>\n",
       "      <td>3</td>\n",
       "      <td>12427</td>\n",
       "      <td>Original Beef Jerky</td>\n",
       "    </tr>\n",
       "    <tr>\n",
       "      <th>5</th>\n",
       "      <td>1</td>\n",
       "      <td>2539329</td>\n",
       "      <td>1</td>\n",
       "      <td>2</td>\n",
       "      <td>8</td>\n",
       "      <td>4</td>\n",
       "      <td>26088</td>\n",
       "      <td>Aged White Cheddar Popcorn</td>\n",
       "    </tr>\n",
       "    <tr>\n",
       "      <th>6</th>\n",
       "      <td>1</td>\n",
       "      <td>2398795</td>\n",
       "      <td>2</td>\n",
       "      <td>3</td>\n",
       "      <td>7</td>\n",
       "      <td>5</td>\n",
       "      <td>26088</td>\n",
       "      <td>Aged White Cheddar Popcorn</td>\n",
       "    </tr>\n",
       "    <tr>\n",
       "      <th>7</th>\n",
       "      <td>1</td>\n",
       "      <td>2539329</td>\n",
       "      <td>1</td>\n",
       "      <td>2</td>\n",
       "      <td>8</td>\n",
       "      <td>5</td>\n",
       "      <td>26405</td>\n",
       "      <td>XL Pick-A-Size Paper Towel Rolls</td>\n",
       "    </tr>\n",
       "    <tr>\n",
       "      <th>8</th>\n",
       "      <td>1</td>\n",
       "      <td>2398795</td>\n",
       "      <td>2</td>\n",
       "      <td>3</td>\n",
       "      <td>7</td>\n",
       "      <td>2</td>\n",
       "      <td>10258</td>\n",
       "      <td>Pistachios</td>\n",
       "    </tr>\n",
       "    <tr>\n",
       "      <th>9</th>\n",
       "      <td>1</td>\n",
       "      <td>2398795</td>\n",
       "      <td>2</td>\n",
       "      <td>3</td>\n",
       "      <td>7</td>\n",
       "      <td>4</td>\n",
       "      <td>13176</td>\n",
       "      <td>Bag of Organic Bananas</td>\n",
       "    </tr>\n",
       "    <tr>\n",
       "      <th>10</th>\n",
       "      <td>1</td>\n",
       "      <td>2398795</td>\n",
       "      <td>2</td>\n",
       "      <td>3</td>\n",
       "      <td>7</td>\n",
       "      <td>6</td>\n",
       "      <td>13032</td>\n",
       "      <td>Cinnamon Toast Crunch</td>\n",
       "    </tr>\n",
       "  </tbody>\n",
       "</table>\n",
       "</div>"
      ],
      "text/plain": [
       "    user_id  order_id  ...  product_id                             product_name\n",
       "0         1   2539329  ...         196                                     Soda\n",
       "1         1   2398795  ...         196                                     Soda\n",
       "2         1   2539329  ...       14084  Organic Unsweetened Vanilla Almond Milk\n",
       "3         1   2539329  ...       12427                      Original Beef Jerky\n",
       "4         1   2398795  ...       12427                      Original Beef Jerky\n",
       "5         1   2539329  ...       26088               Aged White Cheddar Popcorn\n",
       "6         1   2398795  ...       26088               Aged White Cheddar Popcorn\n",
       "7         1   2539329  ...       26405         XL Pick-A-Size Paper Towel Rolls\n",
       "8         1   2398795  ...       10258                               Pistachios\n",
       "9         1   2398795  ...       13176                   Bag of Organic Bananas\n",
       "10        1   2398795  ...       13032                    Cinnamon Toast Crunch\n",
       "\n",
       "[11 rows x 8 columns]"
      ]
     },
     "execution_count": 210,
     "metadata": {
      "tags": []
     },
     "output_type": "execute_result"
    }
   ],
   "source": [
    "final = pd.merge(merged, products[['product_id', 'product_name']], how='inner', on='product_id')\n",
    "final.head(11)"
   ]
  },
  {
   "cell_type": "code",
   "execution_count": 211,
   "metadata": {
    "colab": {
     "base_uri": "https://localhost:8080/",
     "height": 312
    },
    "colab_type": "code",
    "id": "FYTWi-TYwIbl",
    "outputId": "e9f3712a-3eef-4301-9e66-b120b0215e63"
   },
   "outputs": [
    {
     "data": {
      "text/html": [
       "<img src=\"https://cdn-images-1.medium.com/max/1600/1*vYGFQCafJtGBBX5mbl0xyw.png\" width=\"600\"/>"
      ],
      "text/plain": [
       "<IPython.core.display.Image object>"
      ]
     },
     "metadata": {
      "tags": []
     },
     "output_type": "display_data"
    }
   ],
   "source": [
    "# are we there yet?\n",
    "display(example)"
   ]
  },
  {
   "cell_type": "markdown",
   "metadata": {
    "colab_type": "text",
    "id": "7c1bWRd1w0ln"
   },
   "source": [
    "### 3.2 Instacart Dataset: `melt` and `pivot_tables`"
   ]
  },
  {
   "cell_type": "markdown",
   "metadata": {
    "colab_type": "text",
    "id": "6p-IsG0jyXQj"
   },
   "source": [
    "**Goal: Reproduce part of this example**\n",
    "\n",
    "Instead of a plot with 50 products, we'll just do two — the first products from each list\n",
    "- Half And Half Ultra Pasteurized\n",
    "- Half Baked Frozen Yogurt"
   ]
  },
  {
   "cell_type": "code",
   "execution_count": 212,
   "metadata": {
    "colab": {
     "base_uri": "https://localhost:8080/",
     "height": 383
    },
    "colab_type": "code",
    "id": "Rs-_n9yjyZ15",
    "outputId": "d5359694-da11-4b4f-c946-4612aba7e481"
   },
   "outputs": [
    {
     "data": {
      "text/html": [
       "<img src=\"https://cdn-images-1.medium.com/max/1600/1*wKfV6OV-_1Ipwrl7AjjSuw.png\" width=\"600\"/>"
      ],
      "text/plain": [
       "<IPython.core.display.Image object>"
      ]
     },
     "metadata": {
      "tags": []
     },
     "output_type": "display_data"
    }
   ],
   "source": [
    "# This is code to display a `.png` file inside of a jupyter notebook.\n",
    "from IPython.display import display, Image\n",
    "url = 'https://cdn-images-1.medium.com/max/1600/1*wKfV6OV-_1Ipwrl7AjjSuw.png'\n",
    "red_green = Image(url=url, width=600)\n",
    "\n",
    "display(red_green)"
   ]
  },
  {
   "cell_type": "markdown",
   "metadata": {
    "colab_type": "text",
    "id": "Vj5GR7I4ydBg"
   },
   "source": [
    "So, given a `product_name` we need to calculate its `order_hour_of_day` pattern."
   ]
  },
  {
   "cell_type": "code",
   "execution_count": 0,
   "metadata": {
    "colab": {},
    "colab_type": "code",
    "id": "cfmygtdM5wNq"
   },
   "outputs": [],
   "source": [
    "# Read back in the datasets in their original form (no filters).\n",
    "products = pd.read_csv('products.csv')\n",
    "\n",
    "order_products = pd.concat([pd.read_csv('order_products__prior.csv'), \n",
    "                            pd.read_csv('order_products__train.csv')])\n",
    "\n",
    "orders = pd.read_csv('orders.csv')"
   ]
  },
  {
   "cell_type": "markdown",
   "metadata": {
    "colab_type": "text",
    "id": "Vc9_s7-LyhBI"
   },
   "source": [
    "####Subset and Merge\n",
    "\n",
    "One challenge of performing a merge on this data is that the `products` and `orders` datasets do not have any common columns that we can merge on. Due to this we will have to use the `order_products` dataset to provide the columns that we will use to perform the merge."
   ]
  },
  {
   "cell_type": "code",
   "execution_count": 0,
   "metadata": {
    "colab": {},
    "colab_type": "code",
    "id": "W1yHMS-OyUTH"
   },
   "outputs": [],
   "source": [
    "# We only want the first two products.\n",
    "product_names = ['Half Baked Frozen Yogurt', 'Half And Half Ultra Pasteurized']"
   ]
  },
  {
   "cell_type": "code",
   "execution_count": 223,
   "metadata": {
    "colab": {
     "base_uri": "https://localhost:8080/",
     "height": 140
    },
    "colab_type": "code",
    "id": "ale0n8457Ubi",
    "outputId": "4caaa30a-651e-40cf-a67e-d59d0b7c660f"
   },
   "outputs": [
    {
     "name": "stdout",
     "output_type": "stream",
     "text": [
      "(49688, 4)\n",
      "(2, 4)\n"
     ]
    },
    {
     "data": {
      "text/html": [
       "<div>\n",
       "<style scoped>\n",
       "    .dataframe tbody tr th:only-of-type {\n",
       "        vertical-align: middle;\n",
       "    }\n",
       "\n",
       "    .dataframe tbody tr th {\n",
       "        vertical-align: top;\n",
       "    }\n",
       "\n",
       "    .dataframe thead th {\n",
       "        text-align: right;\n",
       "    }\n",
       "</style>\n",
       "<table border=\"1\" class=\"dataframe\">\n",
       "  <thead>\n",
       "    <tr style=\"text-align: right;\">\n",
       "      <th></th>\n",
       "      <th>product_id</th>\n",
       "      <th>product_name</th>\n",
       "      <th>aisle_id</th>\n",
       "      <th>department_id</th>\n",
       "    </tr>\n",
       "  </thead>\n",
       "  <tbody>\n",
       "    <tr>\n",
       "      <th>9291</th>\n",
       "      <td>9292</td>\n",
       "      <td>Half And Half Ultra Pasteurized</td>\n",
       "      <td>84</td>\n",
       "      <td>16</td>\n",
       "    </tr>\n",
       "    <tr>\n",
       "      <th>30667</th>\n",
       "      <td>30668</td>\n",
       "      <td>Half Baked Frozen Yogurt</td>\n",
       "      <td>37</td>\n",
       "      <td>1</td>\n",
       "    </tr>\n",
       "  </tbody>\n",
       "</table>\n",
       "</div>"
      ],
      "text/plain": [
       "       product_id                     product_name  aisle_id  department_id\n",
       "9291         9292  Half And Half Ultra Pasteurized        84             16\n",
       "30667       30668         Half Baked Frozen Yogurt        37              1"
      ]
     },
     "execution_count": 223,
     "metadata": {
      "tags": []
     },
     "output_type": "execute_result"
    }
   ],
   "source": [
    "# Subset the products dataframe to only those two.\n",
    "condition = products['product_name'].isin(product_names)\n",
    "print(products.shape)\n",
    "products=products[condition]\n",
    "print(products.shape)\n",
    "products"
   ]
  },
  {
   "cell_type": "code",
   "execution_count": 227,
   "metadata": {
    "colab": {
     "base_uri": "https://localhost:8080/",
     "height": 212
    },
    "colab_type": "code",
    "id": "AyvXu7nC6X8E",
    "outputId": "65ae1efb-63fd-4db1-a93b-a6c029eb97f5"
   },
   "outputs": [
    {
     "name": "stdout",
     "output_type": "stream",
     "text": [
      "(5978, 4)\n"
     ]
    },
    {
     "data": {
      "text/html": [
       "<div>\n",
       "<style scoped>\n",
       "    .dataframe tbody tr th:only-of-type {\n",
       "        vertical-align: middle;\n",
       "    }\n",
       "\n",
       "    .dataframe tbody tr th {\n",
       "        vertical-align: top;\n",
       "    }\n",
       "\n",
       "    .dataframe thead th {\n",
       "        text-align: right;\n",
       "    }\n",
       "</style>\n",
       "<table border=\"1\" class=\"dataframe\">\n",
       "  <thead>\n",
       "    <tr style=\"text-align: right;\">\n",
       "      <th></th>\n",
       "      <th>product_id</th>\n",
       "      <th>product_name</th>\n",
       "      <th>order_id</th>\n",
       "      <th>order_hour_of_day</th>\n",
       "    </tr>\n",
       "  </thead>\n",
       "  <tbody>\n",
       "    <tr>\n",
       "      <th>0</th>\n",
       "      <td>9292</td>\n",
       "      <td>Half And Half Ultra Pasteurized</td>\n",
       "      <td>64</td>\n",
       "      <td>16</td>\n",
       "    </tr>\n",
       "    <tr>\n",
       "      <th>1</th>\n",
       "      <td>9292</td>\n",
       "      <td>Half And Half Ultra Pasteurized</td>\n",
       "      <td>1883</td>\n",
       "      <td>11</td>\n",
       "    </tr>\n",
       "    <tr>\n",
       "      <th>2</th>\n",
       "      <td>9292</td>\n",
       "      <td>Half And Half Ultra Pasteurized</td>\n",
       "      <td>5625</td>\n",
       "      <td>9</td>\n",
       "    </tr>\n",
       "    <tr>\n",
       "      <th>3</th>\n",
       "      <td>9292</td>\n",
       "      <td>Half And Half Ultra Pasteurized</td>\n",
       "      <td>7765</td>\n",
       "      <td>14</td>\n",
       "    </tr>\n",
       "    <tr>\n",
       "      <th>4</th>\n",
       "      <td>9292</td>\n",
       "      <td>Half And Half Ultra Pasteurized</td>\n",
       "      <td>7906</td>\n",
       "      <td>9</td>\n",
       "    </tr>\n",
       "  </tbody>\n",
       "</table>\n",
       "</div>"
      ],
      "text/plain": [
       "   product_id                     product_name  order_id  order_hour_of_day\n",
       "0        9292  Half And Half Ultra Pasteurized        64                 16\n",
       "1        9292  Half And Half Ultra Pasteurized      1883                 11\n",
       "2        9292  Half And Half Ultra Pasteurized      5625                  9\n",
       "3        9292  Half And Half Ultra Pasteurized      7765                 14\n",
       "4        9292  Half And Half Ultra Pasteurized      7906                  9"
      ]
     },
     "execution_count": 227,
     "metadata": {
      "tags": []
     },
     "output_type": "execute_result"
    }
   ],
   "source": [
    "# I need to associate the hour of the day with a specific product.\n",
    "# There's no common key between the `products` and `orders` df's to merge them.\n",
    "# But `order_products` allows me to join them (aka, the `join` table.)\n",
    "froyo_cream = (products[['product_id', 'product_name']]\n",
    "          .merge(order_products[['order_id', 'product_id']])\n",
    "          .merge(orders[['order_id', 'order_hour_of_day']]))\n",
    "print(froyo_cream.shape)\n",
    "froyo_cream.head()"
   ]
  },
  {
   "cell_type": "code",
   "execution_count": 229,
   "metadata": {
    "colab": {
     "base_uri": "https://localhost:8080/",
     "height": 67
    },
    "colab_type": "code",
    "id": "qFHAHLnc9Hqx",
    "outputId": "5dfbe115-66de-469f-a58f-199d6fd3886f"
   },
   "outputs": [
    {
     "name": "stdout",
     "output_type": "stream",
     "text": [
      "['Half Baked Frozen Yogurt', 'Half And Half Ultra Pasteurized']\n",
      "(2983, 4)\n",
      "(2995, 4)\n"
     ]
    }
   ],
   "source": [
    "# Subset all of that one more time.\n",
    "print(product_names)\n",
    "froyo = froyo_cream[froyo_cream['product_name']==product_names[0]]\n",
    "cream = froyo_cream[froyo_cream['product_name']==product_names[1]]\n",
    "print(froyo.shape)\n",
    "print(cream.shape)"
   ]
  },
  {
   "cell_type": "markdown",
   "metadata": {
    "colab_type": "text",
    "id": "UvhcadjFzx0Q"
   },
   "source": [
    "#### 4 ways to reshape and plot"
   ]
  },
  {
   "cell_type": "markdown",
   "metadata": {
    "colab_type": "text",
    "id": "aEE_nCWjzz7f"
   },
   "source": [
    "**1. value_counts**"
   ]
  },
  {
   "cell_type": "code",
   "execution_count": 235,
   "metadata": {
    "colab": {
     "base_uri": "https://localhost:8080/",
     "height": 454
    },
    "colab_type": "code",
    "id": "vTL3Cko87VL-",
    "outputId": "5d2b8bf5-5a37-4f16-b99d-046598b97985"
   },
   "outputs": [
    {
     "name": "stdout",
     "output_type": "stream",
     "text": [
      "2995\n",
      "2995\n"
     ]
    },
    {
     "data": {
      "text/plain": [
       "0       6\n",
       "1       1\n",
       "2       1\n",
       "4       1\n",
       "5       4\n",
       "6      25\n",
       "7      95\n",
       "8     323\n",
       "9     480\n",
       "10    429\n",
       "11    292\n",
       "12    200\n",
       "13    213\n",
       "14    215\n",
       "15    222\n",
       "16    218\n",
       "17    111\n",
       "18     56\n",
       "19     28\n",
       "20     32\n",
       "21     23\n",
       "22     12\n",
       "23      8\n",
       "Name: order_hour_of_day, dtype: int64"
      ]
     },
     "execution_count": 235,
     "metadata": {
      "tags": []
     },
     "output_type": "execute_result"
    }
   ],
   "source": [
    "# How many orders included cream, in total and at each hour of the day?\n",
    "print(cream['order_hour_of_day'].count())\n",
    "cream['order_hour_of_day'].value_counts().sort_index()"
   ]
  },
  {
   "cell_type": "code",
   "execution_count": 242,
   "metadata": {
    "colab": {
     "base_uri": "https://localhost:8080/",
     "height": 437
    },
    "colab_type": "code",
    "id": "EOvrm-MA-NtY",
    "outputId": "dff0c493-c0ae-4d8c-92a0-3994ce56864d"
   },
   "outputs": [
    {
     "name": "stdout",
     "output_type": "stream",
     "text": [
      "0.002\n"
     ]
    },
    {
     "data": {
      "text/plain": [
       "0     0.002003\n",
       "1     0.000334\n",
       "2     0.000334\n",
       "4     0.000334\n",
       "5     0.001336\n",
       "6     0.008347\n",
       "7     0.031720\n",
       "8     0.107846\n",
       "9     0.160267\n",
       "10    0.143239\n",
       "11    0.097496\n",
       "12    0.066778\n",
       "13    0.071119\n",
       "14    0.071786\n",
       "15    0.074124\n",
       "16    0.072788\n",
       "17    0.037062\n",
       "18    0.018698\n",
       "19    0.009349\n",
       "20    0.010684\n",
       "21    0.007679\n",
       "22    0.004007\n",
       "23    0.002671\n",
       "Name: order_hour_of_day, dtype: float64"
      ]
     },
     "execution_count": 242,
     "metadata": {
      "tags": []
     },
     "output_type": "execute_result"
    }
   ],
   "source": [
    "# Display that as percents rather than counts\n",
    "print(round(6/2995,5))\n",
    "cream_percents=cream['order_hour_of_day'].value_counts(normalize=True).sort_index()\n",
    "cream_percents"
   ]
  },
  {
   "cell_type": "code",
   "execution_count": 244,
   "metadata": {
    "colab": {
     "base_uri": "https://localhost:8080/",
     "height": 265
    },
    "colab_type": "code",
    "id": "lALVyDu5_QPn",
    "outputId": "6895bd0d-ee01-47ff-b5ad-6dc6e4edfed7"
   },
   "outputs": [
    {
     "data": {
      "image/png": "[encoded data removed]",
      "text/plain": [
       "<Figure size 432x288 with 1 Axes>"
      ]
     },
     "metadata": {
      "tags": []
     },
     "output_type": "display_data"
    }
   ],
   "source": [
    "# Display that in a plot using Panda's built-in graphics library\n",
    "cream_percents.plot();"
   ]
  },
  {
   "cell_type": "code",
   "execution_count": 240,
   "metadata": {
    "colab": {
     "base_uri": "https://localhost:8080/",
     "height": 265
    },
    "colab_type": "code",
    "id": "guPzny5o_JF_",
    "outputId": "a9dfaec8-ff1b-4669-fabf-4137a10f56bc"
   },
   "outputs": [
    {
     "data": {
      "image/png": "[encoded data removed]",
      "text/plain": [
       "<Figure size 432x288 with 1 Axes>"
      ]
     },
     "metadata": {
      "tags": []
     },
     "output_type": "display_data"
    }
   ],
   "source": [
    "# Display products both together.\n",
    "(cream['order_hour_of_day']\n",
    " .value_counts(normalize=True)\n",
    " .sort_index()\n",
    " .plot())\n",
    "\n",
    "(froyo['order_hour_of_day']\n",
    " .value_counts(normalize=True)\n",
    " .sort_index()\n",
    " .plot());"
   ]
  },
  {
   "cell_type": "markdown",
   "metadata": {
    "colab_type": "text",
    "id": "tMSd6YDj0BjE"
   },
   "source": [
    "**2. crosstab**"
   ]
  },
  {
   "cell_type": "code",
   "execution_count": 246,
   "metadata": {
    "colab": {
     "base_uri": "https://localhost:8080/",
     "height": 280
    },
    "colab_type": "code",
    "id": "Slu2bWYK0CZD",
    "outputId": "3d9e829c-8572-4c01-a0ab-6e4f9a342d53"
   },
   "outputs": [
    {
     "data": {
      "image/png": "[encoded data removed]",
      "text/plain": [
       "<Figure size 432x288 with 1 Axes>"
      ]
     },
     "metadata": {
      "tags": []
     },
     "output_type": "display_data"
    }
   ],
   "source": [
    "# You can get the same result using the `pd.crosstab` method\n",
    "# But it generates a legend and requires fewer steps\n",
    "pd.crosstab(froyo_cream['order_hour_of_day'], \n",
    "            froyo_cream['product_name'], \n",
    "            normalize='columns').plot();"
   ]
  },
  {
   "cell_type": "markdown",
   "metadata": {
    "colab_type": "text",
    "id": "ICjPVqO70Hv8"
   },
   "source": [
    "**3. Pivot Table**"
   ]
  },
  {
   "cell_type": "code",
   "execution_count": 248,
   "metadata": {
    "colab": {
     "base_uri": "https://localhost:8080/",
     "height": 283
    },
    "colab_type": "code",
    "id": "LQtMNVa10I_S",
    "outputId": "b5f36307-78d8-47db-853c-f8635f94746a"
   },
   "outputs": [
    {
     "data": {
      "image/png": "[encoded data removed]",
      "text/plain": [
       "<Figure size 432x288 with 1 Axes>"
      ]
     },
     "metadata": {
      "tags": []
     },
     "output_type": "display_data"
    }
   ],
   "source": [
    "# and again, but with the `pd.pivot_table` method\n",
    "froyo_cream.pivot_table(index='order_hour_of_day', \n",
    "                   columns='product_name', \n",
    "                   values='order_id', \n",
    "                   aggfunc=len).plot();"
   ]
  },
  {
   "cell_type": "markdown",
   "metadata": {
    "colab_type": "text",
    "id": "7A9jfBVv0M7e"
   },
   "source": [
    "**4. melt**"
   ]
  },
  {
   "cell_type": "code",
   "execution_count": 252,
   "metadata": {
    "colab": {
     "base_uri": "https://localhost:8080/",
     "height": 787
    },
    "colab_type": "code",
    "id": "2AmbAKm20PAg",
    "outputId": "32924b86-a83f-44a3-8e27-ba60c57e3055"
   },
   "outputs": [
    {
     "data": {
      "text/html": [
       "<div>\n",
       "<style scoped>\n",
       "    .dataframe tbody tr th:only-of-type {\n",
       "        vertical-align: middle;\n",
       "    }\n",
       "\n",
       "    .dataframe tbody tr th {\n",
       "        vertical-align: top;\n",
       "    }\n",
       "\n",
       "    .dataframe thead th {\n",
       "        text-align: right;\n",
       "    }\n",
       "</style>\n",
       "<table border=\"1\" class=\"dataframe\">\n",
       "  <thead>\n",
       "    <tr style=\"text-align: right;\">\n",
       "      <th>product_name</th>\n",
       "      <th>Half And Half Ultra Pasteurized</th>\n",
       "      <th>Half Baked Frozen Yogurt</th>\n",
       "    </tr>\n",
       "    <tr>\n",
       "      <th>order_hour_of_day</th>\n",
       "      <th></th>\n",
       "      <th></th>\n",
       "    </tr>\n",
       "  </thead>\n",
       "  <tbody>\n",
       "    <tr>\n",
       "      <th>0</th>\n",
       "      <td>0.001004</td>\n",
       "      <td>0.002676</td>\n",
       "    </tr>\n",
       "    <tr>\n",
       "      <th>1</th>\n",
       "      <td>0.000167</td>\n",
       "      <td>0.001338</td>\n",
       "    </tr>\n",
       "    <tr>\n",
       "      <th>2</th>\n",
       "      <td>0.000167</td>\n",
       "      <td>0.001338</td>\n",
       "    </tr>\n",
       "    <tr>\n",
       "      <th>3</th>\n",
       "      <td>0.000000</td>\n",
       "      <td>0.000502</td>\n",
       "    </tr>\n",
       "    <tr>\n",
       "      <th>4</th>\n",
       "      <td>0.000167</td>\n",
       "      <td>0.000335</td>\n",
       "    </tr>\n",
       "    <tr>\n",
       "      <th>5</th>\n",
       "      <td>0.000669</td>\n",
       "      <td>0.001673</td>\n",
       "    </tr>\n",
       "    <tr>\n",
       "      <th>6</th>\n",
       "      <td>0.004182</td>\n",
       "      <td>0.003011</td>\n",
       "    </tr>\n",
       "    <tr>\n",
       "      <th>7</th>\n",
       "      <td>0.015892</td>\n",
       "      <td>0.009870</td>\n",
       "    </tr>\n",
       "    <tr>\n",
       "      <th>8</th>\n",
       "      <td>0.054031</td>\n",
       "      <td>0.014888</td>\n",
       "    </tr>\n",
       "    <tr>\n",
       "      <th>9</th>\n",
       "      <td>0.080294</td>\n",
       "      <td>0.021412</td>\n",
       "    </tr>\n",
       "    <tr>\n",
       "      <th>10</th>\n",
       "      <td>0.071763</td>\n",
       "      <td>0.029441</td>\n",
       "    </tr>\n",
       "    <tr>\n",
       "      <th>11</th>\n",
       "      <td>0.048846</td>\n",
       "      <td>0.033791</td>\n",
       "    </tr>\n",
       "    <tr>\n",
       "      <th>12</th>\n",
       "      <td>0.033456</td>\n",
       "      <td>0.032452</td>\n",
       "    </tr>\n",
       "    <tr>\n",
       "      <th>13</th>\n",
       "      <td>0.035631</td>\n",
       "      <td>0.039311</td>\n",
       "    </tr>\n",
       "    <tr>\n",
       "      <th>14</th>\n",
       "      <td>0.035965</td>\n",
       "      <td>0.042155</td>\n",
       "    </tr>\n",
       "    <tr>\n",
       "      <th>15</th>\n",
       "      <td>0.037136</td>\n",
       "      <td>0.047508</td>\n",
       "    </tr>\n",
       "    <tr>\n",
       "      <th>16</th>\n",
       "      <td>0.036467</td>\n",
       "      <td>0.046002</td>\n",
       "    </tr>\n",
       "    <tr>\n",
       "      <th>17</th>\n",
       "      <td>0.018568</td>\n",
       "      <td>0.042322</td>\n",
       "    </tr>\n",
       "    <tr>\n",
       "      <th>18</th>\n",
       "      <td>0.009368</td>\n",
       "      <td>0.042656</td>\n",
       "    </tr>\n",
       "    <tr>\n",
       "      <th>19</th>\n",
       "      <td>0.004684</td>\n",
       "      <td>0.033121</td>\n",
       "    </tr>\n",
       "    <tr>\n",
       "      <th>20</th>\n",
       "      <td>0.005353</td>\n",
       "      <td>0.024590</td>\n",
       "    </tr>\n",
       "    <tr>\n",
       "      <th>21</th>\n",
       "      <td>0.003847</td>\n",
       "      <td>0.014386</td>\n",
       "    </tr>\n",
       "    <tr>\n",
       "      <th>22</th>\n",
       "      <td>0.002007</td>\n",
       "      <td>0.008197</td>\n",
       "    </tr>\n",
       "    <tr>\n",
       "      <th>23</th>\n",
       "      <td>0.001338</td>\n",
       "      <td>0.006022</td>\n",
       "    </tr>\n",
       "  </tbody>\n",
       "</table>\n",
       "</div>"
      ],
      "text/plain": [
       "product_name       Half And Half Ultra Pasteurized  Half Baked Frozen Yogurt\n",
       "order_hour_of_day                                                           \n",
       "0                                         0.001004                  0.002676\n",
       "1                                         0.000167                  0.001338\n",
       "2                                         0.000167                  0.001338\n",
       "3                                         0.000000                  0.000502\n",
       "4                                         0.000167                  0.000335\n",
       "5                                         0.000669                  0.001673\n",
       "6                                         0.004182                  0.003011\n",
       "7                                         0.015892                  0.009870\n",
       "8                                         0.054031                  0.014888\n",
       "9                                         0.080294                  0.021412\n",
       "10                                        0.071763                  0.029441\n",
       "11                                        0.048846                  0.033791\n",
       "12                                        0.033456                  0.032452\n",
       "13                                        0.035631                  0.039311\n",
       "14                                        0.035965                  0.042155\n",
       "15                                        0.037136                  0.047508\n",
       "16                                        0.036467                  0.046002\n",
       "17                                        0.018568                  0.042322\n",
       "18                                        0.009368                  0.042656\n",
       "19                                        0.004684                  0.033121\n",
       "20                                        0.005353                  0.024590\n",
       "21                                        0.003847                  0.014386\n",
       "22                                        0.002007                  0.008197\n",
       "23                                        0.001338                  0.006022"
      ]
     },
     "execution_count": 252,
     "metadata": {
      "tags": []
     },
     "output_type": "execute_result"
    }
   ],
   "source": [
    "# Finally, what if we want to reshape the table?\n",
    "# First, let's display it in `wide` format.\n",
    "wide_table = pd.crosstab(froyo_cream['order_hour_of_day'], \n",
    "                    froyo_cream['product_name'], \n",
    "                    normalize=True)\n",
    "wide_table"
   ]
  },
  {
   "cell_type": "code",
   "execution_count": 253,
   "metadata": {
    "colab": {
     "base_uri": "https://localhost:8080/",
     "height": 1000
    },
    "colab_type": "code",
    "id": "hDyiCTOtAuq5",
    "outputId": "f4fb7d69-d3fc-42d3-a68c-fd7e8ed72b5e"
   },
   "outputs": [
    {
     "data": {
      "text/html": [
       "<div>\n",
       "<style scoped>\n",
       "    .dataframe tbody tr th:only-of-type {\n",
       "        vertical-align: middle;\n",
       "    }\n",
       "\n",
       "    .dataframe tbody tr th {\n",
       "        vertical-align: top;\n",
       "    }\n",
       "\n",
       "    .dataframe thead th {\n",
       "        text-align: right;\n",
       "    }\n",
       "</style>\n",
       "<table border=\"1\" class=\"dataframe\">\n",
       "  <thead>\n",
       "    <tr style=\"text-align: right;\">\n",
       "      <th></th>\n",
       "      <th>Hour of Day Ordered</th>\n",
       "      <th>Product</th>\n",
       "      <th>Percent of Orders by Product</th>\n",
       "    </tr>\n",
       "  </thead>\n",
       "  <tbody>\n",
       "    <tr>\n",
       "      <th>0</th>\n",
       "      <td>0</td>\n",
       "      <td>Half And Half Ultra Pasteurized</td>\n",
       "      <td>0.001004</td>\n",
       "    </tr>\n",
       "    <tr>\n",
       "      <th>1</th>\n",
       "      <td>1</td>\n",
       "      <td>Half And Half Ultra Pasteurized</td>\n",
       "      <td>0.000167</td>\n",
       "    </tr>\n",
       "    <tr>\n",
       "      <th>2</th>\n",
       "      <td>2</td>\n",
       "      <td>Half And Half Ultra Pasteurized</td>\n",
       "      <td>0.000167</td>\n",
       "    </tr>\n",
       "    <tr>\n",
       "      <th>3</th>\n",
       "      <td>3</td>\n",
       "      <td>Half And Half Ultra Pasteurized</td>\n",
       "      <td>0.000000</td>\n",
       "    </tr>\n",
       "    <tr>\n",
       "      <th>4</th>\n",
       "      <td>4</td>\n",
       "      <td>Half And Half Ultra Pasteurized</td>\n",
       "      <td>0.000167</td>\n",
       "    </tr>\n",
       "    <tr>\n",
       "      <th>5</th>\n",
       "      <td>5</td>\n",
       "      <td>Half And Half Ultra Pasteurized</td>\n",
       "      <td>0.000669</td>\n",
       "    </tr>\n",
       "    <tr>\n",
       "      <th>6</th>\n",
       "      <td>6</td>\n",
       "      <td>Half And Half Ultra Pasteurized</td>\n",
       "      <td>0.004182</td>\n",
       "    </tr>\n",
       "    <tr>\n",
       "      <th>7</th>\n",
       "      <td>7</td>\n",
       "      <td>Half And Half Ultra Pasteurized</td>\n",
       "      <td>0.015892</td>\n",
       "    </tr>\n",
       "    <tr>\n",
       "      <th>8</th>\n",
       "      <td>8</td>\n",
       "      <td>Half And Half Ultra Pasteurized</td>\n",
       "      <td>0.054031</td>\n",
       "    </tr>\n",
       "    <tr>\n",
       "      <th>9</th>\n",
       "      <td>9</td>\n",
       "      <td>Half And Half Ultra Pasteurized</td>\n",
       "      <td>0.080294</td>\n",
       "    </tr>\n",
       "    <tr>\n",
       "      <th>10</th>\n",
       "      <td>10</td>\n",
       "      <td>Half And Half Ultra Pasteurized</td>\n",
       "      <td>0.071763</td>\n",
       "    </tr>\n",
       "    <tr>\n",
       "      <th>11</th>\n",
       "      <td>11</td>\n",
       "      <td>Half And Half Ultra Pasteurized</td>\n",
       "      <td>0.048846</td>\n",
       "    </tr>\n",
       "    <tr>\n",
       "      <th>12</th>\n",
       "      <td>12</td>\n",
       "      <td>Half And Half Ultra Pasteurized</td>\n",
       "      <td>0.033456</td>\n",
       "    </tr>\n",
       "    <tr>\n",
       "      <th>13</th>\n",
       "      <td>13</td>\n",
       "      <td>Half And Half Ultra Pasteurized</td>\n",
       "      <td>0.035631</td>\n",
       "    </tr>\n",
       "    <tr>\n",
       "      <th>14</th>\n",
       "      <td>14</td>\n",
       "      <td>Half And Half Ultra Pasteurized</td>\n",
       "      <td>0.035965</td>\n",
       "    </tr>\n",
       "    <tr>\n",
       "      <th>15</th>\n",
       "      <td>15</td>\n",
       "      <td>Half And Half Ultra Pasteurized</td>\n",
       "      <td>0.037136</td>\n",
       "    </tr>\n",
       "    <tr>\n",
       "      <th>16</th>\n",
       "      <td>16</td>\n",
       "      <td>Half And Half Ultra Pasteurized</td>\n",
       "      <td>0.036467</td>\n",
       "    </tr>\n",
       "    <tr>\n",
       "      <th>17</th>\n",
       "      <td>17</td>\n",
       "      <td>Half And Half Ultra Pasteurized</td>\n",
       "      <td>0.018568</td>\n",
       "    </tr>\n",
       "    <tr>\n",
       "      <th>18</th>\n",
       "      <td>18</td>\n",
       "      <td>Half And Half Ultra Pasteurized</td>\n",
       "      <td>0.009368</td>\n",
       "    </tr>\n",
       "    <tr>\n",
       "      <th>19</th>\n",
       "      <td>19</td>\n",
       "      <td>Half And Half Ultra Pasteurized</td>\n",
       "      <td>0.004684</td>\n",
       "    </tr>\n",
       "    <tr>\n",
       "      <th>20</th>\n",
       "      <td>20</td>\n",
       "      <td>Half And Half Ultra Pasteurized</td>\n",
       "      <td>0.005353</td>\n",
       "    </tr>\n",
       "    <tr>\n",
       "      <th>21</th>\n",
       "      <td>21</td>\n",
       "      <td>Half And Half Ultra Pasteurized</td>\n",
       "      <td>0.003847</td>\n",
       "    </tr>\n",
       "    <tr>\n",
       "      <th>22</th>\n",
       "      <td>22</td>\n",
       "      <td>Half And Half Ultra Pasteurized</td>\n",
       "      <td>0.002007</td>\n",
       "    </tr>\n",
       "    <tr>\n",
       "      <th>23</th>\n",
       "      <td>23</td>\n",
       "      <td>Half And Half Ultra Pasteurized</td>\n",
       "      <td>0.001338</td>\n",
       "    </tr>\n",
       "    <tr>\n",
       "      <th>24</th>\n",
       "      <td>0</td>\n",
       "      <td>Half Baked Frozen Yogurt</td>\n",
       "      <td>0.002676</td>\n",
       "    </tr>\n",
       "    <tr>\n",
       "      <th>25</th>\n",
       "      <td>1</td>\n",
       "      <td>Half Baked Frozen Yogurt</td>\n",
       "      <td>0.001338</td>\n",
       "    </tr>\n",
       "    <tr>\n",
       "      <th>26</th>\n",
       "      <td>2</td>\n",
       "      <td>Half Baked Frozen Yogurt</td>\n",
       "      <td>0.001338</td>\n",
       "    </tr>\n",
       "    <tr>\n",
       "      <th>27</th>\n",
       "      <td>3</td>\n",
       "      <td>Half Baked Frozen Yogurt</td>\n",
       "      <td>0.000502</td>\n",
       "    </tr>\n",
       "    <tr>\n",
       "      <th>28</th>\n",
       "      <td>4</td>\n",
       "      <td>Half Baked Frozen Yogurt</td>\n",
       "      <td>0.000335</td>\n",
       "    </tr>\n",
       "    <tr>\n",
       "      <th>29</th>\n",
       "      <td>5</td>\n",
       "      <td>Half Baked Frozen Yogurt</td>\n",
       "      <td>0.001673</td>\n",
       "    </tr>\n",
       "    <tr>\n",
       "      <th>30</th>\n",
       "      <td>6</td>\n",
       "      <td>Half Baked Frozen Yogurt</td>\n",
       "      <td>0.003011</td>\n",
       "    </tr>\n",
       "    <tr>\n",
       "      <th>31</th>\n",
       "      <td>7</td>\n",
       "      <td>Half Baked Frozen Yogurt</td>\n",
       "      <td>0.009870</td>\n",
       "    </tr>\n",
       "    <tr>\n",
       "      <th>32</th>\n",
       "      <td>8</td>\n",
       "      <td>Half Baked Frozen Yogurt</td>\n",
       "      <td>0.014888</td>\n",
       "    </tr>\n",
       "    <tr>\n",
       "      <th>33</th>\n",
       "      <td>9</td>\n",
       "      <td>Half Baked Frozen Yogurt</td>\n",
       "      <td>0.021412</td>\n",
       "    </tr>\n",
       "    <tr>\n",
       "      <th>34</th>\n",
       "      <td>10</td>\n",
       "      <td>Half Baked Frozen Yogurt</td>\n",
       "      <td>0.029441</td>\n",
       "    </tr>\n",
       "    <tr>\n",
       "      <th>35</th>\n",
       "      <td>11</td>\n",
       "      <td>Half Baked Frozen Yogurt</td>\n",
       "      <td>0.033791</td>\n",
       "    </tr>\n",
       "    <tr>\n",
       "      <th>36</th>\n",
       "      <td>12</td>\n",
       "      <td>Half Baked Frozen Yogurt</td>\n",
       "      <td>0.032452</td>\n",
       "    </tr>\n",
       "    <tr>\n",
       "      <th>37</th>\n",
       "      <td>13</td>\n",
       "      <td>Half Baked Frozen Yogurt</td>\n",
       "      <td>0.039311</td>\n",
       "    </tr>\n",
       "    <tr>\n",
       "      <th>38</th>\n",
       "      <td>14</td>\n",
       "      <td>Half Baked Frozen Yogurt</td>\n",
       "      <td>0.042155</td>\n",
       "    </tr>\n",
       "    <tr>\n",
       "      <th>39</th>\n",
       "      <td>15</td>\n",
       "      <td>Half Baked Frozen Yogurt</td>\n",
       "      <td>0.047508</td>\n",
       "    </tr>\n",
       "    <tr>\n",
       "      <th>40</th>\n",
       "      <td>16</td>\n",
       "      <td>Half Baked Frozen Yogurt</td>\n",
       "      <td>0.046002</td>\n",
       "    </tr>\n",
       "    <tr>\n",
       "      <th>41</th>\n",
       "      <td>17</td>\n",
       "      <td>Half Baked Frozen Yogurt</td>\n",
       "      <td>0.042322</td>\n",
       "    </tr>\n",
       "    <tr>\n",
       "      <th>42</th>\n",
       "      <td>18</td>\n",
       "      <td>Half Baked Frozen Yogurt</td>\n",
       "      <td>0.042656</td>\n",
       "    </tr>\n",
       "    <tr>\n",
       "      <th>43</th>\n",
       "      <td>19</td>\n",
       "      <td>Half Baked Frozen Yogurt</td>\n",
       "      <td>0.033121</td>\n",
       "    </tr>\n",
       "    <tr>\n",
       "      <th>44</th>\n",
       "      <td>20</td>\n",
       "      <td>Half Baked Frozen Yogurt</td>\n",
       "      <td>0.024590</td>\n",
       "    </tr>\n",
       "    <tr>\n",
       "      <th>45</th>\n",
       "      <td>21</td>\n",
       "      <td>Half Baked Frozen Yogurt</td>\n",
       "      <td>0.014386</td>\n",
       "    </tr>\n",
       "    <tr>\n",
       "      <th>46</th>\n",
       "      <td>22</td>\n",
       "      <td>Half Baked Frozen Yogurt</td>\n",
       "      <td>0.008197</td>\n",
       "    </tr>\n",
       "    <tr>\n",
       "      <th>47</th>\n",
       "      <td>23</td>\n",
       "      <td>Half Baked Frozen Yogurt</td>\n",
       "      <td>0.006022</td>\n",
       "    </tr>\n",
       "  </tbody>\n",
       "</table>\n",
       "</div>"
      ],
      "text/plain": [
       "    Hour of Day Ordered  ... Percent of Orders by Product\n",
       "0                     0  ...                     0.001004\n",
       "1                     1  ...                     0.000167\n",
       "2                     2  ...                     0.000167\n",
       "3                     3  ...                     0.000000\n",
       "4                     4  ...                     0.000167\n",
       "5                     5  ...                     0.000669\n",
       "6                     6  ...                     0.004182\n",
       "7                     7  ...                     0.015892\n",
       "8                     8  ...                     0.054031\n",
       "9                     9  ...                     0.080294\n",
       "10                   10  ...                     0.071763\n",
       "11                   11  ...                     0.048846\n",
       "12                   12  ...                     0.033456\n",
       "13                   13  ...                     0.035631\n",
       "14                   14  ...                     0.035965\n",
       "15                   15  ...                     0.037136\n",
       "16                   16  ...                     0.036467\n",
       "17                   17  ...                     0.018568\n",
       "18                   18  ...                     0.009368\n",
       "19                   19  ...                     0.004684\n",
       "20                   20  ...                     0.005353\n",
       "21                   21  ...                     0.003847\n",
       "22                   22  ...                     0.002007\n",
       "23                   23  ...                     0.001338\n",
       "24                    0  ...                     0.002676\n",
       "25                    1  ...                     0.001338\n",
       "26                    2  ...                     0.001338\n",
       "27                    3  ...                     0.000502\n",
       "28                    4  ...                     0.000335\n",
       "29                    5  ...                     0.001673\n",
       "30                    6  ...                     0.003011\n",
       "31                    7  ...                     0.009870\n",
       "32                    8  ...                     0.014888\n",
       "33                    9  ...                     0.021412\n",
       "34                   10  ...                     0.029441\n",
       "35                   11  ...                     0.033791\n",
       "36                   12  ...                     0.032452\n",
       "37                   13  ...                     0.039311\n",
       "38                   14  ...                     0.042155\n",
       "39                   15  ...                     0.047508\n",
       "40                   16  ...                     0.046002\n",
       "41                   17  ...                     0.042322\n",
       "42                   18  ...                     0.042656\n",
       "43                   19  ...                     0.033121\n",
       "44                   20  ...                     0.024590\n",
       "45                   21  ...                     0.014386\n",
       "46                   22  ...                     0.008197\n",
       "47                   23  ...                     0.006022\n",
       "\n",
       "[48 rows x 3 columns]"
      ]
     },
     "execution_count": 253,
     "metadata": {
      "tags": []
     },
     "output_type": "execute_result"
    }
   ],
   "source": [
    "# Now let's convert from wide to tidy format.\n",
    "tidy_table = wide_table.reset_index().melt(id_vars='order_hour_of_day').rename(columns={\n",
    "     'order_hour_of_day': 'Hour of Day Ordered', \n",
    "     'product_name': 'Product', \n",
    "     'value': 'Percent of Orders by Product'\n",
    " })\n",
    "\n",
    "tidy_table"
   ]
  },
  {
   "cell_type": "code",
   "execution_count": 254,
   "metadata": {
    "colab": {
     "base_uri": "https://localhost:8080/",
     "height": 369
    },
    "colab_type": "code",
    "id": "7epjInQ4Adta",
    "outputId": "3abbb7db-c7c7-454d-d90c-8bd85f26b7a2"
   },
   "outputs": [
    {
     "data": {
      "image/png": "[encoded data removed]",
      "text/plain": [
       "<Figure size 551.125x360 with 1 Axes>"
      ]
     },
     "metadata": {
      "tags": []
     },
     "output_type": "display_data"
    }
   ],
   "source": [
    "# Display that using the seaborn plotting library.\n",
    "sns.relplot(x='Hour of Day Ordered', \n",
    "            y='Percent of Orders by Product', \n",
    "            hue='Product', \n",
    "            data=tidy_table, \n",
    "            kind='line');"
   ]
  },
  {
   "cell_type": "code",
   "execution_count": 0,
   "metadata": {
    "colab": {},
    "colab_type": "code",
    "id": "yUqp0LP7BU95"
   },
   "outputs": [],
   "source": []
  }
 ],
 "metadata": {
  "colab": {
   "collapsed_sections": [],
   "name": "LS_DS_113_Join_and_Reshape_Data.ipynb",
   "provenance": []
  },
  "kernelspec": {
   "display_name": "Python 3",
   "language": "python",
   "name": "python3"
  },
  "language_info": {
   "codemirror_mode": {
    "name": "ipython",
    "version": 3
   },
   "file_extension": ".py",
   "mimetype": "text/x-python",
   "name": "python",
   "nbconvert_exporter": "python",
   "pygments_lexer": "ipython3",
   "version": "3.7.3"
  }
 },
 "nbformat": 4,
 "nbformat_minor": 1
}
